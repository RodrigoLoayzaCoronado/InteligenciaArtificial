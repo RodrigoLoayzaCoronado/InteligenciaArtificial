{
  "nbformat": 4,
  "nbformat_minor": 0,
  "metadata": {
    "colab": {
      "provenance": []
    },
    "kernelspec": {
      "name": "python3",
      "display_name": "Python 3"
    },
    "language_info": {
      "name": "python"
    },
    "widgets": {
      "application/vnd.jupyter.widget-state+json": {
        "a24886589997477dba0b842e7c8ab2f7": {
          "model_module": "@jupyter-widgets/controls",
          "model_name": "FloatTextModel",
          "model_module_version": "1.5.0",
          "state": {
            "_dom_classes": [],
            "_model_module": "@jupyter-widgets/controls",
            "_model_module_version": "1.5.0",
            "_model_name": "FloatTextModel",
            "_view_count": null,
            "_view_module": "@jupyter-widgets/controls",
            "_view_module_version": "1.5.0",
            "_view_name": "FloatTextView",
            "continuous_update": false,
            "description": "Característica 1",
            "description_tooltip": null,
            "disabled": false,
            "layout": "IPY_MODEL_9900fd9025f348d08d60e90cc69e420c",
            "step": null,
            "style": "IPY_MODEL_3b79fb231b104e8ca42728736e9856cd",
            "value": 0
          }
        },
        "9900fd9025f348d08d60e90cc69e420c": {
          "model_module": "@jupyter-widgets/base",
          "model_name": "LayoutModel",
          "model_module_version": "1.2.0",
          "state": {
            "_model_module": "@jupyter-widgets/base",
            "_model_module_version": "1.2.0",
            "_model_name": "LayoutModel",
            "_view_count": null,
            "_view_module": "@jupyter-widgets/base",
            "_view_module_version": "1.2.0",
            "_view_name": "LayoutView",
            "align_content": null,
            "align_items": null,
            "align_self": null,
            "border": null,
            "bottom": null,
            "display": null,
            "flex": null,
            "flex_flow": null,
            "grid_area": null,
            "grid_auto_columns": null,
            "grid_auto_flow": null,
            "grid_auto_rows": null,
            "grid_column": null,
            "grid_gap": null,
            "grid_row": null,
            "grid_template_areas": null,
            "grid_template_columns": null,
            "grid_template_rows": null,
            "height": null,
            "justify_content": null,
            "justify_items": null,
            "left": null,
            "margin": null,
            "max_height": null,
            "max_width": null,
            "min_height": null,
            "min_width": null,
            "object_fit": null,
            "object_position": null,
            "order": null,
            "overflow": null,
            "overflow_x": null,
            "overflow_y": null,
            "padding": null,
            "right": null,
            "top": null,
            "visibility": null,
            "width": null
          }
        },
        "3b79fb231b104e8ca42728736e9856cd": {
          "model_module": "@jupyter-widgets/controls",
          "model_name": "DescriptionStyleModel",
          "model_module_version": "1.5.0",
          "state": {
            "_model_module": "@jupyter-widgets/controls",
            "_model_module_version": "1.5.0",
            "_model_name": "DescriptionStyleModel",
            "_view_count": null,
            "_view_module": "@jupyter-widgets/base",
            "_view_module_version": "1.2.0",
            "_view_name": "StyleView",
            "description_width": ""
          }
        },
        "04dce824ce86486184e56375bc7fddfc": {
          "model_module": "@jupyter-widgets/controls",
          "model_name": "FloatTextModel",
          "model_module_version": "1.5.0",
          "state": {
            "_dom_classes": [],
            "_model_module": "@jupyter-widgets/controls",
            "_model_module_version": "1.5.0",
            "_model_name": "FloatTextModel",
            "_view_count": null,
            "_view_module": "@jupyter-widgets/controls",
            "_view_module_version": "1.5.0",
            "_view_name": "FloatTextView",
            "continuous_update": false,
            "description": "Característica 2",
            "description_tooltip": null,
            "disabled": false,
            "layout": "IPY_MODEL_003eafb8576e4a21904f2c47b23e75a2",
            "step": null,
            "style": "IPY_MODEL_f2ce905710814b31826e2a7d7002f207",
            "value": 0
          }
        },
        "003eafb8576e4a21904f2c47b23e75a2": {
          "model_module": "@jupyter-widgets/base",
          "model_name": "LayoutModel",
          "model_module_version": "1.2.0",
          "state": {
            "_model_module": "@jupyter-widgets/base",
            "_model_module_version": "1.2.0",
            "_model_name": "LayoutModel",
            "_view_count": null,
            "_view_module": "@jupyter-widgets/base",
            "_view_module_version": "1.2.0",
            "_view_name": "LayoutView",
            "align_content": null,
            "align_items": null,
            "align_self": null,
            "border": null,
            "bottom": null,
            "display": null,
            "flex": null,
            "flex_flow": null,
            "grid_area": null,
            "grid_auto_columns": null,
            "grid_auto_flow": null,
            "grid_auto_rows": null,
            "grid_column": null,
            "grid_gap": null,
            "grid_row": null,
            "grid_template_areas": null,
            "grid_template_columns": null,
            "grid_template_rows": null,
            "height": null,
            "justify_content": null,
            "justify_items": null,
            "left": null,
            "margin": null,
            "max_height": null,
            "max_width": null,
            "min_height": null,
            "min_width": null,
            "object_fit": null,
            "object_position": null,
            "order": null,
            "overflow": null,
            "overflow_x": null,
            "overflow_y": null,
            "padding": null,
            "right": null,
            "top": null,
            "visibility": null,
            "width": null
          }
        },
        "f2ce905710814b31826e2a7d7002f207": {
          "model_module": "@jupyter-widgets/controls",
          "model_name": "DescriptionStyleModel",
          "model_module_version": "1.5.0",
          "state": {
            "_model_module": "@jupyter-widgets/controls",
            "_model_module_version": "1.5.0",
            "_model_name": "DescriptionStyleModel",
            "_view_count": null,
            "_view_module": "@jupyter-widgets/base",
            "_view_module_version": "1.2.0",
            "_view_name": "StyleView",
            "description_width": ""
          }
        },
        "76b96ab8e4c749d497cfc865a22b15cb": {
          "model_module": "@jupyter-widgets/controls",
          "model_name": "FloatTextModel",
          "model_module_version": "1.5.0",
          "state": {
            "_dom_classes": [],
            "_model_module": "@jupyter-widgets/controls",
            "_model_module_version": "1.5.0",
            "_model_name": "FloatTextModel",
            "_view_count": null,
            "_view_module": "@jupyter-widgets/controls",
            "_view_module_version": "1.5.0",
            "_view_name": "FloatTextView",
            "continuous_update": false,
            "description": "Característica 3",
            "description_tooltip": null,
            "disabled": false,
            "layout": "IPY_MODEL_fc032e0025924d0eb1d2891b952492a5",
            "step": null,
            "style": "IPY_MODEL_945aee57c4504213a5068cc11a0ba792",
            "value": 0
          }
        },
        "fc032e0025924d0eb1d2891b952492a5": {
          "model_module": "@jupyter-widgets/base",
          "model_name": "LayoutModel",
          "model_module_version": "1.2.0",
          "state": {
            "_model_module": "@jupyter-widgets/base",
            "_model_module_version": "1.2.0",
            "_model_name": "LayoutModel",
            "_view_count": null,
            "_view_module": "@jupyter-widgets/base",
            "_view_module_version": "1.2.0",
            "_view_name": "LayoutView",
            "align_content": null,
            "align_items": null,
            "align_self": null,
            "border": null,
            "bottom": null,
            "display": null,
            "flex": null,
            "flex_flow": null,
            "grid_area": null,
            "grid_auto_columns": null,
            "grid_auto_flow": null,
            "grid_auto_rows": null,
            "grid_column": null,
            "grid_gap": null,
            "grid_row": null,
            "grid_template_areas": null,
            "grid_template_columns": null,
            "grid_template_rows": null,
            "height": null,
            "justify_content": null,
            "justify_items": null,
            "left": null,
            "margin": null,
            "max_height": null,
            "max_width": null,
            "min_height": null,
            "min_width": null,
            "object_fit": null,
            "object_position": null,
            "order": null,
            "overflow": null,
            "overflow_x": null,
            "overflow_y": null,
            "padding": null,
            "right": null,
            "top": null,
            "visibility": null,
            "width": null
          }
        },
        "945aee57c4504213a5068cc11a0ba792": {
          "model_module": "@jupyter-widgets/controls",
          "model_name": "DescriptionStyleModel",
          "model_module_version": "1.5.0",
          "state": {
            "_model_module": "@jupyter-widgets/controls",
            "_model_module_version": "1.5.0",
            "_model_name": "DescriptionStyleModel",
            "_view_count": null,
            "_view_module": "@jupyter-widgets/base",
            "_view_module_version": "1.2.0",
            "_view_name": "StyleView",
            "description_width": ""
          }
        },
        "8a4ef9f8194c477dbce8f3aa74f42bd3": {
          "model_module": "@jupyter-widgets/controls",
          "model_name": "FloatTextModel",
          "model_module_version": "1.5.0",
          "state": {
            "_dom_classes": [],
            "_model_module": "@jupyter-widgets/controls",
            "_model_module_version": "1.5.0",
            "_model_name": "FloatTextModel",
            "_view_count": null,
            "_view_module": "@jupyter-widgets/controls",
            "_view_module_version": "1.5.0",
            "_view_name": "FloatTextView",
            "continuous_update": false,
            "description": "Característica 4",
            "description_tooltip": null,
            "disabled": false,
            "layout": "IPY_MODEL_6428d0f5483342b8a3ee1593733eebc4",
            "step": null,
            "style": "IPY_MODEL_bff89026b12b46409a7cb0e41c59f628",
            "value": 0
          }
        },
        "6428d0f5483342b8a3ee1593733eebc4": {
          "model_module": "@jupyter-widgets/base",
          "model_name": "LayoutModel",
          "model_module_version": "1.2.0",
          "state": {
            "_model_module": "@jupyter-widgets/base",
            "_model_module_version": "1.2.0",
            "_model_name": "LayoutModel",
            "_view_count": null,
            "_view_module": "@jupyter-widgets/base",
            "_view_module_version": "1.2.0",
            "_view_name": "LayoutView",
            "align_content": null,
            "align_items": null,
            "align_self": null,
            "border": null,
            "bottom": null,
            "display": null,
            "flex": null,
            "flex_flow": null,
            "grid_area": null,
            "grid_auto_columns": null,
            "grid_auto_flow": null,
            "grid_auto_rows": null,
            "grid_column": null,
            "grid_gap": null,
            "grid_row": null,
            "grid_template_areas": null,
            "grid_template_columns": null,
            "grid_template_rows": null,
            "height": null,
            "justify_content": null,
            "justify_items": null,
            "left": null,
            "margin": null,
            "max_height": null,
            "max_width": null,
            "min_height": null,
            "min_width": null,
            "object_fit": null,
            "object_position": null,
            "order": null,
            "overflow": null,
            "overflow_x": null,
            "overflow_y": null,
            "padding": null,
            "right": null,
            "top": null,
            "visibility": null,
            "width": null
          }
        },
        "bff89026b12b46409a7cb0e41c59f628": {
          "model_module": "@jupyter-widgets/controls",
          "model_name": "DescriptionStyleModel",
          "model_module_version": "1.5.0",
          "state": {
            "_model_module": "@jupyter-widgets/controls",
            "_model_module_version": "1.5.0",
            "_model_name": "DescriptionStyleModel",
            "_view_count": null,
            "_view_module": "@jupyter-widgets/base",
            "_view_module_version": "1.2.0",
            "_view_name": "StyleView",
            "description_width": ""
          }
        },
        "f3e40386dc6141c293e519103a6acc39": {
          "model_module": "@jupyter-widgets/controls",
          "model_name": "FloatTextModel",
          "model_module_version": "1.5.0",
          "state": {
            "_dom_classes": [],
            "_model_module": "@jupyter-widgets/controls",
            "_model_module_version": "1.5.0",
            "_model_name": "FloatTextModel",
            "_view_count": null,
            "_view_module": "@jupyter-widgets/controls",
            "_view_module_version": "1.5.0",
            "_view_name": "FloatTextView",
            "continuous_update": false,
            "description": "Característica 5",
            "description_tooltip": null,
            "disabled": false,
            "layout": "IPY_MODEL_c1b97a43a5c0483cb8dba18692502be3",
            "step": null,
            "style": "IPY_MODEL_a47d76e7957d4e108aa6f949db216b52",
            "value": 0
          }
        },
        "c1b97a43a5c0483cb8dba18692502be3": {
          "model_module": "@jupyter-widgets/base",
          "model_name": "LayoutModel",
          "model_module_version": "1.2.0",
          "state": {
            "_model_module": "@jupyter-widgets/base",
            "_model_module_version": "1.2.0",
            "_model_name": "LayoutModel",
            "_view_count": null,
            "_view_module": "@jupyter-widgets/base",
            "_view_module_version": "1.2.0",
            "_view_name": "LayoutView",
            "align_content": null,
            "align_items": null,
            "align_self": null,
            "border": null,
            "bottom": null,
            "display": null,
            "flex": null,
            "flex_flow": null,
            "grid_area": null,
            "grid_auto_columns": null,
            "grid_auto_flow": null,
            "grid_auto_rows": null,
            "grid_column": null,
            "grid_gap": null,
            "grid_row": null,
            "grid_template_areas": null,
            "grid_template_columns": null,
            "grid_template_rows": null,
            "height": null,
            "justify_content": null,
            "justify_items": null,
            "left": null,
            "margin": null,
            "max_height": null,
            "max_width": null,
            "min_height": null,
            "min_width": null,
            "object_fit": null,
            "object_position": null,
            "order": null,
            "overflow": null,
            "overflow_x": null,
            "overflow_y": null,
            "padding": null,
            "right": null,
            "top": null,
            "visibility": null,
            "width": null
          }
        },
        "a47d76e7957d4e108aa6f949db216b52": {
          "model_module": "@jupyter-widgets/controls",
          "model_name": "DescriptionStyleModel",
          "model_module_version": "1.5.0",
          "state": {
            "_model_module": "@jupyter-widgets/controls",
            "_model_module_version": "1.5.0",
            "_model_name": "DescriptionStyleModel",
            "_view_count": null,
            "_view_module": "@jupyter-widgets/base",
            "_view_module_version": "1.2.0",
            "_view_name": "StyleView",
            "description_width": ""
          }
        },
        "bec4e38533ce4931bd4728a0995fd20a": {
          "model_module": "@jupyter-widgets/controls",
          "model_name": "FloatTextModel",
          "model_module_version": "1.5.0",
          "state": {
            "_dom_classes": [],
            "_model_module": "@jupyter-widgets/controls",
            "_model_module_version": "1.5.0",
            "_model_name": "FloatTextModel",
            "_view_count": null,
            "_view_module": "@jupyter-widgets/controls",
            "_view_module_version": "1.5.0",
            "_view_name": "FloatTextView",
            "continuous_update": false,
            "description": "Característica 6",
            "description_tooltip": null,
            "disabled": false,
            "layout": "IPY_MODEL_5b15a4eba99a463db6c89f2334113cd8",
            "step": null,
            "style": "IPY_MODEL_03d1922a21e54120962514fc8388416d",
            "value": 0
          }
        },
        "5b15a4eba99a463db6c89f2334113cd8": {
          "model_module": "@jupyter-widgets/base",
          "model_name": "LayoutModel",
          "model_module_version": "1.2.0",
          "state": {
            "_model_module": "@jupyter-widgets/base",
            "_model_module_version": "1.2.0",
            "_model_name": "LayoutModel",
            "_view_count": null,
            "_view_module": "@jupyter-widgets/base",
            "_view_module_version": "1.2.0",
            "_view_name": "LayoutView",
            "align_content": null,
            "align_items": null,
            "align_self": null,
            "border": null,
            "bottom": null,
            "display": null,
            "flex": null,
            "flex_flow": null,
            "grid_area": null,
            "grid_auto_columns": null,
            "grid_auto_flow": null,
            "grid_auto_rows": null,
            "grid_column": null,
            "grid_gap": null,
            "grid_row": null,
            "grid_template_areas": null,
            "grid_template_columns": null,
            "grid_template_rows": null,
            "height": null,
            "justify_content": null,
            "justify_items": null,
            "left": null,
            "margin": null,
            "max_height": null,
            "max_width": null,
            "min_height": null,
            "min_width": null,
            "object_fit": null,
            "object_position": null,
            "order": null,
            "overflow": null,
            "overflow_x": null,
            "overflow_y": null,
            "padding": null,
            "right": null,
            "top": null,
            "visibility": null,
            "width": null
          }
        },
        "03d1922a21e54120962514fc8388416d": {
          "model_module": "@jupyter-widgets/controls",
          "model_name": "DescriptionStyleModel",
          "model_module_version": "1.5.0",
          "state": {
            "_model_module": "@jupyter-widgets/controls",
            "_model_module_version": "1.5.0",
            "_model_name": "DescriptionStyleModel",
            "_view_count": null,
            "_view_module": "@jupyter-widgets/base",
            "_view_module_version": "1.2.0",
            "_view_name": "StyleView",
            "description_width": ""
          }
        },
        "d547b8df16de464cbc701e25a4c666ab": {
          "model_module": "@jupyter-widgets/controls",
          "model_name": "FloatTextModel",
          "model_module_version": "1.5.0",
          "state": {
            "_dom_classes": [],
            "_model_module": "@jupyter-widgets/controls",
            "_model_module_version": "1.5.0",
            "_model_name": "FloatTextModel",
            "_view_count": null,
            "_view_module": "@jupyter-widgets/controls",
            "_view_module_version": "1.5.0",
            "_view_name": "FloatTextView",
            "continuous_update": false,
            "description": "Característica 7",
            "description_tooltip": null,
            "disabled": false,
            "layout": "IPY_MODEL_d51c4a3b17df44dbad6cfaba2375c1db",
            "step": null,
            "style": "IPY_MODEL_66445762e0a04c6cb86d741474f25f3d",
            "value": 0
          }
        },
        "d51c4a3b17df44dbad6cfaba2375c1db": {
          "model_module": "@jupyter-widgets/base",
          "model_name": "LayoutModel",
          "model_module_version": "1.2.0",
          "state": {
            "_model_module": "@jupyter-widgets/base",
            "_model_module_version": "1.2.0",
            "_model_name": "LayoutModel",
            "_view_count": null,
            "_view_module": "@jupyter-widgets/base",
            "_view_module_version": "1.2.0",
            "_view_name": "LayoutView",
            "align_content": null,
            "align_items": null,
            "align_self": null,
            "border": null,
            "bottom": null,
            "display": null,
            "flex": null,
            "flex_flow": null,
            "grid_area": null,
            "grid_auto_columns": null,
            "grid_auto_flow": null,
            "grid_auto_rows": null,
            "grid_column": null,
            "grid_gap": null,
            "grid_row": null,
            "grid_template_areas": null,
            "grid_template_columns": null,
            "grid_template_rows": null,
            "height": null,
            "justify_content": null,
            "justify_items": null,
            "left": null,
            "margin": null,
            "max_height": null,
            "max_width": null,
            "min_height": null,
            "min_width": null,
            "object_fit": null,
            "object_position": null,
            "order": null,
            "overflow": null,
            "overflow_x": null,
            "overflow_y": null,
            "padding": null,
            "right": null,
            "top": null,
            "visibility": null,
            "width": null
          }
        },
        "66445762e0a04c6cb86d741474f25f3d": {
          "model_module": "@jupyter-widgets/controls",
          "model_name": "DescriptionStyleModel",
          "model_module_version": "1.5.0",
          "state": {
            "_model_module": "@jupyter-widgets/controls",
            "_model_module_version": "1.5.0",
            "_model_name": "DescriptionStyleModel",
            "_view_count": null,
            "_view_module": "@jupyter-widgets/base",
            "_view_module_version": "1.2.0",
            "_view_name": "StyleView",
            "description_width": ""
          }
        },
        "22e6b8293e1e4d69a4e12a1b3d7f7261": {
          "model_module": "@jupyter-widgets/controls",
          "model_name": "FloatTextModel",
          "model_module_version": "1.5.0",
          "state": {
            "_dom_classes": [],
            "_model_module": "@jupyter-widgets/controls",
            "_model_module_version": "1.5.0",
            "_model_name": "FloatTextModel",
            "_view_count": null,
            "_view_module": "@jupyter-widgets/controls",
            "_view_module_version": "1.5.0",
            "_view_name": "FloatTextView",
            "continuous_update": false,
            "description": "Característica 8",
            "description_tooltip": null,
            "disabled": false,
            "layout": "IPY_MODEL_fec4bc099dec4ca38a77779db78138e0",
            "step": null,
            "style": "IPY_MODEL_2112cd5d837b49a09e8d252b4e1a3960",
            "value": 0
          }
        },
        "fec4bc099dec4ca38a77779db78138e0": {
          "model_module": "@jupyter-widgets/base",
          "model_name": "LayoutModel",
          "model_module_version": "1.2.0",
          "state": {
            "_model_module": "@jupyter-widgets/base",
            "_model_module_version": "1.2.0",
            "_model_name": "LayoutModel",
            "_view_count": null,
            "_view_module": "@jupyter-widgets/base",
            "_view_module_version": "1.2.0",
            "_view_name": "LayoutView",
            "align_content": null,
            "align_items": null,
            "align_self": null,
            "border": null,
            "bottom": null,
            "display": null,
            "flex": null,
            "flex_flow": null,
            "grid_area": null,
            "grid_auto_columns": null,
            "grid_auto_flow": null,
            "grid_auto_rows": null,
            "grid_column": null,
            "grid_gap": null,
            "grid_row": null,
            "grid_template_areas": null,
            "grid_template_columns": null,
            "grid_template_rows": null,
            "height": null,
            "justify_content": null,
            "justify_items": null,
            "left": null,
            "margin": null,
            "max_height": null,
            "max_width": null,
            "min_height": null,
            "min_width": null,
            "object_fit": null,
            "object_position": null,
            "order": null,
            "overflow": null,
            "overflow_x": null,
            "overflow_y": null,
            "padding": null,
            "right": null,
            "top": null,
            "visibility": null,
            "width": null
          }
        },
        "2112cd5d837b49a09e8d252b4e1a3960": {
          "model_module": "@jupyter-widgets/controls",
          "model_name": "DescriptionStyleModel",
          "model_module_version": "1.5.0",
          "state": {
            "_model_module": "@jupyter-widgets/controls",
            "_model_module_version": "1.5.0",
            "_model_name": "DescriptionStyleModel",
            "_view_count": null,
            "_view_module": "@jupyter-widgets/base",
            "_view_module_version": "1.2.0",
            "_view_name": "StyleView",
            "description_width": ""
          }
        },
        "13c449db6e9749cfabcccd158a6398a6": {
          "model_module": "@jupyter-widgets/controls",
          "model_name": "FloatTextModel",
          "model_module_version": "1.5.0",
          "state": {
            "_dom_classes": [],
            "_model_module": "@jupyter-widgets/controls",
            "_model_module_version": "1.5.0",
            "_model_name": "FloatTextModel",
            "_view_count": null,
            "_view_module": "@jupyter-widgets/controls",
            "_view_module_version": "1.5.0",
            "_view_name": "FloatTextView",
            "continuous_update": false,
            "description": "Característica 9",
            "description_tooltip": null,
            "disabled": false,
            "layout": "IPY_MODEL_1d147e93d12f42f4a6e29a6f5ee74a6f",
            "step": null,
            "style": "IPY_MODEL_dc266bf2e90f41498864d6cbe91c1884",
            "value": 0
          }
        },
        "1d147e93d12f42f4a6e29a6f5ee74a6f": {
          "model_module": "@jupyter-widgets/base",
          "model_name": "LayoutModel",
          "model_module_version": "1.2.0",
          "state": {
            "_model_module": "@jupyter-widgets/base",
            "_model_module_version": "1.2.0",
            "_model_name": "LayoutModel",
            "_view_count": null,
            "_view_module": "@jupyter-widgets/base",
            "_view_module_version": "1.2.0",
            "_view_name": "LayoutView",
            "align_content": null,
            "align_items": null,
            "align_self": null,
            "border": null,
            "bottom": null,
            "display": null,
            "flex": null,
            "flex_flow": null,
            "grid_area": null,
            "grid_auto_columns": null,
            "grid_auto_flow": null,
            "grid_auto_rows": null,
            "grid_column": null,
            "grid_gap": null,
            "grid_row": null,
            "grid_template_areas": null,
            "grid_template_columns": null,
            "grid_template_rows": null,
            "height": null,
            "justify_content": null,
            "justify_items": null,
            "left": null,
            "margin": null,
            "max_height": null,
            "max_width": null,
            "min_height": null,
            "min_width": null,
            "object_fit": null,
            "object_position": null,
            "order": null,
            "overflow": null,
            "overflow_x": null,
            "overflow_y": null,
            "padding": null,
            "right": null,
            "top": null,
            "visibility": null,
            "width": null
          }
        },
        "dc266bf2e90f41498864d6cbe91c1884": {
          "model_module": "@jupyter-widgets/controls",
          "model_name": "DescriptionStyleModel",
          "model_module_version": "1.5.0",
          "state": {
            "_model_module": "@jupyter-widgets/controls",
            "_model_module_version": "1.5.0",
            "_model_name": "DescriptionStyleModel",
            "_view_count": null,
            "_view_module": "@jupyter-widgets/base",
            "_view_module_version": "1.2.0",
            "_view_name": "StyleView",
            "description_width": ""
          }
        },
        "526ece786da545ea86465adf31bb4510": {
          "model_module": "@jupyter-widgets/controls",
          "model_name": "FloatTextModel",
          "model_module_version": "1.5.0",
          "state": {
            "_dom_classes": [],
            "_model_module": "@jupyter-widgets/controls",
            "_model_module_version": "1.5.0",
            "_model_name": "FloatTextModel",
            "_view_count": null,
            "_view_module": "@jupyter-widgets/controls",
            "_view_module_version": "1.5.0",
            "_view_name": "FloatTextView",
            "continuous_update": false,
            "description": "Característica 10",
            "description_tooltip": null,
            "disabled": false,
            "layout": "IPY_MODEL_62ec804a6c3f435f83a8a3569c11ec33",
            "step": null,
            "style": "IPY_MODEL_d2c71dbf9ee7415fb0d371908565bf61",
            "value": 0
          }
        },
        "62ec804a6c3f435f83a8a3569c11ec33": {
          "model_module": "@jupyter-widgets/base",
          "model_name": "LayoutModel",
          "model_module_version": "1.2.0",
          "state": {
            "_model_module": "@jupyter-widgets/base",
            "_model_module_version": "1.2.0",
            "_model_name": "LayoutModel",
            "_view_count": null,
            "_view_module": "@jupyter-widgets/base",
            "_view_module_version": "1.2.0",
            "_view_name": "LayoutView",
            "align_content": null,
            "align_items": null,
            "align_self": null,
            "border": null,
            "bottom": null,
            "display": null,
            "flex": null,
            "flex_flow": null,
            "grid_area": null,
            "grid_auto_columns": null,
            "grid_auto_flow": null,
            "grid_auto_rows": null,
            "grid_column": null,
            "grid_gap": null,
            "grid_row": null,
            "grid_template_areas": null,
            "grid_template_columns": null,
            "grid_template_rows": null,
            "height": null,
            "justify_content": null,
            "justify_items": null,
            "left": null,
            "margin": null,
            "max_height": null,
            "max_width": null,
            "min_height": null,
            "min_width": null,
            "object_fit": null,
            "object_position": null,
            "order": null,
            "overflow": null,
            "overflow_x": null,
            "overflow_y": null,
            "padding": null,
            "right": null,
            "top": null,
            "visibility": null,
            "width": null
          }
        },
        "d2c71dbf9ee7415fb0d371908565bf61": {
          "model_module": "@jupyter-widgets/controls",
          "model_name": "DescriptionStyleModel",
          "model_module_version": "1.5.0",
          "state": {
            "_model_module": "@jupyter-widgets/controls",
            "_model_module_version": "1.5.0",
            "_model_name": "DescriptionStyleModel",
            "_view_count": null,
            "_view_module": "@jupyter-widgets/base",
            "_view_module_version": "1.2.0",
            "_view_name": "StyleView",
            "description_width": ""
          }
        },
        "0ab433aae5974217804a6611dc9c4e8e": {
          "model_module": "@jupyter-widgets/controls",
          "model_name": "FloatTextModel",
          "model_module_version": "1.5.0",
          "state": {
            "_dom_classes": [],
            "_model_module": "@jupyter-widgets/controls",
            "_model_module_version": "1.5.0",
            "_model_name": "FloatTextModel",
            "_view_count": null,
            "_view_module": "@jupyter-widgets/controls",
            "_view_module_version": "1.5.0",
            "_view_name": "FloatTextView",
            "continuous_update": false,
            "description": "Característica 11",
            "description_tooltip": null,
            "disabled": false,
            "layout": "IPY_MODEL_f71ca5230b7e400f8058729099028c99",
            "step": null,
            "style": "IPY_MODEL_ab2ad96d7037484581956615be489c0c",
            "value": 0
          }
        },
        "f71ca5230b7e400f8058729099028c99": {
          "model_module": "@jupyter-widgets/base",
          "model_name": "LayoutModel",
          "model_module_version": "1.2.0",
          "state": {
            "_model_module": "@jupyter-widgets/base",
            "_model_module_version": "1.2.0",
            "_model_name": "LayoutModel",
            "_view_count": null,
            "_view_module": "@jupyter-widgets/base",
            "_view_module_version": "1.2.0",
            "_view_name": "LayoutView",
            "align_content": null,
            "align_items": null,
            "align_self": null,
            "border": null,
            "bottom": null,
            "display": null,
            "flex": null,
            "flex_flow": null,
            "grid_area": null,
            "grid_auto_columns": null,
            "grid_auto_flow": null,
            "grid_auto_rows": null,
            "grid_column": null,
            "grid_gap": null,
            "grid_row": null,
            "grid_template_areas": null,
            "grid_template_columns": null,
            "grid_template_rows": null,
            "height": null,
            "justify_content": null,
            "justify_items": null,
            "left": null,
            "margin": null,
            "max_height": null,
            "max_width": null,
            "min_height": null,
            "min_width": null,
            "object_fit": null,
            "object_position": null,
            "order": null,
            "overflow": null,
            "overflow_x": null,
            "overflow_y": null,
            "padding": null,
            "right": null,
            "top": null,
            "visibility": null,
            "width": null
          }
        },
        "ab2ad96d7037484581956615be489c0c": {
          "model_module": "@jupyter-widgets/controls",
          "model_name": "DescriptionStyleModel",
          "model_module_version": "1.5.0",
          "state": {
            "_model_module": "@jupyter-widgets/controls",
            "_model_module_version": "1.5.0",
            "_model_name": "DescriptionStyleModel",
            "_view_count": null,
            "_view_module": "@jupyter-widgets/base",
            "_view_module_version": "1.2.0",
            "_view_name": "StyleView",
            "description_width": ""
          }
        },
        "7d9f1cf4702644dba345c0d36ec2888e": {
          "model_module": "@jupyter-widgets/controls",
          "model_name": "FloatTextModel",
          "model_module_version": "1.5.0",
          "state": {
            "_dom_classes": [],
            "_model_module": "@jupyter-widgets/controls",
            "_model_module_version": "1.5.0",
            "_model_name": "FloatTextModel",
            "_view_count": null,
            "_view_module": "@jupyter-widgets/controls",
            "_view_module_version": "1.5.0",
            "_view_name": "FloatTextView",
            "continuous_update": false,
            "description": "Característica 12",
            "description_tooltip": null,
            "disabled": false,
            "layout": "IPY_MODEL_ed0a79ac1ff84f57b18157390a53e249",
            "step": null,
            "style": "IPY_MODEL_8db8f9e1521546f19107995c33e12a6d",
            "value": 0
          }
        },
        "ed0a79ac1ff84f57b18157390a53e249": {
          "model_module": "@jupyter-widgets/base",
          "model_name": "LayoutModel",
          "model_module_version": "1.2.0",
          "state": {
            "_model_module": "@jupyter-widgets/base",
            "_model_module_version": "1.2.0",
            "_model_name": "LayoutModel",
            "_view_count": null,
            "_view_module": "@jupyter-widgets/base",
            "_view_module_version": "1.2.0",
            "_view_name": "LayoutView",
            "align_content": null,
            "align_items": null,
            "align_self": null,
            "border": null,
            "bottom": null,
            "display": null,
            "flex": null,
            "flex_flow": null,
            "grid_area": null,
            "grid_auto_columns": null,
            "grid_auto_flow": null,
            "grid_auto_rows": null,
            "grid_column": null,
            "grid_gap": null,
            "grid_row": null,
            "grid_template_areas": null,
            "grid_template_columns": null,
            "grid_template_rows": null,
            "height": null,
            "justify_content": null,
            "justify_items": null,
            "left": null,
            "margin": null,
            "max_height": null,
            "max_width": null,
            "min_height": null,
            "min_width": null,
            "object_fit": null,
            "object_position": null,
            "order": null,
            "overflow": null,
            "overflow_x": null,
            "overflow_y": null,
            "padding": null,
            "right": null,
            "top": null,
            "visibility": null,
            "width": null
          }
        },
        "8db8f9e1521546f19107995c33e12a6d": {
          "model_module": "@jupyter-widgets/controls",
          "model_name": "DescriptionStyleModel",
          "model_module_version": "1.5.0",
          "state": {
            "_model_module": "@jupyter-widgets/controls",
            "_model_module_version": "1.5.0",
            "_model_name": "DescriptionStyleModel",
            "_view_count": null,
            "_view_module": "@jupyter-widgets/base",
            "_view_module_version": "1.2.0",
            "_view_name": "StyleView",
            "description_width": ""
          }
        },
        "55fddd3891704cc4a9b015c14f3174c8": {
          "model_module": "@jupyter-widgets/controls",
          "model_name": "FloatTextModel",
          "model_module_version": "1.5.0",
          "state": {
            "_dom_classes": [],
            "_model_module": "@jupyter-widgets/controls",
            "_model_module_version": "1.5.0",
            "_model_name": "FloatTextModel",
            "_view_count": null,
            "_view_module": "@jupyter-widgets/controls",
            "_view_module_version": "1.5.0",
            "_view_name": "FloatTextView",
            "continuous_update": false,
            "description": "Característica 13",
            "description_tooltip": null,
            "disabled": false,
            "layout": "IPY_MODEL_2d42b8202f9248988274fe2c0878c252",
            "step": null,
            "style": "IPY_MODEL_9e3b3b6d0b7f42d8b86ecad636d1a6ed",
            "value": 0
          }
        },
        "2d42b8202f9248988274fe2c0878c252": {
          "model_module": "@jupyter-widgets/base",
          "model_name": "LayoutModel",
          "model_module_version": "1.2.0",
          "state": {
            "_model_module": "@jupyter-widgets/base",
            "_model_module_version": "1.2.0",
            "_model_name": "LayoutModel",
            "_view_count": null,
            "_view_module": "@jupyter-widgets/base",
            "_view_module_version": "1.2.0",
            "_view_name": "LayoutView",
            "align_content": null,
            "align_items": null,
            "align_self": null,
            "border": null,
            "bottom": null,
            "display": null,
            "flex": null,
            "flex_flow": null,
            "grid_area": null,
            "grid_auto_columns": null,
            "grid_auto_flow": null,
            "grid_auto_rows": null,
            "grid_column": null,
            "grid_gap": null,
            "grid_row": null,
            "grid_template_areas": null,
            "grid_template_columns": null,
            "grid_template_rows": null,
            "height": null,
            "justify_content": null,
            "justify_items": null,
            "left": null,
            "margin": null,
            "max_height": null,
            "max_width": null,
            "min_height": null,
            "min_width": null,
            "object_fit": null,
            "object_position": null,
            "order": null,
            "overflow": null,
            "overflow_x": null,
            "overflow_y": null,
            "padding": null,
            "right": null,
            "top": null,
            "visibility": null,
            "width": null
          }
        },
        "9e3b3b6d0b7f42d8b86ecad636d1a6ed": {
          "model_module": "@jupyter-widgets/controls",
          "model_name": "DescriptionStyleModel",
          "model_module_version": "1.5.0",
          "state": {
            "_model_module": "@jupyter-widgets/controls",
            "_model_module_version": "1.5.0",
            "_model_name": "DescriptionStyleModel",
            "_view_count": null,
            "_view_module": "@jupyter-widgets/base",
            "_view_module_version": "1.2.0",
            "_view_name": "StyleView",
            "description_width": ""
          }
        },
        "c39ab69779be40f7a5e494b6b13abebb": {
          "model_module": "@jupyter-widgets/controls",
          "model_name": "FloatTextModel",
          "model_module_version": "1.5.0",
          "state": {
            "_dom_classes": [],
            "_model_module": "@jupyter-widgets/controls",
            "_model_module_version": "1.5.0",
            "_model_name": "FloatTextModel",
            "_view_count": null,
            "_view_module": "@jupyter-widgets/controls",
            "_view_module_version": "1.5.0",
            "_view_name": "FloatTextView",
            "continuous_update": false,
            "description": "Característica 14",
            "description_tooltip": null,
            "disabled": false,
            "layout": "IPY_MODEL_43ccef0fa8a44748a717dfdedfd6f670",
            "step": null,
            "style": "IPY_MODEL_4bed4dfb2e6c459286858061582d5f87",
            "value": 0
          }
        },
        "43ccef0fa8a44748a717dfdedfd6f670": {
          "model_module": "@jupyter-widgets/base",
          "model_name": "LayoutModel",
          "model_module_version": "1.2.0",
          "state": {
            "_model_module": "@jupyter-widgets/base",
            "_model_module_version": "1.2.0",
            "_model_name": "LayoutModel",
            "_view_count": null,
            "_view_module": "@jupyter-widgets/base",
            "_view_module_version": "1.2.0",
            "_view_name": "LayoutView",
            "align_content": null,
            "align_items": null,
            "align_self": null,
            "border": null,
            "bottom": null,
            "display": null,
            "flex": null,
            "flex_flow": null,
            "grid_area": null,
            "grid_auto_columns": null,
            "grid_auto_flow": null,
            "grid_auto_rows": null,
            "grid_column": null,
            "grid_gap": null,
            "grid_row": null,
            "grid_template_areas": null,
            "grid_template_columns": null,
            "grid_template_rows": null,
            "height": null,
            "justify_content": null,
            "justify_items": null,
            "left": null,
            "margin": null,
            "max_height": null,
            "max_width": null,
            "min_height": null,
            "min_width": null,
            "object_fit": null,
            "object_position": null,
            "order": null,
            "overflow": null,
            "overflow_x": null,
            "overflow_y": null,
            "padding": null,
            "right": null,
            "top": null,
            "visibility": null,
            "width": null
          }
        },
        "4bed4dfb2e6c459286858061582d5f87": {
          "model_module": "@jupyter-widgets/controls",
          "model_name": "DescriptionStyleModel",
          "model_module_version": "1.5.0",
          "state": {
            "_model_module": "@jupyter-widgets/controls",
            "_model_module_version": "1.5.0",
            "_model_name": "DescriptionStyleModel",
            "_view_count": null,
            "_view_module": "@jupyter-widgets/base",
            "_view_module_version": "1.2.0",
            "_view_name": "StyleView",
            "description_width": ""
          }
        },
        "28899ab1743e4da58563c5b345b77a63": {
          "model_module": "@jupyter-widgets/controls",
          "model_name": "FloatTextModel",
          "model_module_version": "1.5.0",
          "state": {
            "_dom_classes": [],
            "_model_module": "@jupyter-widgets/controls",
            "_model_module_version": "1.5.0",
            "_model_name": "FloatTextModel",
            "_view_count": null,
            "_view_module": "@jupyter-widgets/controls",
            "_view_module_version": "1.5.0",
            "_view_name": "FloatTextView",
            "continuous_update": false,
            "description": "Característica 15",
            "description_tooltip": null,
            "disabled": false,
            "layout": "IPY_MODEL_8e695e7d455e40b1856f2955b091eef8",
            "step": null,
            "style": "IPY_MODEL_177a0f97d14d4d1db5f79c255ee889d8",
            "value": 0
          }
        },
        "8e695e7d455e40b1856f2955b091eef8": {
          "model_module": "@jupyter-widgets/base",
          "model_name": "LayoutModel",
          "model_module_version": "1.2.0",
          "state": {
            "_model_module": "@jupyter-widgets/base",
            "_model_module_version": "1.2.0",
            "_model_name": "LayoutModel",
            "_view_count": null,
            "_view_module": "@jupyter-widgets/base",
            "_view_module_version": "1.2.0",
            "_view_name": "LayoutView",
            "align_content": null,
            "align_items": null,
            "align_self": null,
            "border": null,
            "bottom": null,
            "display": null,
            "flex": null,
            "flex_flow": null,
            "grid_area": null,
            "grid_auto_columns": null,
            "grid_auto_flow": null,
            "grid_auto_rows": null,
            "grid_column": null,
            "grid_gap": null,
            "grid_row": null,
            "grid_template_areas": null,
            "grid_template_columns": null,
            "grid_template_rows": null,
            "height": null,
            "justify_content": null,
            "justify_items": null,
            "left": null,
            "margin": null,
            "max_height": null,
            "max_width": null,
            "min_height": null,
            "min_width": null,
            "object_fit": null,
            "object_position": null,
            "order": null,
            "overflow": null,
            "overflow_x": null,
            "overflow_y": null,
            "padding": null,
            "right": null,
            "top": null,
            "visibility": null,
            "width": null
          }
        },
        "177a0f97d14d4d1db5f79c255ee889d8": {
          "model_module": "@jupyter-widgets/controls",
          "model_name": "DescriptionStyleModel",
          "model_module_version": "1.5.0",
          "state": {
            "_model_module": "@jupyter-widgets/controls",
            "_model_module_version": "1.5.0",
            "_model_name": "DescriptionStyleModel",
            "_view_count": null,
            "_view_module": "@jupyter-widgets/base",
            "_view_module_version": "1.2.0",
            "_view_name": "StyleView",
            "description_width": ""
          }
        },
        "6555491abae24f48a27006b6c61bc4f0": {
          "model_module": "@jupyter-widgets/controls",
          "model_name": "FloatTextModel",
          "model_module_version": "1.5.0",
          "state": {
            "_dom_classes": [],
            "_model_module": "@jupyter-widgets/controls",
            "_model_module_version": "1.5.0",
            "_model_name": "FloatTextModel",
            "_view_count": null,
            "_view_module": "@jupyter-widgets/controls",
            "_view_module_version": "1.5.0",
            "_view_name": "FloatTextView",
            "continuous_update": false,
            "description": "Característica 16",
            "description_tooltip": null,
            "disabled": false,
            "layout": "IPY_MODEL_ac24e64eaee643d089b5640e86988c0d",
            "step": null,
            "style": "IPY_MODEL_aed1995fa77547e59315894d209748c1",
            "value": 0
          }
        },
        "ac24e64eaee643d089b5640e86988c0d": {
          "model_module": "@jupyter-widgets/base",
          "model_name": "LayoutModel",
          "model_module_version": "1.2.0",
          "state": {
            "_model_module": "@jupyter-widgets/base",
            "_model_module_version": "1.2.0",
            "_model_name": "LayoutModel",
            "_view_count": null,
            "_view_module": "@jupyter-widgets/base",
            "_view_module_version": "1.2.0",
            "_view_name": "LayoutView",
            "align_content": null,
            "align_items": null,
            "align_self": null,
            "border": null,
            "bottom": null,
            "display": null,
            "flex": null,
            "flex_flow": null,
            "grid_area": null,
            "grid_auto_columns": null,
            "grid_auto_flow": null,
            "grid_auto_rows": null,
            "grid_column": null,
            "grid_gap": null,
            "grid_row": null,
            "grid_template_areas": null,
            "grid_template_columns": null,
            "grid_template_rows": null,
            "height": null,
            "justify_content": null,
            "justify_items": null,
            "left": null,
            "margin": null,
            "max_height": null,
            "max_width": null,
            "min_height": null,
            "min_width": null,
            "object_fit": null,
            "object_position": null,
            "order": null,
            "overflow": null,
            "overflow_x": null,
            "overflow_y": null,
            "padding": null,
            "right": null,
            "top": null,
            "visibility": null,
            "width": null
          }
        },
        "aed1995fa77547e59315894d209748c1": {
          "model_module": "@jupyter-widgets/controls",
          "model_name": "DescriptionStyleModel",
          "model_module_version": "1.5.0",
          "state": {
            "_model_module": "@jupyter-widgets/controls",
            "_model_module_version": "1.5.0",
            "_model_name": "DescriptionStyleModel",
            "_view_count": null,
            "_view_module": "@jupyter-widgets/base",
            "_view_module_version": "1.2.0",
            "_view_name": "StyleView",
            "description_width": ""
          }
        },
        "a6a18db7f2634b69bcf39e955c109a1f": {
          "model_module": "@jupyter-widgets/controls",
          "model_name": "FloatTextModel",
          "model_module_version": "1.5.0",
          "state": {
            "_dom_classes": [],
            "_model_module": "@jupyter-widgets/controls",
            "_model_module_version": "1.5.0",
            "_model_name": "FloatTextModel",
            "_view_count": null,
            "_view_module": "@jupyter-widgets/controls",
            "_view_module_version": "1.5.0",
            "_view_name": "FloatTextView",
            "continuous_update": false,
            "description": "Característica 17",
            "description_tooltip": null,
            "disabled": false,
            "layout": "IPY_MODEL_761faf67f44a4f54b5a83c358339127e",
            "step": null,
            "style": "IPY_MODEL_1ce13255672345c9a93ad64fe12c7de7",
            "value": 0
          }
        },
        "761faf67f44a4f54b5a83c358339127e": {
          "model_module": "@jupyter-widgets/base",
          "model_name": "LayoutModel",
          "model_module_version": "1.2.0",
          "state": {
            "_model_module": "@jupyter-widgets/base",
            "_model_module_version": "1.2.0",
            "_model_name": "LayoutModel",
            "_view_count": null,
            "_view_module": "@jupyter-widgets/base",
            "_view_module_version": "1.2.0",
            "_view_name": "LayoutView",
            "align_content": null,
            "align_items": null,
            "align_self": null,
            "border": null,
            "bottom": null,
            "display": null,
            "flex": null,
            "flex_flow": null,
            "grid_area": null,
            "grid_auto_columns": null,
            "grid_auto_flow": null,
            "grid_auto_rows": null,
            "grid_column": null,
            "grid_gap": null,
            "grid_row": null,
            "grid_template_areas": null,
            "grid_template_columns": null,
            "grid_template_rows": null,
            "height": null,
            "justify_content": null,
            "justify_items": null,
            "left": null,
            "margin": null,
            "max_height": null,
            "max_width": null,
            "min_height": null,
            "min_width": null,
            "object_fit": null,
            "object_position": null,
            "order": null,
            "overflow": null,
            "overflow_x": null,
            "overflow_y": null,
            "padding": null,
            "right": null,
            "top": null,
            "visibility": null,
            "width": null
          }
        },
        "1ce13255672345c9a93ad64fe12c7de7": {
          "model_module": "@jupyter-widgets/controls",
          "model_name": "DescriptionStyleModel",
          "model_module_version": "1.5.0",
          "state": {
            "_model_module": "@jupyter-widgets/controls",
            "_model_module_version": "1.5.0",
            "_model_name": "DescriptionStyleModel",
            "_view_count": null,
            "_view_module": "@jupyter-widgets/base",
            "_view_module_version": "1.2.0",
            "_view_name": "StyleView",
            "description_width": ""
          }
        },
        "6196aa1611324ace95aec6ecae2280ce": {
          "model_module": "@jupyter-widgets/controls",
          "model_name": "FloatTextModel",
          "model_module_version": "1.5.0",
          "state": {
            "_dom_classes": [],
            "_model_module": "@jupyter-widgets/controls",
            "_model_module_version": "1.5.0",
            "_model_name": "FloatTextModel",
            "_view_count": null,
            "_view_module": "@jupyter-widgets/controls",
            "_view_module_version": "1.5.0",
            "_view_name": "FloatTextView",
            "continuous_update": false,
            "description": "Característica 18",
            "description_tooltip": null,
            "disabled": false,
            "layout": "IPY_MODEL_7200788fb1014f58b19249eb0bce27c7",
            "step": null,
            "style": "IPY_MODEL_58bd1cb2a34649ed91332b4dbc401a62",
            "value": 0
          }
        },
        "7200788fb1014f58b19249eb0bce27c7": {
          "model_module": "@jupyter-widgets/base",
          "model_name": "LayoutModel",
          "model_module_version": "1.2.0",
          "state": {
            "_model_module": "@jupyter-widgets/base",
            "_model_module_version": "1.2.0",
            "_model_name": "LayoutModel",
            "_view_count": null,
            "_view_module": "@jupyter-widgets/base",
            "_view_module_version": "1.2.0",
            "_view_name": "LayoutView",
            "align_content": null,
            "align_items": null,
            "align_self": null,
            "border": null,
            "bottom": null,
            "display": null,
            "flex": null,
            "flex_flow": null,
            "grid_area": null,
            "grid_auto_columns": null,
            "grid_auto_flow": null,
            "grid_auto_rows": null,
            "grid_column": null,
            "grid_gap": null,
            "grid_row": null,
            "grid_template_areas": null,
            "grid_template_columns": null,
            "grid_template_rows": null,
            "height": null,
            "justify_content": null,
            "justify_items": null,
            "left": null,
            "margin": null,
            "max_height": null,
            "max_width": null,
            "min_height": null,
            "min_width": null,
            "object_fit": null,
            "object_position": null,
            "order": null,
            "overflow": null,
            "overflow_x": null,
            "overflow_y": null,
            "padding": null,
            "right": null,
            "top": null,
            "visibility": null,
            "width": null
          }
        },
        "58bd1cb2a34649ed91332b4dbc401a62": {
          "model_module": "@jupyter-widgets/controls",
          "model_name": "DescriptionStyleModel",
          "model_module_version": "1.5.0",
          "state": {
            "_model_module": "@jupyter-widgets/controls",
            "_model_module_version": "1.5.0",
            "_model_name": "DescriptionStyleModel",
            "_view_count": null,
            "_view_module": "@jupyter-widgets/base",
            "_view_module_version": "1.2.0",
            "_view_name": "StyleView",
            "description_width": ""
          }
        },
        "6637100588d1469ca5eb98b429a8ba14": {
          "model_module": "@jupyter-widgets/controls",
          "model_name": "FloatTextModel",
          "model_module_version": "1.5.0",
          "state": {
            "_dom_classes": [],
            "_model_module": "@jupyter-widgets/controls",
            "_model_module_version": "1.5.0",
            "_model_name": "FloatTextModel",
            "_view_count": null,
            "_view_module": "@jupyter-widgets/controls",
            "_view_module_version": "1.5.0",
            "_view_name": "FloatTextView",
            "continuous_update": false,
            "description": "Característica 19",
            "description_tooltip": null,
            "disabled": false,
            "layout": "IPY_MODEL_718a0bdc47a0466a86196b8f0a50693a",
            "step": null,
            "style": "IPY_MODEL_6023b8b8cf43401db284db1b2c0069ee",
            "value": 0
          }
        },
        "718a0bdc47a0466a86196b8f0a50693a": {
          "model_module": "@jupyter-widgets/base",
          "model_name": "LayoutModel",
          "model_module_version": "1.2.0",
          "state": {
            "_model_module": "@jupyter-widgets/base",
            "_model_module_version": "1.2.0",
            "_model_name": "LayoutModel",
            "_view_count": null,
            "_view_module": "@jupyter-widgets/base",
            "_view_module_version": "1.2.0",
            "_view_name": "LayoutView",
            "align_content": null,
            "align_items": null,
            "align_self": null,
            "border": null,
            "bottom": null,
            "display": null,
            "flex": null,
            "flex_flow": null,
            "grid_area": null,
            "grid_auto_columns": null,
            "grid_auto_flow": null,
            "grid_auto_rows": null,
            "grid_column": null,
            "grid_gap": null,
            "grid_row": null,
            "grid_template_areas": null,
            "grid_template_columns": null,
            "grid_template_rows": null,
            "height": null,
            "justify_content": null,
            "justify_items": null,
            "left": null,
            "margin": null,
            "max_height": null,
            "max_width": null,
            "min_height": null,
            "min_width": null,
            "object_fit": null,
            "object_position": null,
            "order": null,
            "overflow": null,
            "overflow_x": null,
            "overflow_y": null,
            "padding": null,
            "right": null,
            "top": null,
            "visibility": null,
            "width": null
          }
        },
        "6023b8b8cf43401db284db1b2c0069ee": {
          "model_module": "@jupyter-widgets/controls",
          "model_name": "DescriptionStyleModel",
          "model_module_version": "1.5.0",
          "state": {
            "_model_module": "@jupyter-widgets/controls",
            "_model_module_version": "1.5.0",
            "_model_name": "DescriptionStyleModel",
            "_view_count": null,
            "_view_module": "@jupyter-widgets/base",
            "_view_module_version": "1.2.0",
            "_view_name": "StyleView",
            "description_width": ""
          }
        },
        "906598788da44e8c9dfad48199432b0e": {
          "model_module": "@jupyter-widgets/controls",
          "model_name": "FloatTextModel",
          "model_module_version": "1.5.0",
          "state": {
            "_dom_classes": [],
            "_model_module": "@jupyter-widgets/controls",
            "_model_module_version": "1.5.0",
            "_model_name": "FloatTextModel",
            "_view_count": null,
            "_view_module": "@jupyter-widgets/controls",
            "_view_module_version": "1.5.0",
            "_view_name": "FloatTextView",
            "continuous_update": false,
            "description": "Característica 20",
            "description_tooltip": null,
            "disabled": false,
            "layout": "IPY_MODEL_c96cf0b003274936810299c42d6e4dbc",
            "step": null,
            "style": "IPY_MODEL_5545e6f1fd94467dbd557610d1717753",
            "value": 0
          }
        },
        "c96cf0b003274936810299c42d6e4dbc": {
          "model_module": "@jupyter-widgets/base",
          "model_name": "LayoutModel",
          "model_module_version": "1.2.0",
          "state": {
            "_model_module": "@jupyter-widgets/base",
            "_model_module_version": "1.2.0",
            "_model_name": "LayoutModel",
            "_view_count": null,
            "_view_module": "@jupyter-widgets/base",
            "_view_module_version": "1.2.0",
            "_view_name": "LayoutView",
            "align_content": null,
            "align_items": null,
            "align_self": null,
            "border": null,
            "bottom": null,
            "display": null,
            "flex": null,
            "flex_flow": null,
            "grid_area": null,
            "grid_auto_columns": null,
            "grid_auto_flow": null,
            "grid_auto_rows": null,
            "grid_column": null,
            "grid_gap": null,
            "grid_row": null,
            "grid_template_areas": null,
            "grid_template_columns": null,
            "grid_template_rows": null,
            "height": null,
            "justify_content": null,
            "justify_items": null,
            "left": null,
            "margin": null,
            "max_height": null,
            "max_width": null,
            "min_height": null,
            "min_width": null,
            "object_fit": null,
            "object_position": null,
            "order": null,
            "overflow": null,
            "overflow_x": null,
            "overflow_y": null,
            "padding": null,
            "right": null,
            "top": null,
            "visibility": null,
            "width": null
          }
        },
        "5545e6f1fd94467dbd557610d1717753": {
          "model_module": "@jupyter-widgets/controls",
          "model_name": "DescriptionStyleModel",
          "model_module_version": "1.5.0",
          "state": {
            "_model_module": "@jupyter-widgets/controls",
            "_model_module_version": "1.5.0",
            "_model_name": "DescriptionStyleModel",
            "_view_count": null,
            "_view_module": "@jupyter-widgets/base",
            "_view_module_version": "1.2.0",
            "_view_name": "StyleView",
            "description_width": ""
          }
        },
        "cd3945ac7deb44aaa071ad844b00e3ee": {
          "model_module": "@jupyter-widgets/controls",
          "model_name": "ButtonModel",
          "model_module_version": "1.5.0",
          "state": {
            "_dom_classes": [],
            "_model_module": "@jupyter-widgets/controls",
            "_model_module_version": "1.5.0",
            "_model_name": "ButtonModel",
            "_view_count": null,
            "_view_module": "@jupyter-widgets/controls",
            "_view_module_version": "1.5.0",
            "_view_name": "ButtonView",
            "button_style": "",
            "description": "Predecir",
            "disabled": false,
            "icon": "",
            "layout": "IPY_MODEL_1c3e6fb7f23d40c28afb20e30a6e85c6",
            "style": "IPY_MODEL_5b52d4050e0e490db9022d8dc0e0fca0",
            "tooltip": ""
          }
        },
        "1c3e6fb7f23d40c28afb20e30a6e85c6": {
          "model_module": "@jupyter-widgets/base",
          "model_name": "LayoutModel",
          "model_module_version": "1.2.0",
          "state": {
            "_model_module": "@jupyter-widgets/base",
            "_model_module_version": "1.2.0",
            "_model_name": "LayoutModel",
            "_view_count": null,
            "_view_module": "@jupyter-widgets/base",
            "_view_module_version": "1.2.0",
            "_view_name": "LayoutView",
            "align_content": null,
            "align_items": null,
            "align_self": null,
            "border": null,
            "bottom": null,
            "display": null,
            "flex": null,
            "flex_flow": null,
            "grid_area": null,
            "grid_auto_columns": null,
            "grid_auto_flow": null,
            "grid_auto_rows": null,
            "grid_column": null,
            "grid_gap": null,
            "grid_row": null,
            "grid_template_areas": null,
            "grid_template_columns": null,
            "grid_template_rows": null,
            "height": null,
            "justify_content": null,
            "justify_items": null,
            "left": null,
            "margin": null,
            "max_height": null,
            "max_width": null,
            "min_height": null,
            "min_width": null,
            "object_fit": null,
            "object_position": null,
            "order": null,
            "overflow": null,
            "overflow_x": null,
            "overflow_y": null,
            "padding": null,
            "right": null,
            "top": null,
            "visibility": null,
            "width": null
          }
        },
        "5b52d4050e0e490db9022d8dc0e0fca0": {
          "model_module": "@jupyter-widgets/controls",
          "model_name": "ButtonStyleModel",
          "model_module_version": "1.5.0",
          "state": {
            "_model_module": "@jupyter-widgets/controls",
            "_model_module_version": "1.5.0",
            "_model_name": "ButtonStyleModel",
            "_view_count": null,
            "_view_module": "@jupyter-widgets/base",
            "_view_module_version": "1.2.0",
            "_view_name": "StyleView",
            "button_color": null,
            "font_weight": ""
          }
        },
        "9fd957bbc6604d48b4f64f2964565501": {
          "model_module": "@jupyter-widgets/controls",
          "model_name": "TextModel",
          "model_module_version": "1.5.0",
          "state": {
            "_dom_classes": [],
            "_model_module": "@jupyter-widgets/controls",
            "_model_module_version": "1.5.0",
            "_model_name": "TextModel",
            "_view_count": null,
            "_view_module": "@jupyter-widgets/controls",
            "_view_module_version": "1.5.0",
            "_view_name": "TextView",
            "continuous_update": true,
            "description": "Resultado",
            "description_tooltip": null,
            "disabled": true,
            "layout": "IPY_MODEL_0a1166e3436a4800bd5972a820677c68",
            "placeholder": "​",
            "style": "IPY_MODEL_7b6c7c225aa844829d5906a87a68f887",
            "value": ""
          }
        },
        "0a1166e3436a4800bd5972a820677c68": {
          "model_module": "@jupyter-widgets/base",
          "model_name": "LayoutModel",
          "model_module_version": "1.2.0",
          "state": {
            "_model_module": "@jupyter-widgets/base",
            "_model_module_version": "1.2.0",
            "_model_name": "LayoutModel",
            "_view_count": null,
            "_view_module": "@jupyter-widgets/base",
            "_view_module_version": "1.2.0",
            "_view_name": "LayoutView",
            "align_content": null,
            "align_items": null,
            "align_self": null,
            "border": null,
            "bottom": null,
            "display": null,
            "flex": null,
            "flex_flow": null,
            "grid_area": null,
            "grid_auto_columns": null,
            "grid_auto_flow": null,
            "grid_auto_rows": null,
            "grid_column": null,
            "grid_gap": null,
            "grid_row": null,
            "grid_template_areas": null,
            "grid_template_columns": null,
            "grid_template_rows": null,
            "height": null,
            "justify_content": null,
            "justify_items": null,
            "left": null,
            "margin": null,
            "max_height": null,
            "max_width": null,
            "min_height": null,
            "min_width": null,
            "object_fit": null,
            "object_position": null,
            "order": null,
            "overflow": null,
            "overflow_x": null,
            "overflow_y": null,
            "padding": null,
            "right": null,
            "top": null,
            "visibility": null,
            "width": null
          }
        },
        "7b6c7c225aa844829d5906a87a68f887": {
          "model_module": "@jupyter-widgets/controls",
          "model_name": "DescriptionStyleModel",
          "model_module_version": "1.5.0",
          "state": {
            "_model_module": "@jupyter-widgets/controls",
            "_model_module_version": "1.5.0",
            "_model_name": "DescriptionStyleModel",
            "_view_count": null,
            "_view_module": "@jupyter-widgets/base",
            "_view_module_version": "1.2.0",
            "_view_name": "StyleView",
            "description_width": ""
          }
        }
      }
    }
  },
  "cells": [
    {
      "cell_type": "markdown",
      "source": [
        "<h1> LOAIZA CORONADO RODRIGO JAIRO</h1>\n",
        "<h2> ING. DE SISTEMAS</h2>\n",
        "data set de presdiccion de nivel de obesidad\n",
        "'Insufficient_Weight' : 0,\n",
        "'Normal_Weight' : 1,\n",
        "'Overweight_Level_I' : 2,\n",
        "'Overweight_Level_II' : 3,\n",
        "'Obesity_Type_I' : 4,\n",
        "'Obesity_Type_II' : 5,\n",
        "'Obesity_Type_III' : 6,"
      ],
      "metadata": {
        "id": "lh1HTvY3MJgg"
      }
    },
    {
      "cell_type": "code",
      "execution_count": 58,
      "metadata": {
        "id": "7DPydhGxPgAj",
        "colab": {
          "base_uri": "https://localhost:8080/"
        },
        "outputId": "25435436-e2f2-4125-e8ce-ff8e98f4958d"
      },
      "outputs": [
        {
          "output_type": "stream",
          "name": "stdout",
          "text": [
            "Drive already mounted at /content/drive; to attempt to forcibly remount, call drive.mount(\"/content/drive\", force_remount=True).\n"
          ]
        }
      ],
      "source": [
        "from google.colab import drive\n",
        "drive.mount('/content/drive')"
      ]
    },
    {
      "cell_type": "code",
      "source": [
        "# Cálculo científico y vectorial para python\n",
        "import numpy as np\n",
        "# Libreria para graficos\n",
        "import matplotlib.pyplot as plt\n",
        "import pandas as pd\n",
        "from sklearn.model_selection import train_test_split\n"
      ],
      "metadata": {
        "id": "BDizBgKgPi57"
      },
      "execution_count": 59,
      "outputs": []
    },
    {
      "cell_type": "markdown",
      "source": [
        "PREPROCESAMIENTO DE DATOS\n",
        "Los datos se cargan a dos variables una contiene las X file_path_features y la otra contiene las 'y' file_path_target"
      ],
      "metadata": {
        "id": "UAZaB-skM5jQ"
      }
    },
    {
      "cell_type": "code",
      "source": [
        "# Cargar los datasets desde los archivos CSV\n",
        "file_path_features = '/content/drive/MyDrive/SIS420 Inteligencia Artificial/SegundoSemestre/Dataset/features_v1'\n",
        "file_path_target = '/content/drive/MyDrive/SIS420 Inteligencia Artificial/SegundoSemestre/Dataset/target'\n",
        "data = pd.read_csv(file_path_features, header=0)  # 'header=0' asegura que la primera fila sea tratada como cabeceras\n",
        "\n",
        "\n",
        "# Verificar que las cabeceras se hayan leído correctamente\n",
        "print(data.head())  # Esto mostrará las primeras filas del dataset junto con los nombres de las columnas\n",
        "\n",
        "# Eliminar la primera columna irrelevante\n",
        "data = data.iloc[:, 1:]\n",
        "\n",
        "# Cargar las clases (Y)\n",
        "target_data = pd.read_csv(file_path_target)\n",
        "y = target_data.iloc[:, -1]  # Solo la columna de clases (NObeyesdad)"
      ],
      "metadata": {
        "id": "m7uy_rp_PkQ7",
        "colab": {
          "base_uri": "https://localhost:8080/"
        },
        "outputId": "72a36843-7915-44ee-cd73-7df7db914111"
      },
      "execution_count": 60,
      "outputs": [
        {
          "output_type": "stream",
          "name": "stdout",
          "text": [
            "   Unnamed: 0  Gender  family_history_with_overweight  FAVC  CAEC  SMOKE  SCC  \\\n",
            "0           0       0                               1     0     2      0    0   \n",
            "1           1       0                               1     0     2      1    1   \n",
            "2           2       1                               1     0     2      0    0   \n",
            "3           3       1                               0     0     2      0    0   \n",
            "4           4       1                               0     0     2      0    0   \n",
            "\n",
            "   CALC  MTRANS       Age    Height    Weight  FCVC       NCP  CH2O       FAF  \\\n",
            "0     3       3  0.148936  0.320755  0.186567   0.5  0.666667   0.5  0.000000   \n",
            "1     2       3  0.148936  0.132075  0.126866   1.0  0.666667   1.0  1.000000   \n",
            "2     1       3  0.191489  0.660377  0.283582   0.5  0.666667   0.5  0.666667   \n",
            "3     1       4  0.276596  0.660377  0.358209   1.0  0.666667   0.5  0.666667   \n",
            "4     2       3  0.170213  0.622642  0.379104   0.5  0.000000   0.5  0.000000   \n",
            "\n",
            "   TUE        BMI  \n",
            "0  0.5  24.386526  \n",
            "1  0.0  24.238227  \n",
            "2  0.5  23.765432  \n",
            "3  0.0  26.851852  \n",
            "4  0.0  28.342381  \n"
          ]
        }
      ]
    },
    {
      "cell_type": "markdown",
      "source": [
        "1. Se insertan atributos de booleanos, caracteres y textos al data set"
      ],
      "metadata": {
        "id": "nOa6rvKbNwZa"
      }
    },
    {
      "cell_type": "code",
      "source": [
        "#A partir de esta fila mantendremos el data set original en data y usaremos data_sintetic para el dataset sintetico\n",
        "data_sintetic = data.copy();\n",
        "# Columna `realiza_ejercicio`: Valores booleanos 0 o 1\n",
        "data_sintetic['realiza_ejercicio'] = np.random.choice([0, 1], size=len(data_sintetic))\n",
        "\n",
        "# Columna `nivel_actividad`: Valores categóricos ('Bajo', 'Moderado', 'Alto')\n",
        "niveles_actividad = ['B', 'M', 'A']\n",
        "data_sintetic['nivel_actividad'] = np.random.choice(niveles_actividad, size=len(data_sintetic))\n",
        "# Medicación\n",
        "text = ['antidepresivos', 'antipsicóticos', 'betabloqueantes','glucocorticoides','insulina','0']\n",
        "data_sintetic['Medicamentos'] = np.random.choice(text, size=data_sintetic.shape[0])\n",
        "\n"
      ],
      "metadata": {
        "id": "tAsjeDpzPmEq"
      },
      "execution_count": 61,
      "outputs": []
    },
    {
      "cell_type": "code",
      "source": [
        "# Verificar el dataset después de agregar las nuevas columnas\n",
        "print(data_sintetic.head())"
      ],
      "metadata": {
        "colab": {
          "base_uri": "https://localhost:8080/"
        },
        "id": "iSl42T2k8Vzj",
        "outputId": "19c90613-d027-4ba3-b14e-da7f29029252"
      },
      "execution_count": 62,
      "outputs": [
        {
          "output_type": "stream",
          "name": "stdout",
          "text": [
            "   Gender  family_history_with_overweight  FAVC  CAEC  SMOKE  SCC  CALC  \\\n",
            "0       0                               1     0     2      0    0     3   \n",
            "1       0                               1     0     2      1    1     2   \n",
            "2       1                               1     0     2      0    0     1   \n",
            "3       1                               0     0     2      0    0     1   \n",
            "4       1                               0     0     2      0    0     2   \n",
            "\n",
            "   MTRANS       Age    Height    Weight  FCVC       NCP  CH2O       FAF  TUE  \\\n",
            "0       3  0.148936  0.320755  0.186567   0.5  0.666667   0.5  0.000000  0.5   \n",
            "1       3  0.148936  0.132075  0.126866   1.0  0.666667   1.0  1.000000  0.0   \n",
            "2       3  0.191489  0.660377  0.283582   0.5  0.666667   0.5  0.666667  0.5   \n",
            "3       4  0.276596  0.660377  0.358209   1.0  0.666667   0.5  0.666667  0.0   \n",
            "4       3  0.170213  0.622642  0.379104   0.5  0.000000   0.5  0.000000  0.0   \n",
            "\n",
            "         BMI  realiza_ejercicio nivel_actividad      Medicamentos  \n",
            "0  24.386526                  0               M   betabloqueantes  \n",
            "1  24.238227                  1               B                 0  \n",
            "2  23.765432                  0               A    antipsicóticos  \n",
            "3  26.851852                  1               A  glucocorticoides  \n",
            "4  28.342381                  0               A    antipsicóticos  \n"
          ]
        }
      ]
    },
    {
      "cell_type": "markdown",
      "source": [
        "2. Duplicamos el data set considerando los valores min y max de cada columna para generar valores randomicos"
      ],
      "metadata": {
        "id": "-9x_IhhkOXRN"
      }
    },
    {
      "cell_type": "code",
      "source": [
        "# Calcular los valores mínimos y máximos de cada columna\n",
        "min_values = data_sintetic.min()\n",
        "max_values = data_sintetic.max()\n",
        "\n",
        "# Generar nuevos valores aleatorios dentro de los rangos mínimos y máximos\n",
        "new_data = pd.DataFrame()\n",
        "for column in data_sintetic.columns:\n",
        "    if data_sintetic[column].dtype == 'object':\n",
        "        new_data[column] = np.random.choice(data_sintetic[column].unique(), size=len(data_sintetic))\n",
        "    else:\n",
        "        new_data[column] = np.random.uniform(min_values[column], max_values[column], size=len(data_sintetic))\n",
        "\n",
        "# Concatenar el dataset original con el nuevo dataset generado\n",
        "augmented_data = pd.concat([data_sintetic, new_data], ignore_index=True)\n",
        "\n",
        "# Verificar el tamaño del nuevo dataset\n",
        "print(data_sintetic.shape)\n",
        "print(augmented_data.shape)\n",
        "print(augmented_data.tail())"
      ],
      "metadata": {
        "colab": {
          "base_uri": "https://localhost:8080/"
        },
        "id": "ypeaW0Um-pGG",
        "outputId": "38232166-e003-4d1d-9e32-2dfa93ae51c8"
      },
      "execution_count": 63,
      "outputs": [
        {
          "output_type": "stream",
          "name": "stdout",
          "text": [
            "(22869, 20)\n",
            "(45738, 20)\n",
            "         Gender  family_history_with_overweight      FAVC      CAEC     SMOKE  \\\n",
            "45733  0.684225                        0.570388  0.127263  0.196686  0.183397   \n",
            "45734  0.980039                        0.288287  0.129596  2.932805  0.293286   \n",
            "45735  0.889906                        0.430040  0.886030  0.619327  0.798626   \n",
            "45736  0.065352                        0.565203  0.023662  2.192221  0.169885   \n",
            "45737  0.784181                        0.646822  0.134650  0.413514  0.522580   \n",
            "\n",
            "            SCC      CALC    MTRANS       Age    Height    Weight      FCVC  \\\n",
            "45733  0.081245  1.189922  2.533829  0.399948  0.950506  0.448350  0.244437   \n",
            "45734  0.886137  0.985262  1.746451  0.978287  0.417971  0.116446  0.503585   \n",
            "45735  0.678028  2.414695  3.094023  0.631192  0.960187  0.989422  0.075686   \n",
            "45736  0.434536  0.606030  2.390409  0.149901  0.485180  0.538195  0.722832   \n",
            "45737  0.940160  2.718968  1.042672  0.565191  0.041215  0.705522  0.456292   \n",
            "\n",
            "            NCP      CH2O       FAF       TUE        BMI  realiza_ejercicio  \\\n",
            "45733  0.972155  0.793964  0.919123  0.004739  30.129019           0.351055   \n",
            "45734  0.293554  0.521718  0.414839  0.812875  15.482976           0.046377   \n",
            "45735  0.155988  0.068611  0.103235  0.130036  43.776363           0.193423   \n",
            "45736  0.047550  0.616680  0.940124  0.890525  14.750184           0.981612   \n",
            "45737  0.453275  0.290922  0.984467  0.749574  20.429409           0.787197   \n",
            "\n",
            "      nivel_actividad      Medicamentos  \n",
            "45733               A  glucocorticoides  \n",
            "45734               A    antipsicóticos  \n",
            "45735               B          insulina  \n",
            "45736               B    antidepresivos  \n",
            "45737               A    antidepresivos  \n"
          ]
        }
      ]
    },
    {
      "cell_type": "markdown",
      "source": [
        "Tambien duplicamos la y"
      ],
      "metadata": {
        "id": "UuAm-4FbO2K7"
      }
    },
    {
      "cell_type": "code",
      "source": [
        "# Duplicar las etiquetas de y para que coincidan con el tamaño del dataset aumentado\n",
        "new_y = np.random.choice(y, size=len(new_data), replace=True)  # Genera etiquetas aleatorias del conjunto original\n",
        "\n",
        "# Concatenar las etiquetas originales con las nuevas etiquetas generadas\n",
        "augmented_y = np.concatenate([y, new_y])\n",
        "\n",
        "# Verificar el tamaño de augmented_y\n",
        "print(f\"Dimensiones de y original: {y.shape}\")\n",
        "print(f\"Dimensiones de y aumentado: {augmented_y.shape}\")\n"
      ],
      "metadata": {
        "colab": {
          "base_uri": "https://localhost:8080/"
        },
        "id": "jTN_J__bA7UW",
        "outputId": "7b048593-19c2-44b9-f4b0-33341f142332"
      },
      "execution_count": 64,
      "outputs": [
        {
          "output_type": "stream",
          "name": "stdout",
          "text": [
            "Dimensiones de y original: (22869,)\n",
            "Dimensiones de y aumentado: (45738,)\n"
          ]
        }
      ]
    },
    {
      "cell_type": "code",
      "source": [
        "augmented_data['Gender'] = augmented_data['Gender'].round().astype(int)\n",
        "augmented_data['family_history_with_overweight'] = augmented_data['family_history_with_overweight'].round().astype(int)\n",
        "augmented_data['FAVC'] = augmented_data['FAVC'].round().astype(int)\n",
        "augmented_data['SMOKE'] = augmented_data['SMOKE'].round().astype(int)\n",
        "augmented_data['SCC'] = augmented_data['SCC'].round().astype(int)\n",
        "augmented_data['CALC'] = augmented_data['CALC'].round().astype(int)\n",
        "augmented_data['MTRANS'] = augmented_data['MTRANS'].round().astype(int)\n"
      ],
      "metadata": {
        "id": "5BmNmRlqFMI1"
      },
      "execution_count": 65,
      "outputs": []
    },
    {
      "cell_type": "code",
      "source": [
        "print(augmented_data)"
      ],
      "metadata": {
        "colab": {
          "base_uri": "https://localhost:8080/"
        },
        "id": "z-XHv0n4FYcI",
        "outputId": "cb9f26fe-317d-4132-d31b-cd212a2b4551"
      },
      "execution_count": 66,
      "outputs": [
        {
          "output_type": "stream",
          "name": "stdout",
          "text": [
            "       Gender  family_history_with_overweight  FAVC      CAEC  SMOKE  SCC  \\\n",
            "0           0                               1     0  2.000000      0    0   \n",
            "1           0                               1     0  2.000000      1    1   \n",
            "2           1                               1     0  2.000000      0    0   \n",
            "3           1                               0     0  2.000000      0    0   \n",
            "4           1                               0     0  2.000000      0    0   \n",
            "...       ...                             ...   ...       ...    ...  ...   \n",
            "45733       1                               1     0  0.196686      0    0   \n",
            "45734       1                               0     0  2.932805      0    1   \n",
            "45735       1                               0     1  0.619327      1    1   \n",
            "45736       0                               1     0  2.192221      0    0   \n",
            "45737       1                               1     0  0.413514      1    1   \n",
            "\n",
            "       CALC  MTRANS       Age    Height    Weight      FCVC       NCP  \\\n",
            "0         3       3  0.148936  0.320755  0.186567  0.500000  0.666667   \n",
            "1         2       3  0.148936  0.132075  0.126866  1.000000  0.666667   \n",
            "2         1       3  0.191489  0.660377  0.283582  0.500000  0.666667   \n",
            "3         1       4  0.276596  0.660377  0.358209  1.000000  0.666667   \n",
            "4         2       3  0.170213  0.622642  0.379104  0.500000  0.000000   \n",
            "...     ...     ...       ...       ...       ...       ...       ...   \n",
            "45733     1       3  0.399948  0.950506  0.448350  0.244437  0.972155   \n",
            "45734     1       2  0.978287  0.417971  0.116446  0.503585  0.293554   \n",
            "45735     2       3  0.631192  0.960187  0.989422  0.075686  0.155988   \n",
            "45736     1       2  0.149901  0.485180  0.538195  0.722832  0.047550   \n",
            "45737     3       1  0.565191  0.041215  0.705522  0.456292  0.453275   \n",
            "\n",
            "           CH2O       FAF       TUE        BMI  realiza_ejercicio  \\\n",
            "0      0.500000  0.000000  0.500000  24.386526           0.000000   \n",
            "1      1.000000  1.000000  0.000000  24.238227           1.000000   \n",
            "2      0.500000  0.666667  0.500000  23.765432           0.000000   \n",
            "3      0.500000  0.666667  0.000000  26.851852           1.000000   \n",
            "4      0.500000  0.000000  0.000000  28.342381           0.000000   \n",
            "...         ...       ...       ...        ...                ...   \n",
            "45733  0.793964  0.919123  0.004739  30.129019           0.351055   \n",
            "45734  0.521718  0.414839  0.812875  15.482976           0.046377   \n",
            "45735  0.068611  0.103235  0.130036  43.776363           0.193423   \n",
            "45736  0.616680  0.940124  0.890525  14.750184           0.981612   \n",
            "45737  0.290922  0.984467  0.749574  20.429409           0.787197   \n",
            "\n",
            "      nivel_actividad      Medicamentos  \n",
            "0                   M   betabloqueantes  \n",
            "1                   B                 0  \n",
            "2                   A    antipsicóticos  \n",
            "3                   A  glucocorticoides  \n",
            "4                   A    antipsicóticos  \n",
            "...               ...               ...  \n",
            "45733               A  glucocorticoides  \n",
            "45734               A    antipsicóticos  \n",
            "45735               B          insulina  \n",
            "45736               B    antidepresivos  \n",
            "45737               A    antidepresivos  \n",
            "\n",
            "[45738 rows x 20 columns]\n"
          ]
        }
      ]
    },
    {
      "cell_type": "code",
      "source": [
        "# 1. Convertir la columna 'nivel_actividad' a valores numéricos\n",
        "# Asignar un número a cada letra (por ejemplo, A: 0, B: 1, ..., E: 4)\n",
        "char_to_num = {'B': 0, 'M': 1, 'A': 2}\n",
        "augmented_data['nivel_actividad'] = augmented_data['nivel_actividad'].map(char_to_num)\n",
        "\n",
        "# 2. Convertir la columna 'Medicamentos' a valores numéricos\n",
        "# Asignar un valor a cada categoría de texto (por ejemplo, no: 0, sometimes: 1, Frequently: 2)\n",
        "text_to_num = {'0':0,'antidepresivos': 1,  'antipsicóticos':2, 'betabloqueantes':3,'glucocorticoides':4,'insulina':5}\n",
        "augmented_data['Medicamentos'] = augmented_data['Medicamentos'].map(text_to_num)\n",
        "print(augmented_data)"
      ],
      "metadata": {
        "colab": {
          "base_uri": "https://localhost:8080/"
        },
        "id": "O2amW_YE-r3c",
        "outputId": "f2090630-e39f-4ac8-d5e7-a56766606042"
      },
      "execution_count": 67,
      "outputs": [
        {
          "output_type": "stream",
          "name": "stdout",
          "text": [
            "       Gender  family_history_with_overweight  FAVC      CAEC  SMOKE  SCC  \\\n",
            "0           0                               1     0  2.000000      0    0   \n",
            "1           0                               1     0  2.000000      1    1   \n",
            "2           1                               1     0  2.000000      0    0   \n",
            "3           1                               0     0  2.000000      0    0   \n",
            "4           1                               0     0  2.000000      0    0   \n",
            "...       ...                             ...   ...       ...    ...  ...   \n",
            "45733       1                               1     0  0.196686      0    0   \n",
            "45734       1                               0     0  2.932805      0    1   \n",
            "45735       1                               0     1  0.619327      1    1   \n",
            "45736       0                               1     0  2.192221      0    0   \n",
            "45737       1                               1     0  0.413514      1    1   \n",
            "\n",
            "       CALC  MTRANS       Age    Height    Weight      FCVC       NCP  \\\n",
            "0         3       3  0.148936  0.320755  0.186567  0.500000  0.666667   \n",
            "1         2       3  0.148936  0.132075  0.126866  1.000000  0.666667   \n",
            "2         1       3  0.191489  0.660377  0.283582  0.500000  0.666667   \n",
            "3         1       4  0.276596  0.660377  0.358209  1.000000  0.666667   \n",
            "4         2       3  0.170213  0.622642  0.379104  0.500000  0.000000   \n",
            "...     ...     ...       ...       ...       ...       ...       ...   \n",
            "45733     1       3  0.399948  0.950506  0.448350  0.244437  0.972155   \n",
            "45734     1       2  0.978287  0.417971  0.116446  0.503585  0.293554   \n",
            "45735     2       3  0.631192  0.960187  0.989422  0.075686  0.155988   \n",
            "45736     1       2  0.149901  0.485180  0.538195  0.722832  0.047550   \n",
            "45737     3       1  0.565191  0.041215  0.705522  0.456292  0.453275   \n",
            "\n",
            "           CH2O       FAF       TUE        BMI  realiza_ejercicio  \\\n",
            "0      0.500000  0.000000  0.500000  24.386526           0.000000   \n",
            "1      1.000000  1.000000  0.000000  24.238227           1.000000   \n",
            "2      0.500000  0.666667  0.500000  23.765432           0.000000   \n",
            "3      0.500000  0.666667  0.000000  26.851852           1.000000   \n",
            "4      0.500000  0.000000  0.000000  28.342381           0.000000   \n",
            "...         ...       ...       ...        ...                ...   \n",
            "45733  0.793964  0.919123  0.004739  30.129019           0.351055   \n",
            "45734  0.521718  0.414839  0.812875  15.482976           0.046377   \n",
            "45735  0.068611  0.103235  0.130036  43.776363           0.193423   \n",
            "45736  0.616680  0.940124  0.890525  14.750184           0.981612   \n",
            "45737  0.290922  0.984467  0.749574  20.429409           0.787197   \n",
            "\n",
            "       nivel_actividad  Medicamentos  \n",
            "0                    1             3  \n",
            "1                    0             0  \n",
            "2                    2             2  \n",
            "3                    2             4  \n",
            "4                    2             2  \n",
            "...                ...           ...  \n",
            "45733                2             4  \n",
            "45734                2             2  \n",
            "45735                0             5  \n",
            "45736                0             1  \n",
            "45737                2             1  \n",
            "\n",
            "[45738 rows x 20 columns]\n"
          ]
        }
      ]
    },
    {
      "cell_type": "markdown",
      "source": [
        "3. Grafica que representa los datos de algunas columnas del data set original vs el data set sintetico"
      ],
      "metadata": {
        "id": "G6EyckCKQY4X"
      }
    },
    {
      "cell_type": "code",
      "source": [
        "# Comparar la columna 'Weight' entre el dataset original y el dataset sintetico\n",
        "# Histograma del dataset original (data)\n",
        "plt.figure(figsize=(10, 5))\n",
        "# Histograma del dataset original\n",
        "plt.subplot(1, 2, 1)\n",
        "plt.hist(data['Weight'], bins=20, color='blue', alpha=0.7, label='Original')\n",
        "plt.title('Distribución del Peso (Original)')\n",
        "plt.xlabel('Peso (Weight)')\n",
        "plt.ylabel('Frecuencia')\n",
        "\n",
        "# Histograma del dataset sintético (augmented_data)\n",
        "plt.subplot(1, 2, 2)\n",
        "plt.hist(augmented_data['Weight'], bins=20, color='green', alpha=0.7, label='Sintético')\n",
        "plt.title('Distribución del Peso (Sintético)')\n",
        "plt.xlabel('Peso (Weight)')\n",
        "plt.ylabel('Frecuencia')\n",
        "\n",
        "# Mostrar el gráfico\n",
        "plt.tight_layout()\n",
        "plt.show()\n"
      ],
      "metadata": {
        "colab": {
          "base_uri": "https://localhost:8080/",
          "height": 507
        },
        "id": "7wsfa9oAcRp-",
        "outputId": "1e9b185f-7d89-4706-8497-c042a482bbf3"
      },
      "execution_count": 68,
      "outputs": [
        {
          "output_type": "display_data",
          "data": {
            "text/plain": [
              "<Figure size 1000x500 with 2 Axes>"
            ],
            "image/png": "[encoded data removed]"
          },
          "metadata": {}
        }
      ]
    },
    {
      "cell_type": "code",
      "source": [
        "# Comparar la columna 'Age' entre el dataset original y el dataset sintetico\n",
        "# Histograma del dataset original (data)\n",
        "plt.figure(figsize=(10, 5))\n",
        "\n",
        "# Histograma del dataset original\n",
        "plt.subplot(1, 2, 1)\n",
        "plt.hist(data['Age'], bins=20, color='yellow', alpha=0.7, label='Original')\n",
        "plt.title('Distribución del Peso (Original)')\n",
        "plt.xlabel('EDAD (Age)')\n",
        "plt.ylabel('Frecuencia')\n",
        "\n",
        "# Histograma del dataset sintético (augmented_data)\n",
        "plt.subplot(1, 2, 2)\n",
        "plt.hist(augmented_data['Age'], bins=20, color='red', alpha=0.7, label='Sintético')\n",
        "plt.title('Distribución del Peso (Sintético)')\n",
        "plt.xlabel('AGE (Age)')\n",
        "plt.ylabel('Frecuencia')\n",
        "\n",
        "# Mostrar el gráfico\n",
        "plt.tight_layout()\n",
        "plt.show()"
      ],
      "metadata": {
        "colab": {
          "base_uri": "https://localhost:8080/",
          "height": 507
        },
        "id": "rfBTvzCZeOgX",
        "outputId": "e70813e8-c94a-460b-e726-9d10d634119c"
      },
      "execution_count": 69,
      "outputs": [
        {
          "output_type": "display_data",
          "data": {
            "text/plain": [
              "<Figure size 1000x500 with 2 Axes>"
            ],
            "image/png": "[encoded data removed]"
          },
          "metadata": {}
        }
      ]
    },
    {
      "cell_type": "markdown",
      "source": [
        "REGRESION LOGISTICA\n"
      ],
      "metadata": {
        "id": "C4ju2EdVHu1v"
      }
    },
    {
      "cell_type": "markdown",
      "source": [
        "NROMALIZACION\n",
        "Normalizamos augmented_data"
      ],
      "metadata": {
        "id": "YI9ZDD9SRuOO"
      }
    },
    {
      "cell_type": "code",
      "source": [
        "# Función sigmoide\n",
        "def calcularSigmoide(z):\n",
        "    z = np.array(z)\n",
        "    return 1 / (1 + np.exp(-z))"
      ],
      "metadata": {
        "id": "F3t7aPcOV2n4"
      },
      "execution_count": 70,
      "outputs": []
    },
    {
      "cell_type": "code",
      "source": [
        "# Función de costo para regresión logística binaria\n",
        "def calcularCosto(theta, X, y):\n",
        "    m = y.size  # número de ejemplos de entrenamiento\n",
        "    h = calcularSigmoide(X.dot(theta.T))\n",
        "    epsilon = 1e-5  # Para evitar problemas de logaritmo de 0\n",
        "    h = np.clip(h, epsilon, 1 - epsilon)  # Restringir h entre (epsilon, 1 - epsilon)\n",
        "    J = (1 / m) * np.sum(-y.dot(np.log(h)) - (1 - y).dot(np.log(1 - h)))\n",
        "    return J"
      ],
      "metadata": {
        "id": "mEgAOmUiV6bX"
      },
      "execution_count": 71,
      "outputs": []
    },
    {
      "cell_type": "code",
      "source": [
        "# Función de descenso por gradiente para actualizar theta\n",
        "def descensoGradiente(theta, X, y, alpha, num_iters):\n",
        "    m = y.size\n",
        "    J_history = []\n",
        "\n",
        "    for i in range(num_iters):\n",
        "        h = calcularSigmoide(X.dot(theta.T))\n",
        "        theta = theta - (alpha / m) * (h - y).dot(X)\n",
        "        J_history.append(calcularCosto(theta, X, y))\n",
        "\n",
        "    return theta, J_history"
      ],
      "metadata": {
        "id": "phUKVrFiV-An"
      },
      "execution_count": 72,
      "outputs": []
    },
    {
      "cell_type": "code",
      "source": [
        "# Función para hacer predicciones\n",
        "def predecir(X, theta):\n",
        "    return (calcularSigmoide(X.dot(theta.T)) >= 0.5).astype(int)"
      ],
      "metadata": {
        "id": "uzUxYCjML3t2"
      },
      "execution_count": 73,
      "outputs": []
    },
    {
      "cell_type": "code",
      "source": [
        "def normalizar_caracteristicas(X):\n",
        "    mu = np.mean(X, axis=0)\n",
        "    sigma = np.std(X, axis=0)\n",
        "    X_norm = (X - mu) / sigma\n",
        "    return X_norm, mu, sigma\n",
        "\n"
      ],
      "metadata": {
        "id": "le4r7jQK5fa-"
      },
      "execution_count": 74,
      "outputs": []
    },
    {
      "cell_type": "code",
      "source": [
        "# Dividir el dataset en datos de entrenamiento y prueba\n",
        "X_train, X_test, y_train, y_test = train_test_split(augmented_data, augmented_y, test_size=0.2, random_state=42)\n",
        "# Normalizar las características del conjunto de entrenamiento\n",
        "X_train_norm, mu, sigma = normalizar_caracteristicas(X_train)\n",
        "\n",
        "# Normalizar el conjunto de prueba utilizando los mismos parámetros (mu, sigma) del conjunto de entrenamiento\n",
        "X_test_norm = (X_test - mu) / sigma\n",
        "\n",
        "\n"
      ],
      "metadata": {
        "id": "w_d6GqXO5Tol"
      },
      "execution_count": 75,
      "outputs": []
    },
    {
      "cell_type": "code",
      "source": [
        "# Parámetros de regresión logística\n",
        "alpha = 0.01\n",
        "num_iters = 1000\n",
        "\n",
        "# Función para entrenar y evaluar una clase\n",
        "def entrenar_y_evaluar_clase(clase_objetivo):\n",
        "    # Crear etiquetas binarias: 1 para la clase objetivo, 0 para las demás\n",
        "    y_train_binario = (y_train == clase_objetivo).astype(int) #convierte True en 1 y False en 0\n",
        "\n",
        "    # Agregar una columna de unos para el término de intercepción (bias)\n",
        "    m, n = X_train_norm.shape\n",
        "    X_train_bias = np.concatenate([np.ones((m, 1)), X_train_norm], axis=1)\n",
        "\n",
        "    # Inicializar theta (parámetros del modelo)\n",
        "    theta_inicial = np.zeros(n + 1)\n",
        "\n",
        "    # Ejecutar el descenso por gradiente\n",
        "    theta, J_history = descensoGradiente(theta_inicial, X_train_bias, y_train_binario, alpha, num_iters)\n",
        "\n",
        "    # Graficar la convergencia del costo\n",
        "    plt.plot(np.arange(len(J_history)), J_history, lw=2)\n",
        "    plt.xlabel('Número de iteraciones')\n",
        "    plt.ylabel('Costo J')\n",
        "    plt.title(f'Convergencia del costo para la clase {clase_objetivo}')\n",
        "    plt.show()\n",
        "\n",
        "    # Evaluar la precisión en el conjunto de prueba\n",
        "    m_test = X_test_norm.shape[0]\n",
        "    X_test_bias = np.concatenate([np.ones((m_test, 1)), X_test_norm], axis=1)\n",
        "    y_pred = predecir(X_test_bias, theta)\n",
        "\n",
        "    # Calcular la precisión manualmente\n",
        "    aciertos = np.sum(y_pred == (y_test == clase_objetivo).astype(int))\n",
        "    precision = aciertos / m_test\n",
        "    print(f'Precisión para la clase {clase_objetivo}: {precision * 100:.2f}%')\n",
        "\n",
        "    # Mostrar los resultados del descenso por gradiente\n",
        "    print(f'Theta calculado para la clase {clase_objetivo}: {theta}')\n",
        "\n",
        "\n"
      ],
      "metadata": {
        "id": "ULM4a4OA4DqW"
      },
      "execution_count": 76,
      "outputs": []
    },
    {
      "cell_type": "code",
      "source": [
        "# Entrenar y evaluar la primera clase\n",
        "entrenar_y_evaluar_clase(0)\n"
      ],
      "metadata": {
        "colab": {
          "base_uri": "https://localhost:8080/",
          "height": 559
        },
        "id": "drxLluShRGFr",
        "outputId": "f990e4da-f683-4893-980d-f6f65ba22ac0"
      },
      "execution_count": 77,
      "outputs": [
        {
          "output_type": "display_data",
          "data": {
            "text/plain": [
              "<Figure size 640x480 with 1 Axes>"
            ],
            "image/png": "[encoded data removed]"
          },
          "metadata": {}
        },
        {
          "output_type": "stream",
          "name": "stdout",
          "text": [
            "Precisión para la clase 0: 87.51%\n",
            "Theta calculado para la clase 0: [-1.58081913 -0.07033497 -0.19148573 -0.02831614 -0.10181274  0.00524172\n",
            "  0.03731211  0.01758391  0.02458408 -0.07664211  0.00596851 -0.25038676\n",
            "  0.05134054  0.06433235 -0.07189837  0.06092005  0.09288481 -0.27531599\n",
            "  0.0037327  -0.00887161 -0.01169073]\n"
          ]
        }
      ]
    },
    {
      "cell_type": "code",
      "source": [
        "# Entrenar y evaluar las demas clases\n",
        "entrenar_y_evaluar_clase(1)\n",
        "entrenar_y_evaluar_clase(3)\n",
        "entrenar_y_evaluar_clase(4)\n",
        "entrenar_y_evaluar_clase(5)\n",
        "entrenar_y_evaluar_clase(6)"
      ],
      "metadata": {
        "colab": {
          "base_uri": "https://localhost:8080/",
          "height": 1000
        },
        "id": "vaC6O4CtTR2T",
        "outputId": "86180535-5ef2-4273-cb5f-bc709fb700be"
      },
      "execution_count": 78,
      "outputs": [
        {
          "output_type": "display_data",
          "data": {
            "text/plain": [
              "<Figure size 640x480 with 1 Axes>"
            ],
            "image/png": "[encoded data removed]"
          },
          "metadata": {}
        },
        {
          "output_type": "stream",
          "name": "stdout",
          "text": [
            "Precisión para la clase 1: 84.81%\n",
            "Theta calculado para la clase 1: [-1.44679954e+00 -9.94114478e-03 -1.19443729e-01 -5.15007848e-02\n",
            " -9.22305208e-02  2.49832420e-02  1.56355684e-03  2.29157370e-03\n",
            "  5.84279852e-02 -5.81185642e-02 -6.52341940e-02 -1.95710506e-01\n",
            " -3.00578909e-02  6.73059679e-02 -8.88664280e-02  7.20474362e-02\n",
            " -1.73987153e-02 -1.95763603e-01  5.85510601e-03 -1.45591321e-04\n",
            "  2.15997685e-03]\n"
          ]
        },
        {
          "output_type": "display_data",
          "data": {
            "text/plain": [
              "<Figure size 640x480 with 1 Axes>"
            ],
            "image/png": "[encoded data removed]"
          },
          "metadata": {}
        },
        {
          "output_type": "stream",
          "name": "stdout",
          "text": [
            "Precisión para la clase 3: 88.25%\n",
            "Theta calculado para la clase 3: [-1.53492674  0.11254908  0.09054491 -0.08771258  0.02641282 -0.02117102\n",
            " -0.03127663  0.05012276 -0.09434891  0.04587804 -0.01423094 -0.05478796\n",
            " -0.08507905 -0.055889   -0.00999318  0.00730868  0.0275227  -0.06351446\n",
            "  0.00233762 -0.00939805 -0.00997229]\n"
          ]
        },
        {
          "output_type": "display_data",
          "data": {
            "text/plain": [
              "<Figure size 640x480 with 1 Axes>"
            ],
            "image/png": "[encoded data removed]"
          },
          "metadata": {}
        },
        {
          "output_type": "stream",
          "name": "stdout",
          "text": [
            "Precisión para la clase 4: 85.55%\n",
            "Theta calculado para la clase 4: [-1.4453077   0.01939467  0.10963581  0.06003436  0.03129007  0.00195552\n",
            " -0.02266844  0.09563147 -0.05241974  0.01687287 -0.01806019  0.04326439\n",
            " -0.2081371  -0.11792165  0.06583557 -0.02181254  0.06518183  0.06741261\n",
            " -0.00261977 -0.00235104  0.00181324]\n"
          ]
        },
        {
          "output_type": "display_data",
          "data": {
            "text/plain": [
              "<Figure size 640x480 with 1 Axes>"
            ],
            "image/png": "[encoded data removed]"
          },
          "metadata": {}
        },
        {
          "output_type": "stream",
          "name": "stdout",
          "text": [
            "Precisión para la clase 5: 84.65%\n",
            "Theta calculado para la clase 5: [-1.41867374  0.33456673  0.10275966  0.04325978  0.04916733  0.00267397\n",
            " -0.02369604 -0.00439363 -0.09104375  0.08076747  0.17735315  0.23534734\n",
            "  0.01447185  0.00881559 -0.07849025 -0.00328686 -0.11353154  0.18053503\n",
            " -0.0023802  -0.0035468   0.01304598]\n"
          ]
        },
        {
          "output_type": "display_data",
          "data": {
            "text/plain": [
              "<Figure size 640x480 with 1 Axes>"
            ],
            "image/png": "[encoded data removed]"
          },
          "metadata": {}
        },
        {
          "output_type": "stream",
          "name": "stdout",
          "text": [
            "Precisión para la clase 6: 88.73%\n",
            "Theta calculado para la clase 6: [-1.31057862e+00 -3.73510751e-01  8.62090315e-02  3.58294731e-02\n",
            "  4.84368545e-02  7.56540841e-03  1.43943643e-02 -1.08110191e-01\n",
            "  1.47869896e-01  3.12529940e-02 -6.02420458e-02  3.01583838e-01\n",
            "  3.04504729e-01  9.49563115e-02  1.33752722e-01 -1.45985825e-01\n",
            " -1.04942675e-03  3.52634786e-01  8.41740529e-04  1.65605197e-02\n",
            "  2.35754744e-03]\n"
          ]
        }
      ]
    },
    {
      "cell_type": "markdown",
      "source": [
        "4. DATOS DE ENTRENAMIENTO Y DATOS DE PRUEBA"
      ],
      "metadata": {
        "id": "MfYGF3Orb4Sj"
      }
    },
    {
      "cell_type": "code",
      "source": [
        "# Función para el enfoque One-vs-All\n",
        "def entrenar_one_vs_all(X, y, num_etiquetas, alpha, num_iters):\n",
        "    m, n = X.shape\n",
        "    all_theta = np.zeros((num_etiquetas, n + 1))  # Guardar theta para cada clase\n",
        "    X_bias = np.concatenate([np.ones((m, 1)), X], axis=1)  # Agregar columna de unos\n",
        "    all_costs = []  # Lista para guardar los costos de cada clase\n",
        "\n",
        "    for clase in range(num_etiquetas):\n",
        "        print(f'Entrenando clase {clase} contra todas...')\n",
        "        y_binario = (y == clase).astype(int)  # 1 para la clase actual, 0 para las demás\n",
        "        theta_inicial = np.zeros(n + 1)\n",
        "        theta, J_history = descensoGradiente(theta_inicial, X_bias, y_binario, alpha, num_iters)\n",
        "        all_theta[clase, :] = theta\n",
        "        all_costs.append(J_history)  # Guardar los costos para esta clase\n",
        "\n",
        "    return all_theta, all_costs"
      ],
      "metadata": {
        "id": "T2UsUKl51MSb"
      },
      "execution_count": 79,
      "outputs": []
    },
    {
      "cell_type": "markdown",
      "source": [
        "5. Entrenamos el modelo comparando cada clase contra todos one vs all devolvemos una matriz de thetas optimizadas de cada clase y una lista que contiene el historial de costo por cada clase. esto nos sirve para graficar"
      ],
      "metadata": {
        "id": "9zxfoT4EcSVx"
      }
    },
    {
      "cell_type": "code",
      "source": [
        "# Función para predecir en One-vs-All\n",
        "def predecir_one_vs_all(X, all_theta):\n",
        "    X_bias = np.concatenate([np.ones((X.shape[0], 1)), X], axis=1)\n",
        "    probabilidades = calcularSigmoide(X_bias.dot(all_theta.T))\n",
        "    return np.argmax(probabilidades, axis=1)"
      ],
      "metadata": {
        "id": "m5-d3MY-XQwv"
      },
      "execution_count": 80,
      "outputs": []
    },
    {
      "cell_type": "code",
      "source": [
        "# Parámetros\n",
        "alpha = 0.01\n",
        "num_iters = 1000\n",
        "num_etiquetas = 7  # Número de clases\n",
        "\n",
        "# Entrenar el modelo One-vs-All y obtener los costos\n",
        "all_theta, all_costs = entrenar_one_vs_all(X_train_norm, y_train, num_etiquetas, alpha, num_iters)\n",
        "\n",
        "# Graficar las curvas de costo para todas las clases\n",
        "plt.figure(figsize=(10, 6))\n",
        "for clase in range(num_etiquetas):\n",
        "    plt.plot(np.arange(len(all_costs[clase])), all_costs[clase], label=f'Clase {clase}')\n",
        "plt.xlabel('Número de iteraciones')\n",
        "plt.ylabel('Costo J')\n",
        "plt.title('Convergencia del costo para todas las clases (One-vs-All)')\n",
        "plt.legend()\n",
        "plt.show()\n",
        "\n",
        "# Realizar predicciones en el conjunto de prueba\n",
        "y_pred = predecir_one_vs_all(X_test_norm, all_theta)\n",
        "\n",
        "# Calcular precisión\n",
        "precision = np.mean(y_pred == y_test) * 100\n",
        "print(f'Precisión del modelo One-vs-All: {precision:.2f}%')"
      ],
      "metadata": {
        "id": "NsgeJHL8Yk6G",
        "colab": {
          "base_uri": "https://localhost:8080/",
          "height": 703
        },
        "outputId": "a3d85498-48f7-4d59-b9ec-f51be016708e"
      },
      "execution_count": 81,
      "outputs": [
        {
          "output_type": "stream",
          "name": "stdout",
          "text": [
            "Entrenando clase 0 contra todas...\n",
            "Entrenando clase 1 contra todas...\n",
            "Entrenando clase 2 contra todas...\n",
            "Entrenando clase 3 contra todas...\n",
            "Entrenando clase 4 contra todas...\n",
            "Entrenando clase 5 contra todas...\n",
            "Entrenando clase 6 contra todas...\n"
          ]
        },
        {
          "output_type": "display_data",
          "data": {
            "text/plain": [
              "<Figure size 1000x600 with 1 Axes>"
            ],
            "image/png": "[encoded data removed]"
          },
          "metadata": {}
        },
        {
          "output_type": "stream",
          "name": "stdout",
          "text": [
            "Precisión del modelo One-vs-All: 36.89%\n"
          ]
        }
      ]
    },
    {
      "cell_type": "code",
      "source": [
        "# Predicción y evaluación\n",
        "y_pred1 = predecir_one_vs_all(X_test_norm, all_theta)\n",
        "precision = np.mean(y_pred == y_test)\n",
        "print(f\"Precisión en el conjunto de prueba: {precision * 100:.2f}%\")\n",
        "\n",
        "# Mostrar algunos ejemplos de predicciones\n",
        "num_ejemplos = 5\n",
        "print(\"\\nEjemplos de predicciones:\")\n",
        "for i in range(num_ejemplos):\n",
        "    print(f\"Ejemplo {i+1}:\")\n",
        "    print(f\"Predicción: {y_pred1[i]}\")\n",
        "    print(f\"Valor real: {y_test[i]}\")\n",
        "    print()"
      ],
      "metadata": {
        "colab": {
          "base_uri": "https://localhost:8080/"
        },
        "id": "MVxI1P2lxb42",
        "outputId": "e23d2f30-34f1-4336-e402-0f69c52ffc0c"
      },
      "execution_count": 82,
      "outputs": [
        {
          "output_type": "stream",
          "name": "stdout",
          "text": [
            "Precisión en el conjunto de prueba: 36.89%\n",
            "\n",
            "Ejemplos de predicciones:\n",
            "Ejemplo 1:\n",
            "Predicción: 6\n",
            "Valor real: 2\n",
            "\n",
            "Ejemplo 2:\n",
            "Predicción: 6\n",
            "Valor real: 6\n",
            "\n",
            "Ejemplo 3:\n",
            "Predicción: 0\n",
            "Valor real: 0\n",
            "\n",
            "Ejemplo 4:\n",
            "Predicción: 5\n",
            "Valor real: 5\n",
            "\n",
            "Ejemplo 5:\n",
            "Predicción: 5\n",
            "Valor real: 5\n",
            "\n"
          ]
        }
      ]
    },
    {
      "cell_type": "code",
      "source": [
        "import ipywidgets as widgets\n",
        "from IPython.display import display\n",
        "# Crear campos de entrada interactivos con el número de características\n",
        "num_caracteristicas = X_train.shape[1]  # Esto debería ser igual al número de columnas en X_train\n",
        "labels = [f'Característica {i+1}' for i in range(num_caracteristicas)]\n",
        "inputs = [widgets.FloatText(description=label, value=0.0) for label in labels]"
      ],
      "metadata": {
        "id": "eizmBaICgECt"
      },
      "execution_count": 83,
      "outputs": []
    },
    {
      "cell_type": "code",
      "source": [
        "def normalizar_valores(valores, mu, sigma):\n",
        "    # Asegurarse de que mu y sigma sean ndarrays\n",
        "    mu = np.array(mu)\n",
        "    sigma = np.array(sigma)\n",
        "\n",
        "    # Reemplazar valores de sigma que son 0 con 1 para evitar división por 0\n",
        "    sigma_ajustado = np.where(sigma == 0, 1, sigma)\n",
        "\n",
        "    # Normalizar los valores ingresados\n",
        "    valores_norm = (valores - mu) / sigma_ajustado\n",
        "\n",
        "    return valores_norm\n",
        "# Función que se ejecuta al hacer clic en el botón de predicción\n",
        "def hacer_prediccion(b):\n",
        "    # Tomar los valores ingresados por el usuario\n",
        "    valores = np.array([entrada.value for entrada in inputs]).reshape(1, -1)\n",
        "\n",
        "    # Verificar que los valores ingresados tengan la longitud correcta\n",
        "    if valores.shape[1] != num_caracteristicas:\n",
        "        resultado.value = f\"Error: Se esperaban {num_caracteristicas} características.\"\n",
        "        return\n",
        "\n",
        "    # Normalizar los valores ingresados usando la función con sigma ajustado\n",
        "    valores_norm = normalizar_valores(valores, mu, sigma)\n",
        "\n",
        "    # Realizar la predicción usando el modelo One-vs-All\n",
        "    prediccion = predecir_one_vs_all(valores_norm, all_theta)\n",
        "\n",
        "    # Mostrar el resultado\n",
        "    resultado.value = f\"La predicción es: Clase {prediccion[0]}\""
      ],
      "metadata": {
        "id": "X2IPJM6KgG4c"
      },
      "execution_count": 84,
      "outputs": []
    },
    {
      "cell_type": "code",
      "source": [
        "# Crear botón de predicción\n",
        "boton = widgets.Button(description=\"Predecir\")\n",
        "boton.on_click(hacer_prediccion)\n",
        "\n",
        "# Crear un campo de salida para mostrar el resultado de la predicción\n",
        "resultado = widgets.Text(value='', description='Resultado', disabled=True)\n",
        "\n",
        "# Mostrar los campos de entrada y el botón\n",
        "display(*inputs, boton, resultado)"
      ],
      "metadata": {
        "colab": {
          "base_uri": "https://localhost:8080/",
          "height": 683,
          "referenced_widgets": [
            "a24886589997477dba0b842e7c8ab2f7",
            "9900fd9025f348d08d60e90cc69e420c",
            "3b79fb231b104e8ca42728736e9856cd",
            "04dce824ce86486184e56375bc7fddfc",
            "003eafb8576e4a21904f2c47b23e75a2",
            "f2ce905710814b31826e2a7d7002f207",
            "76b96ab8e4c749d497cfc865a22b15cb",
            "fc032e0025924d0eb1d2891b952492a5",
            "945aee57c4504213a5068cc11a0ba792",
            "8a4ef9f8194c477dbce8f3aa74f42bd3",
            "6428d0f5483342b8a3ee1593733eebc4",
            "bff89026b12b46409a7cb0e41c59f628",
            "f3e40386dc6141c293e519103a6acc39",
            "c1b97a43a5c0483cb8dba18692502be3",
            "a47d76e7957d4e108aa6f949db216b52",
            "bec4e38533ce4931bd4728a0995fd20a",
            "5b15a4eba99a463db6c89f2334113cd8",
            "03d1922a21e54120962514fc8388416d",
            "d547b8df16de464cbc701e25a4c666ab",
            "d51c4a3b17df44dbad6cfaba2375c1db",
            "66445762e0a04c6cb86d741474f25f3d",
            "22e6b8293e1e4d69a4e12a1b3d7f7261",
            "fec4bc099dec4ca38a77779db78138e0",
            "2112cd5d837b49a09e8d252b4e1a3960",
            "13c449db6e9749cfabcccd158a6398a6",
            "1d147e93d12f42f4a6e29a6f5ee74a6f",
            "dc266bf2e90f41498864d6cbe91c1884",
            "526ece786da545ea86465adf31bb4510",
            "62ec804a6c3f435f83a8a3569c11ec33",
            "d2c71dbf9ee7415fb0d371908565bf61",
            "0ab433aae5974217804a6611dc9c4e8e",
            "f71ca5230b7e400f8058729099028c99",
            "ab2ad96d7037484581956615be489c0c",
            "7d9f1cf4702644dba345c0d36ec2888e",
            "ed0a79ac1ff84f57b18157390a53e249",
            "8db8f9e1521546f19107995c33e12a6d",
            "55fddd3891704cc4a9b015c14f3174c8",
            "2d42b8202f9248988274fe2c0878c252",
            "9e3b3b6d0b7f42d8b86ecad636d1a6ed",
            "c39ab69779be40f7a5e494b6b13abebb",
            "43ccef0fa8a44748a717dfdedfd6f670",
            "4bed4dfb2e6c459286858061582d5f87",
            "28899ab1743e4da58563c5b345b77a63",
            "8e695e7d455e40b1856f2955b091eef8",
            "177a0f97d14d4d1db5f79c255ee889d8",
            "6555491abae24f48a27006b6c61bc4f0",
            "ac24e64eaee643d089b5640e86988c0d",
            "aed1995fa77547e59315894d209748c1",
            "a6a18db7f2634b69bcf39e955c109a1f",
            "761faf67f44a4f54b5a83c358339127e",
            "1ce13255672345c9a93ad64fe12c7de7",
            "6196aa1611324ace95aec6ecae2280ce",
            "7200788fb1014f58b19249eb0bce27c7",
            "58bd1cb2a34649ed91332b4dbc401a62",
            "6637100588d1469ca5eb98b429a8ba14",
            "718a0bdc47a0466a86196b8f0a50693a",
            "6023b8b8cf43401db284db1b2c0069ee",
            "906598788da44e8c9dfad48199432b0e",
            "c96cf0b003274936810299c42d6e4dbc",
            "5545e6f1fd94467dbd557610d1717753",
            "cd3945ac7deb44aaa071ad844b00e3ee",
            "1c3e6fb7f23d40c28afb20e30a6e85c6",
            "5b52d4050e0e490db9022d8dc0e0fca0",
            "9fd957bbc6604d48b4f64f2964565501",
            "0a1166e3436a4800bd5972a820677c68",
            "7b6c7c225aa844829d5906a87a68f887"
          ]
        },
        "id": "yI6B8vMFgI4s",
        "outputId": "723acc3d-0575-45fc-ae0f-f9d5314c87cc"
      },
      "execution_count": 85,
      "outputs": [
        {
          "output_type": "display_data",
          "data": {
            "text/plain": [
              "FloatText(value=0.0, description='Característica 1')"
            ],
            "application/vnd.jupyter.widget-view+json": {
              "version_major": 2,
              "version_minor": 0,
              "model_id": "a24886589997477dba0b842e7c8ab2f7"
            }
          },
          "metadata": {}
        },
        {
          "output_type": "display_data",
          "data": {
            "text/plain": [
              "FloatText(value=0.0, description='Característica 2')"
            ],
            "application/vnd.jupyter.widget-view+json": {
              "version_major": 2,
              "version_minor": 0,
              "model_id": "04dce824ce86486184e56375bc7fddfc"
            }
          },
          "metadata": {}
        },
        {
          "output_type": "display_data",
          "data": {
            "text/plain": [
              "FloatText(value=0.0, description='Característica 3')"
            ],
            "application/vnd.jupyter.widget-view+json": {
              "version_major": 2,
              "version_minor": 0,
              "model_id": "76b96ab8e4c749d497cfc865a22b15cb"
            }
          },
          "metadata": {}
        },
        {
          "output_type": "display_data",
          "data": {
            "text/plain": [
              "FloatText(value=0.0, description='Característica 4')"
            ],
            "application/vnd.jupyter.widget-view+json": {
              "version_major": 2,
              "version_minor": 0,
              "model_id": "8a4ef9f8194c477dbce8f3aa74f42bd3"
            }
          },
          "metadata": {}
        },
        {
          "output_type": "display_data",
          "data": {
            "text/plain": [
              "FloatText(value=0.0, description='Característica 5')"
            ],
            "application/vnd.jupyter.widget-view+json": {
              "version_major": 2,
              "version_minor": 0,
              "model_id": "f3e40386dc6141c293e519103a6acc39"
            }
          },
          "metadata": {}
        },
        {
          "output_type": "display_data",
          "data": {
            "text/plain": [
              "FloatText(value=0.0, description='Característica 6')"
            ],
            "application/vnd.jupyter.widget-view+json": {
              "version_major": 2,
              "version_minor": 0,
              "model_id": "bec4e38533ce4931bd4728a0995fd20a"
            }
          },
          "metadata": {}
        },
        {
          "output_type": "display_data",
          "data": {
            "text/plain": [
              "FloatText(value=0.0, description='Característica 7')"
            ],
            "application/vnd.jupyter.widget-view+json": {
              "version_major": 2,
              "version_minor": 0,
              "model_id": "d547b8df16de464cbc701e25a4c666ab"
            }
          },
          "metadata": {}
        },
        {
          "output_type": "display_data",
          "data": {
            "text/plain": [
              "FloatText(value=0.0, description='Característica 8')"
            ],
            "application/vnd.jupyter.widget-view+json": {
              "version_major": 2,
              "version_minor": 0,
              "model_id": "22e6b8293e1e4d69a4e12a1b3d7f7261"
            }
          },
          "metadata": {}
        },
        {
          "output_type": "display_data",
          "data": {
            "text/plain": [
              "FloatText(value=0.0, description='Característica 9')"
            ],
            "application/vnd.jupyter.widget-view+json": {
              "version_major": 2,
              "version_minor": 0,
              "model_id": "13c449db6e9749cfabcccd158a6398a6"
            }
          },
          "metadata": {}
        },
        {
          "output_type": "display_data",
          "data": {
            "text/plain": [
              "FloatText(value=0.0, description='Característica 10')"
            ],
            "application/vnd.jupyter.widget-view+json": {
              "version_major": 2,
              "version_minor": 0,
              "model_id": "526ece786da545ea86465adf31bb4510"
            }
          },
          "metadata": {}
        },
        {
          "output_type": "display_data",
          "data": {
            "text/plain": [
              "FloatText(value=0.0, description='Característica 11')"
            ],
            "application/vnd.jupyter.widget-view+json": {
              "version_major": 2,
              "version_minor": 0,
              "model_id": "0ab433aae5974217804a6611dc9c4e8e"
            }
          },
          "metadata": {}
        },
        {
          "output_type": "display_data",
          "data": {
            "text/plain": [
              "FloatText(value=0.0, description='Característica 12')"
            ],
            "application/vnd.jupyter.widget-view+json": {
              "version_major": 2,
              "version_minor": 0,
              "model_id": "7d9f1cf4702644dba345c0d36ec2888e"
            }
          },
          "metadata": {}
        },
        {
          "output_type": "display_data",
          "data": {
            "text/plain": [
              "FloatText(value=0.0, description='Característica 13')"
            ],
            "application/vnd.jupyter.widget-view+json": {
              "version_major": 2,
              "version_minor": 0,
              "model_id": "55fddd3891704cc4a9b015c14f3174c8"
            }
          },
          "metadata": {}
        },
        {
          "output_type": "display_data",
          "data": {
            "text/plain": [
              "FloatText(value=0.0, description='Característica 14')"
            ],
            "application/vnd.jupyter.widget-view+json": {
              "version_major": 2,
              "version_minor": 0,
              "model_id": "c39ab69779be40f7a5e494b6b13abebb"
            }
          },
          "metadata": {}
        },
        {
          "output_type": "display_data",
          "data": {
            "text/plain": [
              "FloatText(value=0.0, description='Característica 15')"
            ],
            "application/vnd.jupyter.widget-view+json": {
              "version_major": 2,
              "version_minor": 0,
              "model_id": "28899ab1743e4da58563c5b345b77a63"
            }
          },
          "metadata": {}
        },
        {
          "output_type": "display_data",
          "data": {
            "text/plain": [
              "FloatText(value=0.0, description='Característica 16')"
            ],
            "application/vnd.jupyter.widget-view+json": {
              "version_major": 2,
              "version_minor": 0,
              "model_id": "6555491abae24f48a27006b6c61bc4f0"
            }
          },
          "metadata": {}
        },
        {
          "output_type": "display_data",
          "data": {
            "text/plain": [
              "FloatText(value=0.0, description='Característica 17')"
            ],
            "application/vnd.jupyter.widget-view+json": {
              "version_major": 2,
              "version_minor": 0,
              "model_id": "a6a18db7f2634b69bcf39e955c109a1f"
            }
          },
          "metadata": {}
        },
        {
          "output_type": "display_data",
          "data": {
            "text/plain": [
              "FloatText(value=0.0, description='Característica 18')"
            ],
            "application/vnd.jupyter.widget-view+json": {
              "version_major": 2,
              "version_minor": 0,
              "model_id": "6196aa1611324ace95aec6ecae2280ce"
            }
          },
          "metadata": {}
        },
        {
          "output_type": "display_data",
          "data": {
            "text/plain": [
              "FloatText(value=0.0, description='Característica 19')"
            ],
            "application/vnd.jupyter.widget-view+json": {
              "version_major": 2,
              "version_minor": 0,
              "model_id": "6637100588d1469ca5eb98b429a8ba14"
            }
          },
          "metadata": {}
        },
        {
          "output_type": "display_data",
          "data": {
            "text/plain": [
              "FloatText(value=0.0, description='Característica 20')"
            ],
            "application/vnd.jupyter.widget-view+json": {
              "version_major": 2,
              "version_minor": 0,
              "model_id": "906598788da44e8c9dfad48199432b0e"
            }
          },
          "metadata": {}
        },
        {
          "output_type": "display_data",
          "data": {
            "text/plain": [
              "Button(description='Predecir', style=ButtonStyle())"
            ],
            "application/vnd.jupyter.widget-view+json": {
              "version_major": 2,
              "version_minor": 0,
              "model_id": "cd3945ac7deb44aaa071ad844b00e3ee"
            }
          },
          "metadata": {}
        },
        {
          "output_type": "display_data",
          "data": {
            "text/plain": [
              "Text(value='', description='Resultado', disabled=True)"
            ],
            "application/vnd.jupyter.widget-view+json": {
              "version_major": 2,
              "version_minor": 0,
              "model_id": "9fd957bbc6604d48b4f64f2964565501"
            }
          },
          "metadata": {}
        }
      ]
    }
  ]
}
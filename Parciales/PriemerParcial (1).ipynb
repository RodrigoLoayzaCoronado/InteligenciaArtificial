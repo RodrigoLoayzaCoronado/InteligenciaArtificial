{
  "nbformat": 4,
  "nbformat_minor": 0,
  "metadata": {
    "colab": {
      "provenance": []
    },
    "kernelspec": {
      "name": "python3",
      "display_name": "Python 3"
    },
    "language_info": {
      "name": "python"
    },
    "widgets": {
      "application/vnd.jupyter.widget-state+json": {
        "f5a66d3c25754590828f31bb428cff03": {
          "model_module": "@jupyter-widgets/controls",
          "model_name": "FloatTextModel",
          "model_module_version": "1.5.0",
          "state": {
            "_dom_classes": [],
            "_model_module": "@jupyter-widgets/controls",
            "_model_module_version": "1.5.0",
            "_model_name": "FloatTextModel",
            "_view_count": null,
            "_view_module": "@jupyter-widgets/controls",
            "_view_module_version": "1.5.0",
            "_view_name": "FloatTextView",
            "continuous_update": false,
            "description": "Característica 1",
            "description_tooltip": null,
            "disabled": false,
            "layout": "IPY_MODEL_9d04aff5366d42fa963261ee8d75aa97",
            "step": null,
            "style": "IPY_MODEL_d7f28c70d1ad4fce8fba770cf8399327",
            "value": 0
          }
        },
        "9d04aff5366d42fa963261ee8d75aa97": {
          "model_module": "@jupyter-widgets/base",
          "model_name": "LayoutModel",
          "model_module_version": "1.2.0",
          "state": {
            "_model_module": "@jupyter-widgets/base",
            "_model_module_version": "1.2.0",
            "_model_name": "LayoutModel",
            "_view_count": null,
            "_view_module": "@jupyter-widgets/base",
            "_view_module_version": "1.2.0",
            "_view_name": "LayoutView",
            "align_content": null,
            "align_items": null,
            "align_self": null,
            "border": null,
            "bottom": null,
            "display": null,
            "flex": null,
            "flex_flow": null,
            "grid_area": null,
            "grid_auto_columns": null,
            "grid_auto_flow": null,
            "grid_auto_rows": null,
            "grid_column": null,
            "grid_gap": null,
            "grid_row": null,
            "grid_template_areas": null,
            "grid_template_columns": null,
            "grid_template_rows": null,
            "height": null,
            "justify_content": null,
            "justify_items": null,
            "left": null,
            "margin": null,
            "max_height": null,
            "max_width": null,
            "min_height": null,
            "min_width": null,
            "object_fit": null,
            "object_position": null,
            "order": null,
            "overflow": null,
            "overflow_x": null,
            "overflow_y": null,
            "padding": null,
            "right": null,
            "top": null,
            "visibility": null,
            "width": null
          }
        },
        "d7f28c70d1ad4fce8fba770cf8399327": {
          "model_module": "@jupyter-widgets/controls",
          "model_name": "DescriptionStyleModel",
          "model_module_version": "1.5.0",
          "state": {
            "_model_module": "@jupyter-widgets/controls",
            "_model_module_version": "1.5.0",
            "_model_name": "DescriptionStyleModel",
            "_view_count": null,
            "_view_module": "@jupyter-widgets/base",
            "_view_module_version": "1.2.0",
            "_view_name": "StyleView",
            "description_width": ""
          }
        },
        "b067906546ab40218d745106fb75d499": {
          "model_module": "@jupyter-widgets/controls",
          "model_name": "FloatTextModel",
          "model_module_version": "1.5.0",
          "state": {
            "_dom_classes": [],
            "_model_module": "@jupyter-widgets/controls",
            "_model_module_version": "1.5.0",
            "_model_name": "FloatTextModel",
            "_view_count": null,
            "_view_module": "@jupyter-widgets/controls",
            "_view_module_version": "1.5.0",
            "_view_name": "FloatTextView",
            "continuous_update": false,
            "description": "Característica 2",
            "description_tooltip": null,
            "disabled": false,
            "layout": "IPY_MODEL_01be994bde194920b8e1706ded1af4c5",
            "step": null,
            "style": "IPY_MODEL_7221ca00f1684194a846b443a9f8d7d6",
            "value": 0
          }
        },
        "01be994bde194920b8e1706ded1af4c5": {
          "model_module": "@jupyter-widgets/base",
          "model_name": "LayoutModel",
          "model_module_version": "1.2.0",
          "state": {
            "_model_module": "@jupyter-widgets/base",
            "_model_module_version": "1.2.0",
            "_model_name": "LayoutModel",
            "_view_count": null,
            "_view_module": "@jupyter-widgets/base",
            "_view_module_version": "1.2.0",
            "_view_name": "LayoutView",
            "align_content": null,
            "align_items": null,
            "align_self": null,
            "border": null,
            "bottom": null,
            "display": null,
            "flex": null,
            "flex_flow": null,
            "grid_area": null,
            "grid_auto_columns": null,
            "grid_auto_flow": null,
            "grid_auto_rows": null,
            "grid_column": null,
            "grid_gap": null,
            "grid_row": null,
            "grid_template_areas": null,
            "grid_template_columns": null,
            "grid_template_rows": null,
            "height": null,
            "justify_content": null,
            "justify_items": null,
            "left": null,
            "margin": null,
            "max_height": null,
            "max_width": null,
            "min_height": null,
            "min_width": null,
            "object_fit": null,
            "object_position": null,
            "order": null,
            "overflow": null,
            "overflow_x": null,
            "overflow_y": null,
            "padding": null,
            "right": null,
            "top": null,
            "visibility": null,
            "width": null
          }
        },
        "7221ca00f1684194a846b443a9f8d7d6": {
          "model_module": "@jupyter-widgets/controls",
          "model_name": "DescriptionStyleModel",
          "model_module_version": "1.5.0",
          "state": {
            "_model_module": "@jupyter-widgets/controls",
            "_model_module_version": "1.5.0",
            "_model_name": "DescriptionStyleModel",
            "_view_count": null,
            "_view_module": "@jupyter-widgets/base",
            "_view_module_version": "1.2.0",
            "_view_name": "StyleView",
            "description_width": ""
          }
        },
        "1db88ce50fa74e5795813aa9bf16de5e": {
          "model_module": "@jupyter-widgets/controls",
          "model_name": "FloatTextModel",
          "model_module_version": "1.5.0",
          "state": {
            "_dom_classes": [],
            "_model_module": "@jupyter-widgets/controls",
            "_model_module_version": "1.5.0",
            "_model_name": "FloatTextModel",
            "_view_count": null,
            "_view_module": "@jupyter-widgets/controls",
            "_view_module_version": "1.5.0",
            "_view_name": "FloatTextView",
            "continuous_update": false,
            "description": "Característica 3",
            "description_tooltip": null,
            "disabled": false,
            "layout": "IPY_MODEL_86243d602caa47ae99d03057335b9f98",
            "step": null,
            "style": "IPY_MODEL_abf9aa6016da49ed81a848899dfc81ea",
            "value": 0
          }
        },
        "86243d602caa47ae99d03057335b9f98": {
          "model_module": "@jupyter-widgets/base",
          "model_name": "LayoutModel",
          "model_module_version": "1.2.0",
          "state": {
            "_model_module": "@jupyter-widgets/base",
            "_model_module_version": "1.2.0",
            "_model_name": "LayoutModel",
            "_view_count": null,
            "_view_module": "@jupyter-widgets/base",
            "_view_module_version": "1.2.0",
            "_view_name": "LayoutView",
            "align_content": null,
            "align_items": null,
            "align_self": null,
            "border": null,
            "bottom": null,
            "display": null,
            "flex": null,
            "flex_flow": null,
            "grid_area": null,
            "grid_auto_columns": null,
            "grid_auto_flow": null,
            "grid_auto_rows": null,
            "grid_column": null,
            "grid_gap": null,
            "grid_row": null,
            "grid_template_areas": null,
            "grid_template_columns": null,
            "grid_template_rows": null,
            "height": null,
            "justify_content": null,
            "justify_items": null,
            "left": null,
            "margin": null,
            "max_height": null,
            "max_width": null,
            "min_height": null,
            "min_width": null,
            "object_fit": null,
            "object_position": null,
            "order": null,
            "overflow": null,
            "overflow_x": null,
            "overflow_y": null,
            "padding": null,
            "right": null,
            "top": null,
            "visibility": null,
            "width": null
          }
        },
        "abf9aa6016da49ed81a848899dfc81ea": {
          "model_module": "@jupyter-widgets/controls",
          "model_name": "DescriptionStyleModel",
          "model_module_version": "1.5.0",
          "state": {
            "_model_module": "@jupyter-widgets/controls",
            "_model_module_version": "1.5.0",
            "_model_name": "DescriptionStyleModel",
            "_view_count": null,
            "_view_module": "@jupyter-widgets/base",
            "_view_module_version": "1.2.0",
            "_view_name": "StyleView",
            "description_width": ""
          }
        },
        "d804092a18d14a52b29f1a25d38dd9fd": {
          "model_module": "@jupyter-widgets/controls",
          "model_name": "FloatTextModel",
          "model_module_version": "1.5.0",
          "state": {
            "_dom_classes": [],
            "_model_module": "@jupyter-widgets/controls",
            "_model_module_version": "1.5.0",
            "_model_name": "FloatTextModel",
            "_view_count": null,
            "_view_module": "@jupyter-widgets/controls",
            "_view_module_version": "1.5.0",
            "_view_name": "FloatTextView",
            "continuous_update": false,
            "description": "Característica 4",
            "description_tooltip": null,
            "disabled": false,
            "layout": "IPY_MODEL_bc38a54d77e74b9781bae818002f7370",
            "step": null,
            "style": "IPY_MODEL_a78d217228d74440966d90a501d0960b",
            "value": 0
          }
        },
        "bc38a54d77e74b9781bae818002f7370": {
          "model_module": "@jupyter-widgets/base",
          "model_name": "LayoutModel",
          "model_module_version": "1.2.0",
          "state": {
            "_model_module": "@jupyter-widgets/base",
            "_model_module_version": "1.2.0",
            "_model_name": "LayoutModel",
            "_view_count": null,
            "_view_module": "@jupyter-widgets/base",
            "_view_module_version": "1.2.0",
            "_view_name": "LayoutView",
            "align_content": null,
            "align_items": null,
            "align_self": null,
            "border": null,
            "bottom": null,
            "display": null,
            "flex": null,
            "flex_flow": null,
            "grid_area": null,
            "grid_auto_columns": null,
            "grid_auto_flow": null,
            "grid_auto_rows": null,
            "grid_column": null,
            "grid_gap": null,
            "grid_row": null,
            "grid_template_areas": null,
            "grid_template_columns": null,
            "grid_template_rows": null,
            "height": null,
            "justify_content": null,
            "justify_items": null,
            "left": null,
            "margin": null,
            "max_height": null,
            "max_width": null,
            "min_height": null,
            "min_width": null,
            "object_fit": null,
            "object_position": null,
            "order": null,
            "overflow": null,
            "overflow_x": null,
            "overflow_y": null,
            "padding": null,
            "right": null,
            "top": null,
            "visibility": null,
            "width": null
          }
        },
        "a78d217228d74440966d90a501d0960b": {
          "model_module": "@jupyter-widgets/controls",
          "model_name": "DescriptionStyleModel",
          "model_module_version": "1.5.0",
          "state": {
            "_model_module": "@jupyter-widgets/controls",
            "_model_module_version": "1.5.0",
            "_model_name": "DescriptionStyleModel",
            "_view_count": null,
            "_view_module": "@jupyter-widgets/base",
            "_view_module_version": "1.2.0",
            "_view_name": "StyleView",
            "description_width": ""
          }
        },
        "a234df19a9fe46ebae25a2689e2f19aa": {
          "model_module": "@jupyter-widgets/controls",
          "model_name": "FloatTextModel",
          "model_module_version": "1.5.0",
          "state": {
            "_dom_classes": [],
            "_model_module": "@jupyter-widgets/controls",
            "_model_module_version": "1.5.0",
            "_model_name": "FloatTextModel",
            "_view_count": null,
            "_view_module": "@jupyter-widgets/controls",
            "_view_module_version": "1.5.0",
            "_view_name": "FloatTextView",
            "continuous_update": false,
            "description": "Característica 5",
            "description_tooltip": null,
            "disabled": false,
            "layout": "IPY_MODEL_54f00b8667f74516a6424aaf461e08e6",
            "step": null,
            "style": "IPY_MODEL_4712a9a492e3484eba7639b73c13f06b",
            "value": 0
          }
        },
        "54f00b8667f74516a6424aaf461e08e6": {
          "model_module": "@jupyter-widgets/base",
          "model_name": "LayoutModel",
          "model_module_version": "1.2.0",
          "state": {
            "_model_module": "@jupyter-widgets/base",
            "_model_module_version": "1.2.0",
            "_model_name": "LayoutModel",
            "_view_count": null,
            "_view_module": "@jupyter-widgets/base",
            "_view_module_version": "1.2.0",
            "_view_name": "LayoutView",
            "align_content": null,
            "align_items": null,
            "align_self": null,
            "border": null,
            "bottom": null,
            "display": null,
            "flex": null,
            "flex_flow": null,
            "grid_area": null,
            "grid_auto_columns": null,
            "grid_auto_flow": null,
            "grid_auto_rows": null,
            "grid_column": null,
            "grid_gap": null,
            "grid_row": null,
            "grid_template_areas": null,
            "grid_template_columns": null,
            "grid_template_rows": null,
            "height": null,
            "justify_content": null,
            "justify_items": null,
            "left": null,
            "margin": null,
            "max_height": null,
            "max_width": null,
            "min_height": null,
            "min_width": null,
            "object_fit": null,
            "object_position": null,
            "order": null,
            "overflow": null,
            "overflow_x": null,
            "overflow_y": null,
            "padding": null,
            "right": null,
            "top": null,
            "visibility": null,
            "width": null
          }
        },
        "4712a9a492e3484eba7639b73c13f06b": {
          "model_module": "@jupyter-widgets/controls",
          "model_name": "DescriptionStyleModel",
          "model_module_version": "1.5.0",
          "state": {
            "_model_module": "@jupyter-widgets/controls",
            "_model_module_version": "1.5.0",
            "_model_name": "DescriptionStyleModel",
            "_view_count": null,
            "_view_module": "@jupyter-widgets/base",
            "_view_module_version": "1.2.0",
            "_view_name": "StyleView",
            "description_width": ""
          }
        },
        "58ef5dfa30e249cea8615e1b52d8a0e3": {
          "model_module": "@jupyter-widgets/controls",
          "model_name": "FloatTextModel",
          "model_module_version": "1.5.0",
          "state": {
            "_dom_classes": [],
            "_model_module": "@jupyter-widgets/controls",
            "_model_module_version": "1.5.0",
            "_model_name": "FloatTextModel",
            "_view_count": null,
            "_view_module": "@jupyter-widgets/controls",
            "_view_module_version": "1.5.0",
            "_view_name": "FloatTextView",
            "continuous_update": false,
            "description": "Característica 6",
            "description_tooltip": null,
            "disabled": false,
            "layout": "IPY_MODEL_9b8a4ae74e90487c8431daa792fa538d",
            "step": null,
            "style": "IPY_MODEL_b3d4d83c72984a0ab3dd13fb6592a933",
            "value": 0
          }
        },
        "9b8a4ae74e90487c8431daa792fa538d": {
          "model_module": "@jupyter-widgets/base",
          "model_name": "LayoutModel",
          "model_module_version": "1.2.0",
          "state": {
            "_model_module": "@jupyter-widgets/base",
            "_model_module_version": "1.2.0",
            "_model_name": "LayoutModel",
            "_view_count": null,
            "_view_module": "@jupyter-widgets/base",
            "_view_module_version": "1.2.0",
            "_view_name": "LayoutView",
            "align_content": null,
            "align_items": null,
            "align_self": null,
            "border": null,
            "bottom": null,
            "display": null,
            "flex": null,
            "flex_flow": null,
            "grid_area": null,
            "grid_auto_columns": null,
            "grid_auto_flow": null,
            "grid_auto_rows": null,
            "grid_column": null,
            "grid_gap": null,
            "grid_row": null,
            "grid_template_areas": null,
            "grid_template_columns": null,
            "grid_template_rows": null,
            "height": null,
            "justify_content": null,
            "justify_items": null,
            "left": null,
            "margin": null,
            "max_height": null,
            "max_width": null,
            "min_height": null,
            "min_width": null,
            "object_fit": null,
            "object_position": null,
            "order": null,
            "overflow": null,
            "overflow_x": null,
            "overflow_y": null,
            "padding": null,
            "right": null,
            "top": null,
            "visibility": null,
            "width": null
          }
        },
        "b3d4d83c72984a0ab3dd13fb6592a933": {
          "model_module": "@jupyter-widgets/controls",
          "model_name": "DescriptionStyleModel",
          "model_module_version": "1.5.0",
          "state": {
            "_model_module": "@jupyter-widgets/controls",
            "_model_module_version": "1.5.0",
            "_model_name": "DescriptionStyleModel",
            "_view_count": null,
            "_view_module": "@jupyter-widgets/base",
            "_view_module_version": "1.2.0",
            "_view_name": "StyleView",
            "description_width": ""
          }
        },
        "51e1231cba924cb7ba45883cf4d01bf5": {
          "model_module": "@jupyter-widgets/controls",
          "model_name": "FloatTextModel",
          "model_module_version": "1.5.0",
          "state": {
            "_dom_classes": [],
            "_model_module": "@jupyter-widgets/controls",
            "_model_module_version": "1.5.0",
            "_model_name": "FloatTextModel",
            "_view_count": null,
            "_view_module": "@jupyter-widgets/controls",
            "_view_module_version": "1.5.0",
            "_view_name": "FloatTextView",
            "continuous_update": false,
            "description": "Característica 7",
            "description_tooltip": null,
            "disabled": false,
            "layout": "IPY_MODEL_d177f2cee39645f8889b6ee638b9c72f",
            "step": null,
            "style": "IPY_MODEL_85c1ef2df3a942bc8fa099c09ed6cc9f",
            "value": 0
          }
        },
        "d177f2cee39645f8889b6ee638b9c72f": {
          "model_module": "@jupyter-widgets/base",
          "model_name": "LayoutModel",
          "model_module_version": "1.2.0",
          "state": {
            "_model_module": "@jupyter-widgets/base",
            "_model_module_version": "1.2.0",
            "_model_name": "LayoutModel",
            "_view_count": null,
            "_view_module": "@jupyter-widgets/base",
            "_view_module_version": "1.2.0",
            "_view_name": "LayoutView",
            "align_content": null,
            "align_items": null,
            "align_self": null,
            "border": null,
            "bottom": null,
            "display": null,
            "flex": null,
            "flex_flow": null,
            "grid_area": null,
            "grid_auto_columns": null,
            "grid_auto_flow": null,
            "grid_auto_rows": null,
            "grid_column": null,
            "grid_gap": null,
            "grid_row": null,
            "grid_template_areas": null,
            "grid_template_columns": null,
            "grid_template_rows": null,
            "height": null,
            "justify_content": null,
            "justify_items": null,
            "left": null,
            "margin": null,
            "max_height": null,
            "max_width": null,
            "min_height": null,
            "min_width": null,
            "object_fit": null,
            "object_position": null,
            "order": null,
            "overflow": null,
            "overflow_x": null,
            "overflow_y": null,
            "padding": null,
            "right": null,
            "top": null,
            "visibility": null,
            "width": null
          }
        },
        "85c1ef2df3a942bc8fa099c09ed6cc9f": {
          "model_module": "@jupyter-widgets/controls",
          "model_name": "DescriptionStyleModel",
          "model_module_version": "1.5.0",
          "state": {
            "_model_module": "@jupyter-widgets/controls",
            "_model_module_version": "1.5.0",
            "_model_name": "DescriptionStyleModel",
            "_view_count": null,
            "_view_module": "@jupyter-widgets/base",
            "_view_module_version": "1.2.0",
            "_view_name": "StyleView",
            "description_width": ""
          }
        },
        "280f2b7681a74160bb04ff4f175a58f6": {
          "model_module": "@jupyter-widgets/controls",
          "model_name": "FloatTextModel",
          "model_module_version": "1.5.0",
          "state": {
            "_dom_classes": [],
            "_model_module": "@jupyter-widgets/controls",
            "_model_module_version": "1.5.0",
            "_model_name": "FloatTextModel",
            "_view_count": null,
            "_view_module": "@jupyter-widgets/controls",
            "_view_module_version": "1.5.0",
            "_view_name": "FloatTextView",
            "continuous_update": false,
            "description": "Característica 8",
            "description_tooltip": null,
            "disabled": false,
            "layout": "IPY_MODEL_5e5f539adf9444628c793f35546b3edb",
            "step": null,
            "style": "IPY_MODEL_8d086d08fe3f41e2aa0ad0e56a7a3e92",
            "value": 0
          }
        },
        "5e5f539adf9444628c793f35546b3edb": {
          "model_module": "@jupyter-widgets/base",
          "model_name": "LayoutModel",
          "model_module_version": "1.2.0",
          "state": {
            "_model_module": "@jupyter-widgets/base",
            "_model_module_version": "1.2.0",
            "_model_name": "LayoutModel",
            "_view_count": null,
            "_view_module": "@jupyter-widgets/base",
            "_view_module_version": "1.2.0",
            "_view_name": "LayoutView",
            "align_content": null,
            "align_items": null,
            "align_self": null,
            "border": null,
            "bottom": null,
            "display": null,
            "flex": null,
            "flex_flow": null,
            "grid_area": null,
            "grid_auto_columns": null,
            "grid_auto_flow": null,
            "grid_auto_rows": null,
            "grid_column": null,
            "grid_gap": null,
            "grid_row": null,
            "grid_template_areas": null,
            "grid_template_columns": null,
            "grid_template_rows": null,
            "height": null,
            "justify_content": null,
            "justify_items": null,
            "left": null,
            "margin": null,
            "max_height": null,
            "max_width": null,
            "min_height": null,
            "min_width": null,
            "object_fit": null,
            "object_position": null,
            "order": null,
            "overflow": null,
            "overflow_x": null,
            "overflow_y": null,
            "padding": null,
            "right": null,
            "top": null,
            "visibility": null,
            "width": null
          }
        },
        "8d086d08fe3f41e2aa0ad0e56a7a3e92": {
          "model_module": "@jupyter-widgets/controls",
          "model_name": "DescriptionStyleModel",
          "model_module_version": "1.5.0",
          "state": {
            "_model_module": "@jupyter-widgets/controls",
            "_model_module_version": "1.5.0",
            "_model_name": "DescriptionStyleModel",
            "_view_count": null,
            "_view_module": "@jupyter-widgets/base",
            "_view_module_version": "1.2.0",
            "_view_name": "StyleView",
            "description_width": ""
          }
        },
        "ab189e2652a64579bdfc0c664dc7104c": {
          "model_module": "@jupyter-widgets/controls",
          "model_name": "FloatTextModel",
          "model_module_version": "1.5.0",
          "state": {
            "_dom_classes": [],
            "_model_module": "@jupyter-widgets/controls",
            "_model_module_version": "1.5.0",
            "_model_name": "FloatTextModel",
            "_view_count": null,
            "_view_module": "@jupyter-widgets/controls",
            "_view_module_version": "1.5.0",
            "_view_name": "FloatTextView",
            "continuous_update": false,
            "description": "Característica 9",
            "description_tooltip": null,
            "disabled": false,
            "layout": "IPY_MODEL_4d816a5ffa0b4bb4adb9fe65bf3805d2",
            "step": null,
            "style": "IPY_MODEL_7f6e917c8415493fad4ca9772fa348c2",
            "value": 0
          }
        },
        "4d816a5ffa0b4bb4adb9fe65bf3805d2": {
          "model_module": "@jupyter-widgets/base",
          "model_name": "LayoutModel",
          "model_module_version": "1.2.0",
          "state": {
            "_model_module": "@jupyter-widgets/base",
            "_model_module_version": "1.2.0",
            "_model_name": "LayoutModel",
            "_view_count": null,
            "_view_module": "@jupyter-widgets/base",
            "_view_module_version": "1.2.0",
            "_view_name": "LayoutView",
            "align_content": null,
            "align_items": null,
            "align_self": null,
            "border": null,
            "bottom": null,
            "display": null,
            "flex": null,
            "flex_flow": null,
            "grid_area": null,
            "grid_auto_columns": null,
            "grid_auto_flow": null,
            "grid_auto_rows": null,
            "grid_column": null,
            "grid_gap": null,
            "grid_row": null,
            "grid_template_areas": null,
            "grid_template_columns": null,
            "grid_template_rows": null,
            "height": null,
            "justify_content": null,
            "justify_items": null,
            "left": null,
            "margin": null,
            "max_height": null,
            "max_width": null,
            "min_height": null,
            "min_width": null,
            "object_fit": null,
            "object_position": null,
            "order": null,
            "overflow": null,
            "overflow_x": null,
            "overflow_y": null,
            "padding": null,
            "right": null,
            "top": null,
            "visibility": null,
            "width": null
          }
        },
        "7f6e917c8415493fad4ca9772fa348c2": {
          "model_module": "@jupyter-widgets/controls",
          "model_name": "DescriptionStyleModel",
          "model_module_version": "1.5.0",
          "state": {
            "_model_module": "@jupyter-widgets/controls",
            "_model_module_version": "1.5.0",
            "_model_name": "DescriptionStyleModel",
            "_view_count": null,
            "_view_module": "@jupyter-widgets/base",
            "_view_module_version": "1.2.0",
            "_view_name": "StyleView",
            "description_width": ""
          }
        },
        "268e31f2ecc643f983326831d6ab1f1f": {
          "model_module": "@jupyter-widgets/controls",
          "model_name": "FloatTextModel",
          "model_module_version": "1.5.0",
          "state": {
            "_dom_classes": [],
            "_model_module": "@jupyter-widgets/controls",
            "_model_module_version": "1.5.0",
            "_model_name": "FloatTextModel",
            "_view_count": null,
            "_view_module": "@jupyter-widgets/controls",
            "_view_module_version": "1.5.0",
            "_view_name": "FloatTextView",
            "continuous_update": false,
            "description": "Característica 10",
            "description_tooltip": null,
            "disabled": false,
            "layout": "IPY_MODEL_92c87d607a7f441cb1181c3c455fc39e",
            "step": null,
            "style": "IPY_MODEL_891e9360d04c4053946e4d14320169a7",
            "value": 0
          }
        },
        "92c87d607a7f441cb1181c3c455fc39e": {
          "model_module": "@jupyter-widgets/base",
          "model_name": "LayoutModel",
          "model_module_version": "1.2.0",
          "state": {
            "_model_module": "@jupyter-widgets/base",
            "_model_module_version": "1.2.0",
            "_model_name": "LayoutModel",
            "_view_count": null,
            "_view_module": "@jupyter-widgets/base",
            "_view_module_version": "1.2.0",
            "_view_name": "LayoutView",
            "align_content": null,
            "align_items": null,
            "align_self": null,
            "border": null,
            "bottom": null,
            "display": null,
            "flex": null,
            "flex_flow": null,
            "grid_area": null,
            "grid_auto_columns": null,
            "grid_auto_flow": null,
            "grid_auto_rows": null,
            "grid_column": null,
            "grid_gap": null,
            "grid_row": null,
            "grid_template_areas": null,
            "grid_template_columns": null,
            "grid_template_rows": null,
            "height": null,
            "justify_content": null,
            "justify_items": null,
            "left": null,
            "margin": null,
            "max_height": null,
            "max_width": null,
            "min_height": null,
            "min_width": null,
            "object_fit": null,
            "object_position": null,
            "order": null,
            "overflow": null,
            "overflow_x": null,
            "overflow_y": null,
            "padding": null,
            "right": null,
            "top": null,
            "visibility": null,
            "width": null
          }
        },
        "891e9360d04c4053946e4d14320169a7": {
          "model_module": "@jupyter-widgets/controls",
          "model_name": "DescriptionStyleModel",
          "model_module_version": "1.5.0",
          "state": {
            "_model_module": "@jupyter-widgets/controls",
            "_model_module_version": "1.5.0",
            "_model_name": "DescriptionStyleModel",
            "_view_count": null,
            "_view_module": "@jupyter-widgets/base",
            "_view_module_version": "1.2.0",
            "_view_name": "StyleView",
            "description_width": ""
          }
        },
        "b3e55862405242bd93a21004ac6c637f": {
          "model_module": "@jupyter-widgets/controls",
          "model_name": "FloatTextModel",
          "model_module_version": "1.5.0",
          "state": {
            "_dom_classes": [],
            "_model_module": "@jupyter-widgets/controls",
            "_model_module_version": "1.5.0",
            "_model_name": "FloatTextModel",
            "_view_count": null,
            "_view_module": "@jupyter-widgets/controls",
            "_view_module_version": "1.5.0",
            "_view_name": "FloatTextView",
            "continuous_update": false,
            "description": "Característica 11",
            "description_tooltip": null,
            "disabled": false,
            "layout": "IPY_MODEL_bcd379b82e624b9cbb5969cc6f99bdeb",
            "step": null,
            "style": "IPY_MODEL_2c6b5bc6b76245c09714aff5b17a2e87",
            "value": 0
          }
        },
        "bcd379b82e624b9cbb5969cc6f99bdeb": {
          "model_module": "@jupyter-widgets/base",
          "model_name": "LayoutModel",
          "model_module_version": "1.2.0",
          "state": {
            "_model_module": "@jupyter-widgets/base",
            "_model_module_version": "1.2.0",
            "_model_name": "LayoutModel",
            "_view_count": null,
            "_view_module": "@jupyter-widgets/base",
            "_view_module_version": "1.2.0",
            "_view_name": "LayoutView",
            "align_content": null,
            "align_items": null,
            "align_self": null,
            "border": null,
            "bottom": null,
            "display": null,
            "flex": null,
            "flex_flow": null,
            "grid_area": null,
            "grid_auto_columns": null,
            "grid_auto_flow": null,
            "grid_auto_rows": null,
            "grid_column": null,
            "grid_gap": null,
            "grid_row": null,
            "grid_template_areas": null,
            "grid_template_columns": null,
            "grid_template_rows": null,
            "height": null,
            "justify_content": null,
            "justify_items": null,
            "left": null,
            "margin": null,
            "max_height": null,
            "max_width": null,
            "min_height": null,
            "min_width": null,
            "object_fit": null,
            "object_position": null,
            "order": null,
            "overflow": null,
            "overflow_x": null,
            "overflow_y": null,
            "padding": null,
            "right": null,
            "top": null,
            "visibility": null,
            "width": null
          }
        },
        "2c6b5bc6b76245c09714aff5b17a2e87": {
          "model_module": "@jupyter-widgets/controls",
          "model_name": "DescriptionStyleModel",
          "model_module_version": "1.5.0",
          "state": {
            "_model_module": "@jupyter-widgets/controls",
            "_model_module_version": "1.5.0",
            "_model_name": "DescriptionStyleModel",
            "_view_count": null,
            "_view_module": "@jupyter-widgets/base",
            "_view_module_version": "1.2.0",
            "_view_name": "StyleView",
            "description_width": ""
          }
        },
        "8dc2024c21f44b7a834e0ff9a578cea9": {
          "model_module": "@jupyter-widgets/controls",
          "model_name": "FloatTextModel",
          "model_module_version": "1.5.0",
          "state": {
            "_dom_classes": [],
            "_model_module": "@jupyter-widgets/controls",
            "_model_module_version": "1.5.0",
            "_model_name": "FloatTextModel",
            "_view_count": null,
            "_view_module": "@jupyter-widgets/controls",
            "_view_module_version": "1.5.0",
            "_view_name": "FloatTextView",
            "continuous_update": false,
            "description": "Característica 12",
            "description_tooltip": null,
            "disabled": false,
            "layout": "IPY_MODEL_cfd81e8d10da46e5b479a17d056de1bf",
            "step": null,
            "style": "IPY_MODEL_d2a9158ee5f8439f9c4a6b3f9b7a898d",
            "value": 0
          }
        },
        "cfd81e8d10da46e5b479a17d056de1bf": {
          "model_module": "@jupyter-widgets/base",
          "model_name": "LayoutModel",
          "model_module_version": "1.2.0",
          "state": {
            "_model_module": "@jupyter-widgets/base",
            "_model_module_version": "1.2.0",
            "_model_name": "LayoutModel",
            "_view_count": null,
            "_view_module": "@jupyter-widgets/base",
            "_view_module_version": "1.2.0",
            "_view_name": "LayoutView",
            "align_content": null,
            "align_items": null,
            "align_self": null,
            "border": null,
            "bottom": null,
            "display": null,
            "flex": null,
            "flex_flow": null,
            "grid_area": null,
            "grid_auto_columns": null,
            "grid_auto_flow": null,
            "grid_auto_rows": null,
            "grid_column": null,
            "grid_gap": null,
            "grid_row": null,
            "grid_template_areas": null,
            "grid_template_columns": null,
            "grid_template_rows": null,
            "height": null,
            "justify_content": null,
            "justify_items": null,
            "left": null,
            "margin": null,
            "max_height": null,
            "max_width": null,
            "min_height": null,
            "min_width": null,
            "object_fit": null,
            "object_position": null,
            "order": null,
            "overflow": null,
            "overflow_x": null,
            "overflow_y": null,
            "padding": null,
            "right": null,
            "top": null,
            "visibility": null,
            "width": null
          }
        },
        "d2a9158ee5f8439f9c4a6b3f9b7a898d": {
          "model_module": "@jupyter-widgets/controls",
          "model_name": "DescriptionStyleModel",
          "model_module_version": "1.5.0",
          "state": {
            "_model_module": "@jupyter-widgets/controls",
            "_model_module_version": "1.5.0",
            "_model_name": "DescriptionStyleModel",
            "_view_count": null,
            "_view_module": "@jupyter-widgets/base",
            "_view_module_version": "1.2.0",
            "_view_name": "StyleView",
            "description_width": ""
          }
        },
        "53e7ca2692e24aa183dad9ea1d600455": {
          "model_module": "@jupyter-widgets/controls",
          "model_name": "FloatTextModel",
          "model_module_version": "1.5.0",
          "state": {
            "_dom_classes": [],
            "_model_module": "@jupyter-widgets/controls",
            "_model_module_version": "1.5.0",
            "_model_name": "FloatTextModel",
            "_view_count": null,
            "_view_module": "@jupyter-widgets/controls",
            "_view_module_version": "1.5.0",
            "_view_name": "FloatTextView",
            "continuous_update": false,
            "description": "Característica 13",
            "description_tooltip": null,
            "disabled": false,
            "layout": "IPY_MODEL_707657e8764a4d1883efe8031a81d96e",
            "step": null,
            "style": "IPY_MODEL_9dea3d8617ef48ccb9db1a7107e1507b",
            "value": 0
          }
        },
        "707657e8764a4d1883efe8031a81d96e": {
          "model_module": "@jupyter-widgets/base",
          "model_name": "LayoutModel",
          "model_module_version": "1.2.0",
          "state": {
            "_model_module": "@jupyter-widgets/base",
            "_model_module_version": "1.2.0",
            "_model_name": "LayoutModel",
            "_view_count": null,
            "_view_module": "@jupyter-widgets/base",
            "_view_module_version": "1.2.0",
            "_view_name": "LayoutView",
            "align_content": null,
            "align_items": null,
            "align_self": null,
            "border": null,
            "bottom": null,
            "display": null,
            "flex": null,
            "flex_flow": null,
            "grid_area": null,
            "grid_auto_columns": null,
            "grid_auto_flow": null,
            "grid_auto_rows": null,
            "grid_column": null,
            "grid_gap": null,
            "grid_row": null,
            "grid_template_areas": null,
            "grid_template_columns": null,
            "grid_template_rows": null,
            "height": null,
            "justify_content": null,
            "justify_items": null,
            "left": null,
            "margin": null,
            "max_height": null,
            "max_width": null,
            "min_height": null,
            "min_width": null,
            "object_fit": null,
            "object_position": null,
            "order": null,
            "overflow": null,
            "overflow_x": null,
            "overflow_y": null,
            "padding": null,
            "right": null,
            "top": null,
            "visibility": null,
            "width": null
          }
        },
        "9dea3d8617ef48ccb9db1a7107e1507b": {
          "model_module": "@jupyter-widgets/controls",
          "model_name": "DescriptionStyleModel",
          "model_module_version": "1.5.0",
          "state": {
            "_model_module": "@jupyter-widgets/controls",
            "_model_module_version": "1.5.0",
            "_model_name": "DescriptionStyleModel",
            "_view_count": null,
            "_view_module": "@jupyter-widgets/base",
            "_view_module_version": "1.2.0",
            "_view_name": "StyleView",
            "description_width": ""
          }
        },
        "3af840e79e4d4f36aec14a1419c5f53d": {
          "model_module": "@jupyter-widgets/controls",
          "model_name": "FloatTextModel",
          "model_module_version": "1.5.0",
          "state": {
            "_dom_classes": [],
            "_model_module": "@jupyter-widgets/controls",
            "_model_module_version": "1.5.0",
            "_model_name": "FloatTextModel",
            "_view_count": null,
            "_view_module": "@jupyter-widgets/controls",
            "_view_module_version": "1.5.0",
            "_view_name": "FloatTextView",
            "continuous_update": false,
            "description": "Característica 14",
            "description_tooltip": null,
            "disabled": false,
            "layout": "IPY_MODEL_3c6287862c414008a52ae465ccce92b5",
            "step": null,
            "style": "IPY_MODEL_ce28dc90f899492688028b88e5b2d579",
            "value": 0
          }
        },
        "3c6287862c414008a52ae465ccce92b5": {
          "model_module": "@jupyter-widgets/base",
          "model_name": "LayoutModel",
          "model_module_version": "1.2.0",
          "state": {
            "_model_module": "@jupyter-widgets/base",
            "_model_module_version": "1.2.0",
            "_model_name": "LayoutModel",
            "_view_count": null,
            "_view_module": "@jupyter-widgets/base",
            "_view_module_version": "1.2.0",
            "_view_name": "LayoutView",
            "align_content": null,
            "align_items": null,
            "align_self": null,
            "border": null,
            "bottom": null,
            "display": null,
            "flex": null,
            "flex_flow": null,
            "grid_area": null,
            "grid_auto_columns": null,
            "grid_auto_flow": null,
            "grid_auto_rows": null,
            "grid_column": null,
            "grid_gap": null,
            "grid_row": null,
            "grid_template_areas": null,
            "grid_template_columns": null,
            "grid_template_rows": null,
            "height": null,
            "justify_content": null,
            "justify_items": null,
            "left": null,
            "margin": null,
            "max_height": null,
            "max_width": null,
            "min_height": null,
            "min_width": null,
            "object_fit": null,
            "object_position": null,
            "order": null,
            "overflow": null,
            "overflow_x": null,
            "overflow_y": null,
            "padding": null,
            "right": null,
            "top": null,
            "visibility": null,
            "width": null
          }
        },
        "ce28dc90f899492688028b88e5b2d579": {
          "model_module": "@jupyter-widgets/controls",
          "model_name": "DescriptionStyleModel",
          "model_module_version": "1.5.0",
          "state": {
            "_model_module": "@jupyter-widgets/controls",
            "_model_module_version": "1.5.0",
            "_model_name": "DescriptionStyleModel",
            "_view_count": null,
            "_view_module": "@jupyter-widgets/base",
            "_view_module_version": "1.2.0",
            "_view_name": "StyleView",
            "description_width": ""
          }
        },
        "26ba580c7b9f4dcfbc5672ed750446f0": {
          "model_module": "@jupyter-widgets/controls",
          "model_name": "FloatTextModel",
          "model_module_version": "1.5.0",
          "state": {
            "_dom_classes": [],
            "_model_module": "@jupyter-widgets/controls",
            "_model_module_version": "1.5.0",
            "_model_name": "FloatTextModel",
            "_view_count": null,
            "_view_module": "@jupyter-widgets/controls",
            "_view_module_version": "1.5.0",
            "_view_name": "FloatTextView",
            "continuous_update": false,
            "description": "Característica 15",
            "description_tooltip": null,
            "disabled": false,
            "layout": "IPY_MODEL_b2b36a1627bc4e0990146e6d9b5d22a8",
            "step": null,
            "style": "IPY_MODEL_37f1bf4484ba45c584dd539e409f6218",
            "value": 0
          }
        },
        "b2b36a1627bc4e0990146e6d9b5d22a8": {
          "model_module": "@jupyter-widgets/base",
          "model_name": "LayoutModel",
          "model_module_version": "1.2.0",
          "state": {
            "_model_module": "@jupyter-widgets/base",
            "_model_module_version": "1.2.0",
            "_model_name": "LayoutModel",
            "_view_count": null,
            "_view_module": "@jupyter-widgets/base",
            "_view_module_version": "1.2.0",
            "_view_name": "LayoutView",
            "align_content": null,
            "align_items": null,
            "align_self": null,
            "border": null,
            "bottom": null,
            "display": null,
            "flex": null,
            "flex_flow": null,
            "grid_area": null,
            "grid_auto_columns": null,
            "grid_auto_flow": null,
            "grid_auto_rows": null,
            "grid_column": null,
            "grid_gap": null,
            "grid_row": null,
            "grid_template_areas": null,
            "grid_template_columns": null,
            "grid_template_rows": null,
            "height": null,
            "justify_content": null,
            "justify_items": null,
            "left": null,
            "margin": null,
            "max_height": null,
            "max_width": null,
            "min_height": null,
            "min_width": null,
            "object_fit": null,
            "object_position": null,
            "order": null,
            "overflow": null,
            "overflow_x": null,
            "overflow_y": null,
            "padding": null,
            "right": null,
            "top": null,
            "visibility": null,
            "width": null
          }
        },
        "37f1bf4484ba45c584dd539e409f6218": {
          "model_module": "@jupyter-widgets/controls",
          "model_name": "DescriptionStyleModel",
          "model_module_version": "1.5.0",
          "state": {
            "_model_module": "@jupyter-widgets/controls",
            "_model_module_version": "1.5.0",
            "_model_name": "DescriptionStyleModel",
            "_view_count": null,
            "_view_module": "@jupyter-widgets/base",
            "_view_module_version": "1.2.0",
            "_view_name": "StyleView",
            "description_width": ""
          }
        },
        "b99a2af42ac2427493200481a19b51f9": {
          "model_module": "@jupyter-widgets/controls",
          "model_name": "FloatTextModel",
          "model_module_version": "1.5.0",
          "state": {
            "_dom_classes": [],
            "_model_module": "@jupyter-widgets/controls",
            "_model_module_version": "1.5.0",
            "_model_name": "FloatTextModel",
            "_view_count": null,
            "_view_module": "@jupyter-widgets/controls",
            "_view_module_version": "1.5.0",
            "_view_name": "FloatTextView",
            "continuous_update": false,
            "description": "Característica 16",
            "description_tooltip": null,
            "disabled": false,
            "layout": "IPY_MODEL_44224cf8254240fd9811f922e10c6a7a",
            "step": null,
            "style": "IPY_MODEL_26490812990d4f1db9a83b350b174e83",
            "value": 0
          }
        },
        "44224cf8254240fd9811f922e10c6a7a": {
          "model_module": "@jupyter-widgets/base",
          "model_name": "LayoutModel",
          "model_module_version": "1.2.0",
          "state": {
            "_model_module": "@jupyter-widgets/base",
            "_model_module_version": "1.2.0",
            "_model_name": "LayoutModel",
            "_view_count": null,
            "_view_module": "@jupyter-widgets/base",
            "_view_module_version": "1.2.0",
            "_view_name": "LayoutView",
            "align_content": null,
            "align_items": null,
            "align_self": null,
            "border": null,
            "bottom": null,
            "display": null,
            "flex": null,
            "flex_flow": null,
            "grid_area": null,
            "grid_auto_columns": null,
            "grid_auto_flow": null,
            "grid_auto_rows": null,
            "grid_column": null,
            "grid_gap": null,
            "grid_row": null,
            "grid_template_areas": null,
            "grid_template_columns": null,
            "grid_template_rows": null,
            "height": null,
            "justify_content": null,
            "justify_items": null,
            "left": null,
            "margin": null,
            "max_height": null,
            "max_width": null,
            "min_height": null,
            "min_width": null,
            "object_fit": null,
            "object_position": null,
            "order": null,
            "overflow": null,
            "overflow_x": null,
            "overflow_y": null,
            "padding": null,
            "right": null,
            "top": null,
            "visibility": null,
            "width": null
          }
        },
        "26490812990d4f1db9a83b350b174e83": {
          "model_module": "@jupyter-widgets/controls",
          "model_name": "DescriptionStyleModel",
          "model_module_version": "1.5.0",
          "state": {
            "_model_module": "@jupyter-widgets/controls",
            "_model_module_version": "1.5.0",
            "_model_name": "DescriptionStyleModel",
            "_view_count": null,
            "_view_module": "@jupyter-widgets/base",
            "_view_module_version": "1.2.0",
            "_view_name": "StyleView",
            "description_width": ""
          }
        },
        "de07096257354cc3b827c602238f7ae1": {
          "model_module": "@jupyter-widgets/controls",
          "model_name": "FloatTextModel",
          "model_module_version": "1.5.0",
          "state": {
            "_dom_classes": [],
            "_model_module": "@jupyter-widgets/controls",
            "_model_module_version": "1.5.0",
            "_model_name": "FloatTextModel",
            "_view_count": null,
            "_view_module": "@jupyter-widgets/controls",
            "_view_module_version": "1.5.0",
            "_view_name": "FloatTextView",
            "continuous_update": false,
            "description": "Característica 17",
            "description_tooltip": null,
            "disabled": false,
            "layout": "IPY_MODEL_4db855c3fcf44249af9790d8af029087",
            "step": null,
            "style": "IPY_MODEL_d3d87fd0870e4a12afa832b36e893009",
            "value": 0
          }
        },
        "4db855c3fcf44249af9790d8af029087": {
          "model_module": "@jupyter-widgets/base",
          "model_name": "LayoutModel",
          "model_module_version": "1.2.0",
          "state": {
            "_model_module": "@jupyter-widgets/base",
            "_model_module_version": "1.2.0",
            "_model_name": "LayoutModel",
            "_view_count": null,
            "_view_module": "@jupyter-widgets/base",
            "_view_module_version": "1.2.0",
            "_view_name": "LayoutView",
            "align_content": null,
            "align_items": null,
            "align_self": null,
            "border": null,
            "bottom": null,
            "display": null,
            "flex": null,
            "flex_flow": null,
            "grid_area": null,
            "grid_auto_columns": null,
            "grid_auto_flow": null,
            "grid_auto_rows": null,
            "grid_column": null,
            "grid_gap": null,
            "grid_row": null,
            "grid_template_areas": null,
            "grid_template_columns": null,
            "grid_template_rows": null,
            "height": null,
            "justify_content": null,
            "justify_items": null,
            "left": null,
            "margin": null,
            "max_height": null,
            "max_width": null,
            "min_height": null,
            "min_width": null,
            "object_fit": null,
            "object_position": null,
            "order": null,
            "overflow": null,
            "overflow_x": null,
            "overflow_y": null,
            "padding": null,
            "right": null,
            "top": null,
            "visibility": null,
            "width": null
          }
        },
        "d3d87fd0870e4a12afa832b36e893009": {
          "model_module": "@jupyter-widgets/controls",
          "model_name": "DescriptionStyleModel",
          "model_module_version": "1.5.0",
          "state": {
            "_model_module": "@jupyter-widgets/controls",
            "_model_module_version": "1.5.0",
            "_model_name": "DescriptionStyleModel",
            "_view_count": null,
            "_view_module": "@jupyter-widgets/base",
            "_view_module_version": "1.2.0",
            "_view_name": "StyleView",
            "description_width": ""
          }
        },
        "06d0f33953fb440b843467a02d2e994a": {
          "model_module": "@jupyter-widgets/controls",
          "model_name": "FloatTextModel",
          "model_module_version": "1.5.0",
          "state": {
            "_dom_classes": [],
            "_model_module": "@jupyter-widgets/controls",
            "_model_module_version": "1.5.0",
            "_model_name": "FloatTextModel",
            "_view_count": null,
            "_view_module": "@jupyter-widgets/controls",
            "_view_module_version": "1.5.0",
            "_view_name": "FloatTextView",
            "continuous_update": false,
            "description": "Característica 18",
            "description_tooltip": null,
            "disabled": false,
            "layout": "IPY_MODEL_ddd8f1f29e2d494c87d25606c1f0707f",
            "step": null,
            "style": "IPY_MODEL_e30c8665e40c4c76a580349b78e8e8d0",
            "value": 0
          }
        },
        "ddd8f1f29e2d494c87d25606c1f0707f": {
          "model_module": "@jupyter-widgets/base",
          "model_name": "LayoutModel",
          "model_module_version": "1.2.0",
          "state": {
            "_model_module": "@jupyter-widgets/base",
            "_model_module_version": "1.2.0",
            "_model_name": "LayoutModel",
            "_view_count": null,
            "_view_module": "@jupyter-widgets/base",
            "_view_module_version": "1.2.0",
            "_view_name": "LayoutView",
            "align_content": null,
            "align_items": null,
            "align_self": null,
            "border": null,
            "bottom": null,
            "display": null,
            "flex": null,
            "flex_flow": null,
            "grid_area": null,
            "grid_auto_columns": null,
            "grid_auto_flow": null,
            "grid_auto_rows": null,
            "grid_column": null,
            "grid_gap": null,
            "grid_row": null,
            "grid_template_areas": null,
            "grid_template_columns": null,
            "grid_template_rows": null,
            "height": null,
            "justify_content": null,
            "justify_items": null,
            "left": null,
            "margin": null,
            "max_height": null,
            "max_width": null,
            "min_height": null,
            "min_width": null,
            "object_fit": null,
            "object_position": null,
            "order": null,
            "overflow": null,
            "overflow_x": null,
            "overflow_y": null,
            "padding": null,
            "right": null,
            "top": null,
            "visibility": null,
            "width": null
          }
        },
        "e30c8665e40c4c76a580349b78e8e8d0": {
          "model_module": "@jupyter-widgets/controls",
          "model_name": "DescriptionStyleModel",
          "model_module_version": "1.5.0",
          "state": {
            "_model_module": "@jupyter-widgets/controls",
            "_model_module_version": "1.5.0",
            "_model_name": "DescriptionStyleModel",
            "_view_count": null,
            "_view_module": "@jupyter-widgets/base",
            "_view_module_version": "1.2.0",
            "_view_name": "StyleView",
            "description_width": ""
          }
        },
        "f65c9b2b0084450bb26c12f301d182db": {
          "model_module": "@jupyter-widgets/controls",
          "model_name": "FloatTextModel",
          "model_module_version": "1.5.0",
          "state": {
            "_dom_classes": [],
            "_model_module": "@jupyter-widgets/controls",
            "_model_module_version": "1.5.0",
            "_model_name": "FloatTextModel",
            "_view_count": null,
            "_view_module": "@jupyter-widgets/controls",
            "_view_module_version": "1.5.0",
            "_view_name": "FloatTextView",
            "continuous_update": false,
            "description": "Característica 19",
            "description_tooltip": null,
            "disabled": false,
            "layout": "IPY_MODEL_79ecb59378fc41fca659e1895a6ecfcf",
            "step": null,
            "style": "IPY_MODEL_7df56515dfc2456491f1377d21819da8",
            "value": 0
          }
        },
        "79ecb59378fc41fca659e1895a6ecfcf": {
          "model_module": "@jupyter-widgets/base",
          "model_name": "LayoutModel",
          "model_module_version": "1.2.0",
          "state": {
            "_model_module": "@jupyter-widgets/base",
            "_model_module_version": "1.2.0",
            "_model_name": "LayoutModel",
            "_view_count": null,
            "_view_module": "@jupyter-widgets/base",
            "_view_module_version": "1.2.0",
            "_view_name": "LayoutView",
            "align_content": null,
            "align_items": null,
            "align_self": null,
            "border": null,
            "bottom": null,
            "display": null,
            "flex": null,
            "flex_flow": null,
            "grid_area": null,
            "grid_auto_columns": null,
            "grid_auto_flow": null,
            "grid_auto_rows": null,
            "grid_column": null,
            "grid_gap": null,
            "grid_row": null,
            "grid_template_areas": null,
            "grid_template_columns": null,
            "grid_template_rows": null,
            "height": null,
            "justify_content": null,
            "justify_items": null,
            "left": null,
            "margin": null,
            "max_height": null,
            "max_width": null,
            "min_height": null,
            "min_width": null,
            "object_fit": null,
            "object_position": null,
            "order": null,
            "overflow": null,
            "overflow_x": null,
            "overflow_y": null,
            "padding": null,
            "right": null,
            "top": null,
            "visibility": null,
            "width": null
          }
        },
        "7df56515dfc2456491f1377d21819da8": {
          "model_module": "@jupyter-widgets/controls",
          "model_name": "DescriptionStyleModel",
          "model_module_version": "1.5.0",
          "state": {
            "_model_module": "@jupyter-widgets/controls",
            "_model_module_version": "1.5.0",
            "_model_name": "DescriptionStyleModel",
            "_view_count": null,
            "_view_module": "@jupyter-widgets/base",
            "_view_module_version": "1.2.0",
            "_view_name": "StyleView",
            "description_width": ""
          }
        },
        "cf2d4c9ad9a448088545c2ba6692469d": {
          "model_module": "@jupyter-widgets/controls",
          "model_name": "FloatTextModel",
          "model_module_version": "1.5.0",
          "state": {
            "_dom_classes": [],
            "_model_module": "@jupyter-widgets/controls",
            "_model_module_version": "1.5.0",
            "_model_name": "FloatTextModel",
            "_view_count": null,
            "_view_module": "@jupyter-widgets/controls",
            "_view_module_version": "1.5.0",
            "_view_name": "FloatTextView",
            "continuous_update": false,
            "description": "Característica 20",
            "description_tooltip": null,
            "disabled": false,
            "layout": "IPY_MODEL_1c53ae7dd3c24e4199aa2a5213f0fb6e",
            "step": null,
            "style": "IPY_MODEL_1a0a9d9148ed4336b5febaa59b6be9a4",
            "value": 0
          }
        },
        "1c53ae7dd3c24e4199aa2a5213f0fb6e": {
          "model_module": "@jupyter-widgets/base",
          "model_name": "LayoutModel",
          "model_module_version": "1.2.0",
          "state": {
            "_model_module": "@jupyter-widgets/base",
            "_model_module_version": "1.2.0",
            "_model_name": "LayoutModel",
            "_view_count": null,
            "_view_module": "@jupyter-widgets/base",
            "_view_module_version": "1.2.0",
            "_view_name": "LayoutView",
            "align_content": null,
            "align_items": null,
            "align_self": null,
            "border": null,
            "bottom": null,
            "display": null,
            "flex": null,
            "flex_flow": null,
            "grid_area": null,
            "grid_auto_columns": null,
            "grid_auto_flow": null,
            "grid_auto_rows": null,
            "grid_column": null,
            "grid_gap": null,
            "grid_row": null,
            "grid_template_areas": null,
            "grid_template_columns": null,
            "grid_template_rows": null,
            "height": null,
            "justify_content": null,
            "justify_items": null,
            "left": null,
            "margin": null,
            "max_height": null,
            "max_width": null,
            "min_height": null,
            "min_width": null,
            "object_fit": null,
            "object_position": null,
            "order": null,
            "overflow": null,
            "overflow_x": null,
            "overflow_y": null,
            "padding": null,
            "right": null,
            "top": null,
            "visibility": null,
            "width": null
          }
        },
        "1a0a9d9148ed4336b5febaa59b6be9a4": {
          "model_module": "@jupyter-widgets/controls",
          "model_name": "DescriptionStyleModel",
          "model_module_version": "1.5.0",
          "state": {
            "_model_module": "@jupyter-widgets/controls",
            "_model_module_version": "1.5.0",
            "_model_name": "DescriptionStyleModel",
            "_view_count": null,
            "_view_module": "@jupyter-widgets/base",
            "_view_module_version": "1.2.0",
            "_view_name": "StyleView",
            "description_width": ""
          }
        },
        "2032ec73a8a24182839d96ad07cd2f9d": {
          "model_module": "@jupyter-widgets/controls",
          "model_name": "ButtonModel",
          "model_module_version": "1.5.0",
          "state": {
            "_dom_classes": [],
            "_model_module": "@jupyter-widgets/controls",
            "_model_module_version": "1.5.0",
            "_model_name": "ButtonModel",
            "_view_count": null,
            "_view_module": "@jupyter-widgets/controls",
            "_view_module_version": "1.5.0",
            "_view_name": "ButtonView",
            "button_style": "",
            "description": "Predecir",
            "disabled": false,
            "icon": "",
            "layout": "IPY_MODEL_7b6f4fdd59304299a53989cba7cc3c14",
            "style": "IPY_MODEL_b4bf8d1e99464888aa660d49bfb97ceb",
            "tooltip": ""
          }
        },
        "7b6f4fdd59304299a53989cba7cc3c14": {
          "model_module": "@jupyter-widgets/base",
          "model_name": "LayoutModel",
          "model_module_version": "1.2.0",
          "state": {
            "_model_module": "@jupyter-widgets/base",
            "_model_module_version": "1.2.0",
            "_model_name": "LayoutModel",
            "_view_count": null,
            "_view_module": "@jupyter-widgets/base",
            "_view_module_version": "1.2.0",
            "_view_name": "LayoutView",
            "align_content": null,
            "align_items": null,
            "align_self": null,
            "border": null,
            "bottom": null,
            "display": null,
            "flex": null,
            "flex_flow": null,
            "grid_area": null,
            "grid_auto_columns": null,
            "grid_auto_flow": null,
            "grid_auto_rows": null,
            "grid_column": null,
            "grid_gap": null,
            "grid_row": null,
            "grid_template_areas": null,
            "grid_template_columns": null,
            "grid_template_rows": null,
            "height": null,
            "justify_content": null,
            "justify_items": null,
            "left": null,
            "margin": null,
            "max_height": null,
            "max_width": null,
            "min_height": null,
            "min_width": null,
            "object_fit": null,
            "object_position": null,
            "order": null,
            "overflow": null,
            "overflow_x": null,
            "overflow_y": null,
            "padding": null,
            "right": null,
            "top": null,
            "visibility": null,
            "width": null
          }
        },
        "b4bf8d1e99464888aa660d49bfb97ceb": {
          "model_module": "@jupyter-widgets/controls",
          "model_name": "ButtonStyleModel",
          "model_module_version": "1.5.0",
          "state": {
            "_model_module": "@jupyter-widgets/controls",
            "_model_module_version": "1.5.0",
            "_model_name": "ButtonStyleModel",
            "_view_count": null,
            "_view_module": "@jupyter-widgets/base",
            "_view_module_version": "1.2.0",
            "_view_name": "StyleView",
            "button_color": null,
            "font_weight": ""
          }
        },
        "67ba41343a22421597e9cc007a2c513e": {
          "model_module": "@jupyter-widgets/controls",
          "model_name": "TextModel",
          "model_module_version": "1.5.0",
          "state": {
            "_dom_classes": [],
            "_model_module": "@jupyter-widgets/controls",
            "_model_module_version": "1.5.0",
            "_model_name": "TextModel",
            "_view_count": null,
            "_view_module": "@jupyter-widgets/controls",
            "_view_module_version": "1.5.0",
            "_view_name": "TextView",
            "continuous_update": true,
            "description": "Resultado",
            "description_tooltip": null,
            "disabled": true,
            "layout": "IPY_MODEL_2a64e5d36e044e76a2ffb28884244c6b",
            "placeholder": "​",
            "style": "IPY_MODEL_29ecf880544e4b709fd386738ddd7b80",
            "value": ""
          }
        },
        "2a64e5d36e044e76a2ffb28884244c6b": {
          "model_module": "@jupyter-widgets/base",
          "model_name": "LayoutModel",
          "model_module_version": "1.2.0",
          "state": {
            "_model_module": "@jupyter-widgets/base",
            "_model_module_version": "1.2.0",
            "_model_name": "LayoutModel",
            "_view_count": null,
            "_view_module": "@jupyter-widgets/base",
            "_view_module_version": "1.2.0",
            "_view_name": "LayoutView",
            "align_content": null,
            "align_items": null,
            "align_self": null,
            "border": null,
            "bottom": null,
            "display": null,
            "flex": null,
            "flex_flow": null,
            "grid_area": null,
            "grid_auto_columns": null,
            "grid_auto_flow": null,
            "grid_auto_rows": null,
            "grid_column": null,
            "grid_gap": null,
            "grid_row": null,
            "grid_template_areas": null,
            "grid_template_columns": null,
            "grid_template_rows": null,
            "height": null,
            "justify_content": null,
            "justify_items": null,
            "left": null,
            "margin": null,
            "max_height": null,
            "max_width": null,
            "min_height": null,
            "min_width": null,
            "object_fit": null,
            "object_position": null,
            "order": null,
            "overflow": null,
            "overflow_x": null,
            "overflow_y": null,
            "padding": null,
            "right": null,
            "top": null,
            "visibility": null,
            "width": null
          }
        },
        "29ecf880544e4b709fd386738ddd7b80": {
          "model_module": "@jupyter-widgets/controls",
          "model_name": "DescriptionStyleModel",
          "model_module_version": "1.5.0",
          "state": {
            "_model_module": "@jupyter-widgets/controls",
            "_model_module_version": "1.5.0",
            "_model_name": "DescriptionStyleModel",
            "_view_count": null,
            "_view_module": "@jupyter-widgets/base",
            "_view_module_version": "1.2.0",
            "_view_name": "StyleView",
            "description_width": ""
          }
        }
      }
    }
  },
  "cells": [
    {
      "cell_type": "markdown",
      "source": [
        "<h1> LOAIZA CORONADO RODRIGO JAIRO</h1>\n",
        "<h2> ING. DE SISTEMAS</h2>\n",
        "data set de presdiccion de nivel de obesidad\n",
        "'Insufficient_Weight' : 0,\n",
        "'Normal_Weight' : 1,\n",
        "'Overweight_Level_I' : 2,\n",
        "'Overweight_Level_II' : 3,\n",
        "'Obesity_Type_I' : 4,\n",
        "'Obesity_Type_II' : 5,\n",
        "'Obesity_Type_III' : 6,"
      ],
      "metadata": {
        "id": "lh1HTvY3MJgg"
      }
    },
    {
      "cell_type": "code",
      "execution_count": 2,
      "metadata": {
        "id": "7DPydhGxPgAj",
        "colab": {
          "base_uri": "https://localhost:8080/"
        },
        "outputId": "f758324f-63ad-4131-baed-23214756302d"
      },
      "outputs": [
        {
          "output_type": "stream",
          "name": "stdout",
          "text": [
            "Drive already mounted at /content/drive; to attempt to forcibly remount, call drive.mount(\"/content/drive\", force_remount=True).\n"
          ]
        }
      ],
      "source": [
        "from google.colab import drive\n",
        "drive.mount('/content/drive')"
      ]
    },
    {
      "cell_type": "code",
      "source": [
        "# Cálculo científico y vectorial para python\n",
        "import numpy as np\n",
        "# Libreria para graficos\n",
        "import matplotlib.pyplot as plt\n",
        "import pandas as pd\n",
        "from sklearn.model_selection import train_test_split\n"
      ],
      "metadata": {
        "id": "BDizBgKgPi57"
      },
      "execution_count": 3,
      "outputs": []
    },
    {
      "cell_type": "markdown",
      "source": [
        "PREPROCESAMIENTO DE DATOS\n",
        "Los datos se cargan a dos variables una contiene las X file_path_features y la otra contiene las 'y' file_path_target"
      ],
      "metadata": {
        "id": "UAZaB-skM5jQ"
      }
    },
    {
      "cell_type": "code",
      "source": [
        "# Cargar los datasets desde los archivos CSV\n",
        "file_path_features = '/content/drive/MyDrive/SIS420 Inteligencia Artificial/SegundoSemestre/Dataset/features_v1'\n",
        "file_path_target = '/content/drive/MyDrive/SIS420 Inteligencia Artificial/SegundoSemestre/Dataset/target'\n",
        "data = pd.read_csv(file_path_features, header=0)  # 'header=0' asegura que la primera fila sea tratada como cabeceras\n",
        "\n",
        "\n",
        "# Verificar que las cabeceras se hayan leído correctamente\n",
        "print(data.head())  # Esto mostrará las primeras filas del dataset junto con los nombres de las columnas\n",
        "\n",
        "# Eliminar la primera columna irrelevante\n",
        "data = data.iloc[:, 1:]\n",
        "\n",
        "# Cargar las clases (Y)\n",
        "target_data = pd.read_csv(file_path_target)\n",
        "y = target_data.iloc[:, -1]  # Solo la columna de clases (NObeyesdad)"
      ],
      "metadata": {
        "id": "m7uy_rp_PkQ7",
        "colab": {
          "base_uri": "https://localhost:8080/"
        },
        "outputId": "23129f39-6a54-4e72-dc9f-2ca0c773b42e"
      },
      "execution_count": 4,
      "outputs": [
        {
          "output_type": "stream",
          "name": "stdout",
          "text": [
            "   Unnamed: 0  Gender  family_history_with_overweight  FAVC  CAEC  SMOKE  SCC  \\\n",
            "0           0       0                               1     0     2      0    0   \n",
            "1           1       0                               1     0     2      1    1   \n",
            "2           2       1                               1     0     2      0    0   \n",
            "3           3       1                               0     0     2      0    0   \n",
            "4           4       1                               0     0     2      0    0   \n",
            "\n",
            "   CALC  MTRANS       Age    Height    Weight  FCVC       NCP  CH2O       FAF  \\\n",
            "0     3       3  0.148936  0.320755  0.186567   0.5  0.666667   0.5  0.000000   \n",
            "1     2       3  0.148936  0.132075  0.126866   1.0  0.666667   1.0  1.000000   \n",
            "2     1       3  0.191489  0.660377  0.283582   0.5  0.666667   0.5  0.666667   \n",
            "3     1       4  0.276596  0.660377  0.358209   1.0  0.666667   0.5  0.666667   \n",
            "4     2       3  0.170213  0.622642  0.379104   0.5  0.000000   0.5  0.000000   \n",
            "\n",
            "   TUE        BMI  \n",
            "0  0.5  24.386526  \n",
            "1  0.0  24.238227  \n",
            "2  0.5  23.765432  \n",
            "3  0.0  26.851852  \n",
            "4  0.0  28.342381  \n"
          ]
        }
      ]
    },
    {
      "cell_type": "markdown",
      "source": [
        "1. Se insertan atributos de booleanos, caracteres y textos al data set"
      ],
      "metadata": {
        "id": "nOa6rvKbNwZa"
      }
    },
    {
      "cell_type": "code",
      "source": [
        "#A partir de esta fila mantendremos el data set original en data y usaremos data_sintetic para el dataset sintetico\n",
        "data_sintetic = data.copy();\n",
        "# Columna `realiza_ejercicio`: Valores booleanos 0 o 1\n",
        "data_sintetic['realiza_ejercicio'] = np.random.choice([0, 1], size=len(data_sintetic))\n",
        "\n",
        "# Columna `nivel_actividad`: Valores categóricos ('Bajo', 'Moderado', 'Alto')\n",
        "niveles_actividad = ['B', 'M', 'A']\n",
        "data_sintetic['nivel_actividad'] = np.random.choice(niveles_actividad, size=len(data_sintetic))\n",
        "# Medicación\n",
        "text = ['antidepresivos', 'antipsicóticos', 'betabloqueantes','glucocorticoides','insulina','0']\n",
        "data_sintetic['Medicamentos'] = np.random.choice(text, size=data_sintetic.shape[0])\n",
        "\n"
      ],
      "metadata": {
        "id": "tAsjeDpzPmEq"
      },
      "execution_count": 5,
      "outputs": []
    },
    {
      "cell_type": "code",
      "source": [
        "# Verificar el dataset después de agregar las nuevas columnas\n",
        "print(data_sintetic.head())"
      ],
      "metadata": {
        "colab": {
          "base_uri": "https://localhost:8080/"
        },
        "id": "iSl42T2k8Vzj",
        "outputId": "ad44fe6b-b576-4dd5-f5cc-328fc850f347"
      },
      "execution_count": 6,
      "outputs": [
        {
          "output_type": "stream",
          "name": "stdout",
          "text": [
            "   Gender  family_history_with_overweight  FAVC  CAEC  SMOKE  SCC  CALC  \\\n",
            "0       0                               1     0     2      0    0     3   \n",
            "1       0                               1     0     2      1    1     2   \n",
            "2       1                               1     0     2      0    0     1   \n",
            "3       1                               0     0     2      0    0     1   \n",
            "4       1                               0     0     2      0    0     2   \n",
            "\n",
            "   MTRANS       Age    Height    Weight  FCVC       NCP  CH2O       FAF  TUE  \\\n",
            "0       3  0.148936  0.320755  0.186567   0.5  0.666667   0.5  0.000000  0.5   \n",
            "1       3  0.148936  0.132075  0.126866   1.0  0.666667   1.0  1.000000  0.0   \n",
            "2       3  0.191489  0.660377  0.283582   0.5  0.666667   0.5  0.666667  0.5   \n",
            "3       4  0.276596  0.660377  0.358209   1.0  0.666667   0.5  0.666667  0.0   \n",
            "4       3  0.170213  0.622642  0.379104   0.5  0.000000   0.5  0.000000  0.0   \n",
            "\n",
            "         BMI  realiza_ejercicio nivel_actividad      Medicamentos  \n",
            "0  24.386526                  1               B  glucocorticoides  \n",
            "1  24.238227                  1               A          insulina  \n",
            "2  23.765432                  0               A                 0  \n",
            "3  26.851852                  1               A          insulina  \n",
            "4  28.342381                  1               M    antidepresivos  \n"
          ]
        }
      ]
    },
    {
      "cell_type": "markdown",
      "source": [
        "2. Duplicamos el data set considerando los valores min y max de cada columna para generar valores randomicos"
      ],
      "metadata": {
        "id": "-9x_IhhkOXRN"
      }
    },
    {
      "cell_type": "code",
      "source": [
        "# Calcular los valores mínimos y máximos de cada columna\n",
        "min_values = data_sintetic.min()\n",
        "max_values = data_sintetic.max()\n",
        "\n",
        "# Generar nuevos valores aleatorios dentro de los rangos mínimos y máximos\n",
        "new_data = pd.DataFrame()\n",
        "for column in data_sintetic.columns:\n",
        "    if data_sintetic[column].dtype == 'object':\n",
        "        new_data[column] = np.random.choice(data_sintetic[column].unique(), size=len(data_sintetic))\n",
        "    else:\n",
        "        new_data[column] = np.random.uniform(min_values[column], max_values[column], size=len(data_sintetic))\n",
        "\n",
        "# Concatenar el dataset original con el nuevo dataset generado\n",
        "augmented_data = pd.concat([data_sintetic, new_data], ignore_index=True)\n",
        "\n",
        "# Verificar el tamaño del nuevo dataset\n",
        "print(data_sintetic.shape)\n",
        "print(augmented_data.shape)\n",
        "print(augmented_data.tail())"
      ],
      "metadata": {
        "colab": {
          "base_uri": "https://localhost:8080/"
        },
        "id": "ypeaW0Um-pGG",
        "outputId": "581cdd2a-edb2-4095-862a-b53f1534f3fa"
      },
      "execution_count": 7,
      "outputs": [
        {
          "output_type": "stream",
          "name": "stdout",
          "text": [
            "(22869, 20)\n",
            "(45738, 20)\n",
            "         Gender  family_history_with_overweight      FAVC      CAEC     SMOKE  \\\n",
            "45733  0.432831                        0.076329  0.386836  2.259979  0.890414   \n",
            "45734  0.576113                        0.053043  0.794488  2.062202  0.479970   \n",
            "45735  0.716253                        0.153583  0.140144  0.436234  0.749275   \n",
            "45736  0.357667                        0.530065  0.308607  1.808266  0.508276   \n",
            "45737  0.393315                        0.255491  0.608500  1.241216  0.467473   \n",
            "\n",
            "            SCC      CALC    MTRANS       Age    Height    Weight      FCVC  \\\n",
            "45733  0.348043  2.377131  1.284841  0.350903  0.119500  0.091008  0.103979   \n",
            "45734  0.650903  0.399248  0.005010  0.279283  0.470733  0.526865  0.974167   \n",
            "45735  0.997824  0.212261  0.189199  0.494201  0.283664  0.752841  0.243095   \n",
            "45736  0.686116  1.190590  3.203590  0.624262  0.859100  0.248046  0.243136   \n",
            "45737  0.759282  1.311206  0.388366  0.148258  0.622006  0.297885  0.855689   \n",
            "\n",
            "            NCP      CH2O       FAF       TUE        BMI  realiza_ejercicio  \\\n",
            "45733  0.248864  0.176377  0.413609  0.339538  33.510895           0.927514   \n",
            "45734  0.214984  0.695591  0.021409  0.326118  29.344453           0.828343   \n",
            "45735  0.084744  0.433697  0.429533  0.493638  32.787511           0.170181   \n",
            "45736  0.234565  0.582533  0.316635  0.635186  45.426192           0.903716   \n",
            "45737  0.182634  0.549308  0.368368  0.521740  47.095588           0.446973   \n",
            "\n",
            "      nivel_actividad      Medicamentos  \n",
            "45733               A    antidepresivos  \n",
            "45734               B                 0  \n",
            "45735               B    antipsicóticos  \n",
            "45736               B   betabloqueantes  \n",
            "45737               A  glucocorticoides  \n"
          ]
        }
      ]
    },
    {
      "cell_type": "markdown",
      "source": [
        "Tambien duplicamos la y"
      ],
      "metadata": {
        "id": "UuAm-4FbO2K7"
      }
    },
    {
      "cell_type": "code",
      "source": [
        "# Duplicar las etiquetas de y para que coincidan con el tamaño del dataset aumentado\n",
        "new_y = np.random.choice(y, size=len(new_data), replace=True)  # Genera etiquetas aleatorias del conjunto original\n",
        "\n",
        "# Concatenar las etiquetas originales con las nuevas etiquetas generadas\n",
        "augmented_y = np.concatenate([y, new_y])\n",
        "\n",
        "# Verificar el tamaño de augmented_y\n",
        "print(f\"Dimensiones de y original: {y.shape}\")\n",
        "print(f\"Dimensiones de y aumentado: {augmented_y.shape}\")\n"
      ],
      "metadata": {
        "colab": {
          "base_uri": "https://localhost:8080/"
        },
        "id": "jTN_J__bA7UW",
        "outputId": "8bdee10a-6c14-461a-da64-b1b5c43c8d0b"
      },
      "execution_count": 8,
      "outputs": [
        {
          "output_type": "stream",
          "name": "stdout",
          "text": [
            "Dimensiones de y original: (22869,)\n",
            "Dimensiones de y aumentado: (45738,)\n"
          ]
        }
      ]
    },
    {
      "cell_type": "code",
      "source": [
        "augmented_data['Gender'] = augmented_data['Gender'].round().astype(int)\n",
        "augmented_data['family_history_with_overweight'] = augmented_data['family_history_with_overweight'].round().astype(int)\n",
        "augmented_data['FAVC'] = augmented_data['FAVC'].round().astype(int)\n",
        "augmented_data['SMOKE'] = augmented_data['SMOKE'].round().astype(int)\n",
        "augmented_data['SCC'] = augmented_data['SCC'].round().astype(int)\n",
        "augmented_data['CALC'] = augmented_data['CALC'].round().astype(int)\n",
        "augmented_data['MTRANS'] = augmented_data['MTRANS'].round().astype(int)\n"
      ],
      "metadata": {
        "id": "5BmNmRlqFMI1"
      },
      "execution_count": 9,
      "outputs": []
    },
    {
      "cell_type": "code",
      "source": [
        "print(augmented_data)"
      ],
      "metadata": {
        "colab": {
          "base_uri": "https://localhost:8080/"
        },
        "id": "z-XHv0n4FYcI",
        "outputId": "8b43a0a2-b998-42c7-a9d7-25ec15a5b848"
      },
      "execution_count": 10,
      "outputs": [
        {
          "output_type": "stream",
          "name": "stdout",
          "text": [
            "       Gender  family_history_with_overweight  FAVC      CAEC  SMOKE  SCC  \\\n",
            "0           0                               1     0  2.000000      0    0   \n",
            "1           0                               1     0  2.000000      1    1   \n",
            "2           1                               1     0  2.000000      0    0   \n",
            "3           1                               0     0  2.000000      0    0   \n",
            "4           1                               0     0  2.000000      0    0   \n",
            "...       ...                             ...   ...       ...    ...  ...   \n",
            "45733       0                               0     0  2.259979      1    0   \n",
            "45734       1                               0     1  2.062202      0    1   \n",
            "45735       1                               0     0  0.436234      1    1   \n",
            "45736       0                               1     0  1.808266      1    1   \n",
            "45737       0                               0     1  1.241216      0    1   \n",
            "\n",
            "       CALC  MTRANS       Age    Height    Weight      FCVC       NCP  \\\n",
            "0         3       3  0.148936  0.320755  0.186567  0.500000  0.666667   \n",
            "1         2       3  0.148936  0.132075  0.126866  1.000000  0.666667   \n",
            "2         1       3  0.191489  0.660377  0.283582  0.500000  0.666667   \n",
            "3         1       4  0.276596  0.660377  0.358209  1.000000  0.666667   \n",
            "4         2       3  0.170213  0.622642  0.379104  0.500000  0.000000   \n",
            "...     ...     ...       ...       ...       ...       ...       ...   \n",
            "45733     2       1  0.350903  0.119500  0.091008  0.103979  0.248864   \n",
            "45734     0       0  0.279283  0.470733  0.526865  0.974167  0.214984   \n",
            "45735     0       0  0.494201  0.283664  0.752841  0.243095  0.084744   \n",
            "45736     1       3  0.624262  0.859100  0.248046  0.243136  0.234565   \n",
            "45737     1       0  0.148258  0.622006  0.297885  0.855689  0.182634   \n",
            "\n",
            "           CH2O       FAF       TUE        BMI  realiza_ejercicio  \\\n",
            "0      0.500000  0.000000  0.500000  24.386526           1.000000   \n",
            "1      1.000000  1.000000  0.000000  24.238227           1.000000   \n",
            "2      0.500000  0.666667  0.500000  23.765432           0.000000   \n",
            "3      0.500000  0.666667  0.000000  26.851852           1.000000   \n",
            "4      0.500000  0.000000  0.000000  28.342381           1.000000   \n",
            "...         ...       ...       ...        ...                ...   \n",
            "45733  0.176377  0.413609  0.339538  33.510895           0.927514   \n",
            "45734  0.695591  0.021409  0.326118  29.344453           0.828343   \n",
            "45735  0.433697  0.429533  0.493638  32.787511           0.170181   \n",
            "45736  0.582533  0.316635  0.635186  45.426192           0.903716   \n",
            "45737  0.549308  0.368368  0.521740  47.095588           0.446973   \n",
            "\n",
            "      nivel_actividad      Medicamentos  \n",
            "0                   B  glucocorticoides  \n",
            "1                   A          insulina  \n",
            "2                   A                 0  \n",
            "3                   A          insulina  \n",
            "4                   M    antidepresivos  \n",
            "...               ...               ...  \n",
            "45733               A    antidepresivos  \n",
            "45734               B                 0  \n",
            "45735               B    antipsicóticos  \n",
            "45736               B   betabloqueantes  \n",
            "45737               A  glucocorticoides  \n",
            "\n",
            "[45738 rows x 20 columns]\n"
          ]
        }
      ]
    },
    {
      "cell_type": "code",
      "source": [
        "# 1. Convertir la columna 'nivel_actividad' a valores numéricos\n",
        "# Asignar un número a cada letra (por ejemplo, A: 0, B: 1, ..., E: 4)\n",
        "char_to_num = {'B': 0, 'M': 1, 'A': 2}\n",
        "augmented_data['nivel_actividad'] = augmented_data['nivel_actividad'].map(char_to_num)\n",
        "\n",
        "# 2. Convertir la columna 'Medicamentos' a valores numéricos\n",
        "# Asignar un valor a cada categoría de texto (por ejemplo, no: 0, sometimes: 1, Frequently: 2)\n",
        "text_to_num = {'0':0,'antidepresivos': 1,  'antipsicóticos':2, 'betabloqueantes':3,'glucocorticoides':4,'insulina':5}\n",
        "augmented_data['Medicamentos'] = augmented_data['Medicamentos'].map(text_to_num)\n",
        "print(augmented_data)"
      ],
      "metadata": {
        "colab": {
          "base_uri": "https://localhost:8080/"
        },
        "id": "O2amW_YE-r3c",
        "outputId": "b0a11f5e-8e13-4e15-bd06-8fe2c8e21932"
      },
      "execution_count": 11,
      "outputs": [
        {
          "output_type": "stream",
          "name": "stdout",
          "text": [
            "       Gender  family_history_with_overweight  FAVC      CAEC  SMOKE  SCC  \\\n",
            "0           0                               1     0  2.000000      0    0   \n",
            "1           0                               1     0  2.000000      1    1   \n",
            "2           1                               1     0  2.000000      0    0   \n",
            "3           1                               0     0  2.000000      0    0   \n",
            "4           1                               0     0  2.000000      0    0   \n",
            "...       ...                             ...   ...       ...    ...  ...   \n",
            "45733       0                               0     0  2.259979      1    0   \n",
            "45734       1                               0     1  2.062202      0    1   \n",
            "45735       1                               0     0  0.436234      1    1   \n",
            "45736       0                               1     0  1.808266      1    1   \n",
            "45737       0                               0     1  1.241216      0    1   \n",
            "\n",
            "       CALC  MTRANS       Age    Height    Weight      FCVC       NCP  \\\n",
            "0         3       3  0.148936  0.320755  0.186567  0.500000  0.666667   \n",
            "1         2       3  0.148936  0.132075  0.126866  1.000000  0.666667   \n",
            "2         1       3  0.191489  0.660377  0.283582  0.500000  0.666667   \n",
            "3         1       4  0.276596  0.660377  0.358209  1.000000  0.666667   \n",
            "4         2       3  0.170213  0.622642  0.379104  0.500000  0.000000   \n",
            "...     ...     ...       ...       ...       ...       ...       ...   \n",
            "45733     2       1  0.350903  0.119500  0.091008  0.103979  0.248864   \n",
            "45734     0       0  0.279283  0.470733  0.526865  0.974167  0.214984   \n",
            "45735     0       0  0.494201  0.283664  0.752841  0.243095  0.084744   \n",
            "45736     1       3  0.624262  0.859100  0.248046  0.243136  0.234565   \n",
            "45737     1       0  0.148258  0.622006  0.297885  0.855689  0.182634   \n",
            "\n",
            "           CH2O       FAF       TUE        BMI  realiza_ejercicio  \\\n",
            "0      0.500000  0.000000  0.500000  24.386526           1.000000   \n",
            "1      1.000000  1.000000  0.000000  24.238227           1.000000   \n",
            "2      0.500000  0.666667  0.500000  23.765432           0.000000   \n",
            "3      0.500000  0.666667  0.000000  26.851852           1.000000   \n",
            "4      0.500000  0.000000  0.000000  28.342381           1.000000   \n",
            "...         ...       ...       ...        ...                ...   \n",
            "45733  0.176377  0.413609  0.339538  33.510895           0.927514   \n",
            "45734  0.695591  0.021409  0.326118  29.344453           0.828343   \n",
            "45735  0.433697  0.429533  0.493638  32.787511           0.170181   \n",
            "45736  0.582533  0.316635  0.635186  45.426192           0.903716   \n",
            "45737  0.549308  0.368368  0.521740  47.095588           0.446973   \n",
            "\n",
            "       nivel_actividad  Medicamentos  \n",
            "0                    0             4  \n",
            "1                    2             5  \n",
            "2                    2             0  \n",
            "3                    2             5  \n",
            "4                    1             1  \n",
            "...                ...           ...  \n",
            "45733                2             1  \n",
            "45734                0             0  \n",
            "45735                0             2  \n",
            "45736                0             3  \n",
            "45737                2             4  \n",
            "\n",
            "[45738 rows x 20 columns]\n"
          ]
        }
      ]
    },
    {
      "cell_type": "markdown",
      "source": [
        "3. Grafica que representa los datos de algunas columnas del data set original vs el data set sintetico"
      ],
      "metadata": {
        "id": "G6EyckCKQY4X"
      }
    },
    {
      "cell_type": "code",
      "source": [
        "# Comparar la columna 'Weight' entre el dataset original y el dataset sintetico\n",
        "# Histograma del dataset original (data)\n",
        "plt.figure(figsize=(10, 5))\n",
        "# Histograma del dataset original\n",
        "plt.subplot(1, 2, 1)\n",
        "plt.hist(data['Weight'], bins=20, color='blue', alpha=0.7, label='Original')\n",
        "plt.title('Distribución del Peso (Original)')\n",
        "plt.xlabel('Peso (Weight)')\n",
        "plt.ylabel('Frecuencia')\n",
        "\n",
        "# Histograma del dataset sintético (augmented_data)\n",
        "plt.subplot(1, 2, 2)\n",
        "plt.hist(augmented_data['Weight'], bins=20, color='green', alpha=0.7, label='Sintético')\n",
        "plt.title('Distribución del Peso (Sintético)')\n",
        "plt.xlabel('Peso (Weight)')\n",
        "plt.ylabel('Frecuencia')\n",
        "\n",
        "# Mostrar el gráfico\n",
        "plt.tight_layout()\n",
        "plt.show()\n"
      ],
      "metadata": {
        "colab": {
          "base_uri": "https://localhost:8080/",
          "height": 507
        },
        "id": "7wsfa9oAcRp-",
        "outputId": "7d2439a3-f916-4138-a404-9a52ee168f37"
      },
      "execution_count": 12,
      "outputs": [
        {
          "output_type": "display_data",
          "data": {
            "text/plain": [
              "<Figure size 1000x500 with 2 Axes>"
            ],
            "image/png": "[encoded data removed]"
          },
          "metadata": {}
        }
      ]
    },
    {
      "cell_type": "code",
      "source": [
        "# Comparar la columna 'Age' entre el dataset original y el dataset sintetico\n",
        "# Histograma del dataset original (data)\n",
        "plt.figure(figsize=(10, 5))\n",
        "\n",
        "# Histograma del dataset original\n",
        "plt.subplot(1, 2, 1)\n",
        "plt.hist(data['Age'], bins=20, color='yellow', alpha=0.7, label='Original')\n",
        "plt.title('Distribución del Peso (Original)')\n",
        "plt.xlabel('EDAD (Age)')\n",
        "plt.ylabel('Frecuencia')\n",
        "\n",
        "# Histograma del dataset sintético (augmented_data)\n",
        "plt.subplot(1, 2, 2)\n",
        "plt.hist(augmented_data['Age'], bins=20, color='red', alpha=0.7, label='Sintético')\n",
        "plt.title('Distribución del Peso (Sintético)')\n",
        "plt.xlabel('AGE (Age)')\n",
        "plt.ylabel('Frecuencia')\n",
        "\n",
        "# Mostrar el gráfico\n",
        "plt.tight_layout()\n",
        "plt.show()"
      ],
      "metadata": {
        "colab": {
          "base_uri": "https://localhost:8080/",
          "height": 507
        },
        "id": "rfBTvzCZeOgX",
        "outputId": "89b3fe83-4798-4cab-b044-2d0b786adef4"
      },
      "execution_count": 13,
      "outputs": [
        {
          "output_type": "display_data",
          "data": {
            "text/plain": [
              "<Figure size 1000x500 with 2 Axes>"
            ],
            "image/png": "[encoded data removed]"
          },
          "metadata": {}
        }
      ]
    },
    {
      "cell_type": "markdown",
      "source": [
        "REGRESION LOGISTICA\n"
      ],
      "metadata": {
        "id": "C4ju2EdVHu1v"
      }
    },
    {
      "cell_type": "markdown",
      "source": [
        "NROMALIZACION\n",
        "Normalizamos augmented_data"
      ],
      "metadata": {
        "id": "YI9ZDD9SRuOO"
      }
    },
    {
      "cell_type": "code",
      "source": [
        "# Función sigmoide\n",
        "def calcularSigmoide(z):\n",
        "    z = np.array(z)\n",
        "    return 1 / (1 + np.exp(-z))"
      ],
      "metadata": {
        "id": "F3t7aPcOV2n4"
      },
      "execution_count": 14,
      "outputs": []
    },
    {
      "cell_type": "code",
      "source": [
        "# Función de costo para regresión logística binaria\n",
        "def calcularCosto(theta, X, y):\n",
        "    m = y.size  # número de ejemplos de entrenamiento\n",
        "    h = calcularSigmoide(X.dot(theta.T))\n",
        "    epsilon = 1e-5  # Para evitar problemas de logaritmo de 0\n",
        "    h = np.clip(h, epsilon, 1 - epsilon)  # Restringir h entre (epsilon, 1 - epsilon)\n",
        "    J = (1 / m) * np.sum(-y.dot(np.log(h)) - (1 - y).dot(np.log(1 - h)))\n",
        "    return J"
      ],
      "metadata": {
        "id": "mEgAOmUiV6bX"
      },
      "execution_count": 15,
      "outputs": []
    },
    {
      "cell_type": "code",
      "source": [
        "# Función de descenso por gradiente para actualizar theta\n",
        "def descensoGradiente(theta, X, y, alpha, num_iters):\n",
        "    m = y.size\n",
        "    J_history = []\n",
        "\n",
        "    for i in range(num_iters):\n",
        "        h = calcularSigmoide(X.dot(theta.T))\n",
        "        theta = theta - (alpha / m) * (h - y).dot(X)\n",
        "        J_history.append(calcularCosto(theta, X, y))\n",
        "\n",
        "    return theta, J_history"
      ],
      "metadata": {
        "id": "phUKVrFiV-An"
      },
      "execution_count": 16,
      "outputs": []
    },
    {
      "cell_type": "code",
      "source": [
        "# Función para hacer predicciones\n",
        "def predecir(X, theta):\n",
        "    return (calcularSigmoide(X.dot(theta.T)) >= 0.5).astype(int)"
      ],
      "metadata": {
        "id": "uzUxYCjML3t2"
      },
      "execution_count": 17,
      "outputs": []
    },
    {
      "cell_type": "code",
      "source": [
        "def normalizar_caracteristicas(X):\n",
        "    mu = np.mean(X, axis=0)\n",
        "    sigma = np.std(X, axis=0)\n",
        "    X_norm = (X - mu) / sigma\n",
        "    return X_norm, mu, sigma\n",
        "\n"
      ],
      "metadata": {
        "id": "le4r7jQK5fa-"
      },
      "execution_count": 18,
      "outputs": []
    },
    {
      "cell_type": "code",
      "source": [
        "# Dividir el dataset en datos de entrenamiento y prueba\n",
        "X_train, X_test, y_train, y_test = train_test_split(augmented_data, augmented_y, test_size=0.2, random_state=42)\n",
        "# Normalizar las características del conjunto de entrenamiento\n",
        "X_train_norm, mu, sigma = normalizar_caracteristicas(X_train)\n",
        "\n",
        "# Normalizar el conjunto de prueba utilizando los mismos parámetros (mu, sigma) del conjunto de entrenamiento\n",
        "X_test_norm = (X_test - mu) / sigma\n",
        "\n",
        "\n"
      ],
      "metadata": {
        "id": "w_d6GqXO5Tol"
      },
      "execution_count": 19,
      "outputs": []
    },
    {
      "cell_type": "code",
      "source": [
        "# Parámetros de regresión logística\n",
        "alpha = 0.01\n",
        "num_iters = 1000\n",
        "\n",
        "# Función para entrenar y evaluar una clase\n",
        "def entrenar_y_evaluar_clase(clase_objetivo):\n",
        "    # Crear etiquetas binarias: 1 para la clase objetivo, 0 para las demás\n",
        "    y_train_binario = (y_train == clase_objetivo).astype(int) #convierte True en 1 y False en 0\n",
        "\n",
        "    # Agregar una columna de unos para el término de intercepción (bias)\n",
        "    m, n = X_train_norm.shape\n",
        "    X_train_bias = np.concatenate([np.ones((m, 1)), X_train_norm], axis=1)\n",
        "\n",
        "    # Inicializar theta (parámetros del modelo)\n",
        "    theta_inicial = np.zeros(n + 1)\n",
        "\n",
        "    # Ejecutar el descenso por gradiente\n",
        "    theta, J_history = descensoGradiente(theta_inicial, X_train_bias, y_train_binario, alpha, num_iters)\n",
        "\n",
        "    # Graficar la convergencia del costo\n",
        "    plt.plot(np.arange(len(J_history)), J_history, lw=2)\n",
        "    plt.xlabel('Número de iteraciones')\n",
        "    plt.ylabel('Costo J')\n",
        "    plt.title(f'Convergencia del costo para la clase {clase_objetivo}')\n",
        "    plt.show()\n",
        "\n",
        "    # Evaluar la precisión en el conjunto de prueba\n",
        "    m_test = X_test_norm.shape[0]\n",
        "    X_test_bias = np.concatenate([np.ones((m_test, 1)), X_test_norm], axis=1)\n",
        "    y_pred = predecir(X_test_bias, theta)\n",
        "\n",
        "    # Calcular la precisión manualmente\n",
        "    aciertos = np.sum(y_pred == (y_test == clase_objetivo).astype(int))\n",
        "    precision = aciertos / m_test\n",
        "    print(f'Precisión para la clase {clase_objetivo}: {precision * 100:.2f}%')\n",
        "\n",
        "    # Mostrar los resultados del descenso por gradiente\n",
        "    print(f'Theta calculado para la clase {clase_objetivo}: {theta}')\n",
        "\n",
        "\n"
      ],
      "metadata": {
        "id": "ULM4a4OA4DqW"
      },
      "execution_count": 24,
      "outputs": []
    },
    {
      "cell_type": "code",
      "source": [
        "# Entrenar y evaluar la primera clase\n",
        "entrenar_y_evaluar_clase(0)\n"
      ],
      "metadata": {
        "colab": {
          "base_uri": "https://localhost:8080/",
          "height": 594
        },
        "id": "drxLluShRGFr",
        "outputId": "90859e73-5993-4f88-cb40-7c0350428b0f"
      },
      "execution_count": 25,
      "outputs": [
        {
          "output_type": "display_data",
          "data": {
            "text/plain": [
              "<Figure size 640x480 with 1 Axes>"
            ],
            "image/png": "[encoded data removed]"
          },
          "metadata": {}
        },
        {
          "output_type": "stream",
          "name": "stdout",
          "text": [
            "Precisión para la clase 0: 87.69%\n",
            "Theta calculado para la clase 0: [-1.58569265e+00 -7.17921358e-02 -1.83508162e-01 -2.14238385e-02\n",
            " -1.04382992e-01  8.12329647e-03  4.30469833e-02  2.74986047e-02\n",
            "  2.65539815e-02 -7.68574793e-02  3.67319225e-03 -2.41277612e-01\n",
            "  4.58753570e-02  7.06273219e-02 -8.87323166e-02  5.83672447e-02\n",
            "  8.03775492e-02 -2.70515941e-01  1.53319713e-03  7.14498029e-03\n",
            "  2.04941403e-03]\n"
          ]
        }
      ]
    },
    {
      "cell_type": "code",
      "source": [
        "# Entrenar y evaluar las demas clases\n",
        "entrenar_y_evaluar_clase(1)\n",
        "entrenar_y_evaluar_clase(3)\n",
        "entrenar_y_evaluar_clase(4)\n",
        "entrenar_y_evaluar_clase(5)\n",
        "entrenar_y_evaluar_clase(6)"
      ],
      "metadata": {
        "colab": {
          "base_uri": "https://localhost:8080/",
          "height": 1000
        },
        "id": "vaC6O4CtTR2T",
        "outputId": "3294d7ba-6ab8-4481-bf28-4b022c3ee342"
      },
      "execution_count": 30,
      "outputs": [
        {
          "output_type": "display_data",
          "data": {
            "text/plain": [
              "<Figure size 640x480 with 1 Axes>"
            ],
            "image/png": "[encoded data removed]"
          },
          "metadata": {}
        },
        {
          "output_type": "stream",
          "name": "stdout",
          "text": [
            "Precisión para la clase 1: 84.95%\n",
            "Theta calculado para la clase 1: [-1.42830579 -0.01257697 -0.12647396 -0.05278069 -0.09914305  0.02151855\n",
            "  0.00811143  0.02245014  0.05981423 -0.0523989  -0.05730383 -0.19164681\n",
            " -0.02334447  0.05323289 -0.09541594  0.07837418  0.00159481 -0.19190677\n",
            "  0.00555191  0.0025013   0.00265052]\n"
          ]
        },
        {
          "output_type": "display_data",
          "data": {
            "text/plain": [
              "<Figure size 640x480 with 1 Axes>"
            ],
            "image/png": "[encoded data removed]"
          },
          "metadata": {}
        },
        {
          "output_type": "stream",
          "name": "stdout",
          "text": [
            "Precisión para la clase 3: 88.07%\n",
            "Theta calculado para la clase 3: [-1.53919293  0.09750265  0.09228017 -0.08989985  0.02654548 -0.01002844\n",
            " -0.04879995  0.04244595 -0.08781933  0.04757425 -0.01323852 -0.05659923\n",
            " -0.09199143 -0.05104754 -0.0086179   0.00440978  0.02926164 -0.05547275\n",
            "  0.00302884  0.00794145 -0.00956644]\n"
          ]
        },
        {
          "output_type": "display_data",
          "data": {
            "text/plain": [
              "<Figure size 640x480 with 1 Axes>"
            ],
            "image/png": "[encoded data removed]"
          },
          "metadata": {}
        },
        {
          "output_type": "stream",
          "name": "stdout",
          "text": [
            "Precisión para la clase 4: 85.91%\n",
            "Theta calculado para la clase 4: [-1.45932244  0.03981464  0.11123747  0.05066002  0.04641135 -0.01084179\n",
            " -0.03070949  0.09841848 -0.06036845  0.02078788 -0.0206339   0.03508327\n",
            " -0.2036024  -0.11750328  0.05414002 -0.02042579  0.06558877  0.06114522\n",
            " -0.00551237  0.01412413  0.01311599]\n"
          ]
        },
        {
          "output_type": "display_data",
          "data": {
            "text/plain": [
              "<Figure size 640x480 with 1 Axes>"
            ],
            "image/png": "[encoded data removed]"
          },
          "metadata": {}
        },
        {
          "output_type": "stream",
          "name": "stdout",
          "text": [
            "Precisión para la clase 5: 84.72%\n",
            "Theta calculado para la clase 5: [-1.41503721e+00  3.36986893e-01  1.04471392e-01  6.33281973e-02\n",
            "  4.28208606e-02  1.20600012e-02 -1.10758931e-02 -9.59952517e-03\n",
            " -8.44306253e-02  8.07586170e-02  1.66961900e-01  2.39189724e-01\n",
            " -1.59807002e-04  1.63889789e-02 -6.95175566e-02 -4.97246754e-03\n",
            " -1.17579971e-01  1.66999791e-01 -4.43859660e-03 -1.02979841e-02\n",
            " -1.48999700e-02]\n"
          ]
        },
        {
          "output_type": "display_data",
          "data": {
            "text/plain": [
              "<Figure size 640x480 with 1 Axes>"
            ],
            "image/png": "[encoded data removed]"
          },
          "metadata": {}
        },
        {
          "output_type": "stream",
          "name": "stdout",
          "text": [
            "Precisión para la clase 6: 88.03%\n",
            "Theta calculado para la clase 6: [-1.30345052 -0.37856975  0.07582683  0.03122626  0.02775386  0.01316696\n",
            "  0.00458735 -0.12166413  0.14502149  0.01712101 -0.04928279  0.28341911\n",
            "  0.30428089  0.10370807  0.15567818 -0.13999352 -0.00877492  0.35998745\n",
            "  0.01104503 -0.01748068 -0.00627868]\n"
          ]
        }
      ]
    },
    {
      "cell_type": "markdown",
      "source": [
        "4. DATOS DE ENTRENAMIENTO Y DATOS DE PRUEBA"
      ],
      "metadata": {
        "id": "MfYGF3Orb4Sj"
      }
    },
    {
      "cell_type": "code",
      "source": [
        "# Función para el enfoque One-vs-All\n",
        "def entrenar_one_vs_all(X, y, num_etiquetas, alpha, num_iters):\n",
        "    m, n = X.shape\n",
        "    all_theta = np.zeros((num_etiquetas, n + 1))  # Guardar theta para cada clase\n",
        "    X_bias = np.concatenate([np.ones((m, 1)), X], axis=1)  # Agregar columna de unos\n",
        "    all_costs = []  # Lista para guardar los costos de cada clase\n",
        "\n",
        "    for clase in range(num_etiquetas):\n",
        "        print(f'Entrenando clase {clase} contra todas...')\n",
        "        y_binario = (y == clase).astype(int)  # 1 para la clase actual, 0 para las demás\n",
        "        theta_inicial = np.zeros(n + 1)\n",
        "        theta, J_history = descensoGradiente(theta_inicial, X_bias, y_binario, alpha, num_iters)\n",
        "        all_theta[clase, :] = theta\n",
        "        all_costs.append(J_history)  # Guardar los costos para esta clase\n",
        "\n",
        "    return all_theta, all_costs"
      ],
      "metadata": {
        "id": "T2UsUKl51MSb"
      },
      "execution_count": 34,
      "outputs": []
    },
    {
      "cell_type": "markdown",
      "source": [
        "5. Entrenamos el modelo comparando cada clase contra todos one vs all devolvemos una matriz de thetas optimizadas de cada clase y una lista que contiene el historial de costo por cada clase. esto nos sirve para graficar"
      ],
      "metadata": {
        "id": "9zxfoT4EcSVx"
      }
    },
    {
      "cell_type": "code",
      "source": [
        "# Función para predecir en One-vs-All\n",
        "def predecir_one_vs_all(X, all_theta):\n",
        "    X_bias = np.concatenate([np.ones((X.shape[0], 1)), X], axis=1)\n",
        "    probabilidades = calcularSigmoide(X_bias.dot(all_theta.T))\n",
        "    return np.argmax(probabilidades, axis=1)"
      ],
      "metadata": {
        "id": "m5-d3MY-XQwv"
      },
      "execution_count": 35,
      "outputs": []
    },
    {
      "cell_type": "code",
      "source": [
        "# Parámetros\n",
        "alpha = 0.01\n",
        "num_iters = 1000\n",
        "num_etiquetas = 7  # Número de clases\n",
        "\n",
        "# Entrenar el modelo One-vs-All y obtener los costos\n",
        "all_theta, all_costs = entrenar_one_vs_all(X_train_norm, y_train, num_etiquetas, alpha, num_iters)\n",
        "\n",
        "# Graficar las curvas de costo para todas las clases\n",
        "plt.figure(figsize=(10, 6))\n",
        "for clase in range(num_etiquetas):\n",
        "    plt.plot(np.arange(len(all_costs[clase])), all_costs[clase], label=f'Clase {clase}')\n",
        "plt.xlabel('Número de iteraciones')\n",
        "plt.ylabel('Costo J')\n",
        "plt.title('Convergencia del costo para todas las clases (One-vs-All)')\n",
        "plt.legend()\n",
        "plt.show()\n",
        "\n",
        "# Realizar predicciones en el conjunto de prueba\n",
        "y_pred = predecir_one_vs_all(X_test_norm, all_theta)\n",
        "\n",
        "# Calcular precisión\n",
        "precision = np.mean(y_pred == y_test) * 100\n",
        "print(f'Precisión del modelo One-vs-All: {precision:.2f}%')"
      ],
      "metadata": {
        "id": "NsgeJHL8Yk6G",
        "colab": {
          "base_uri": "https://localhost:8080/",
          "height": 703
        },
        "outputId": "2c6faa7c-3e3c-4981-b4e3-edeb043000dc"
      },
      "execution_count": 36,
      "outputs": [
        {
          "output_type": "stream",
          "name": "stdout",
          "text": [
            "Entrenando clase 0 contra todas...\n",
            "Entrenando clase 1 contra todas...\n",
            "Entrenando clase 2 contra todas...\n",
            "Entrenando clase 3 contra todas...\n",
            "Entrenando clase 4 contra todas...\n",
            "Entrenando clase 5 contra todas...\n",
            "Entrenando clase 6 contra todas...\n"
          ]
        },
        {
          "output_type": "display_data",
          "data": {
            "text/plain": [
              "<Figure size 1000x600 with 1 Axes>"
            ],
            "image/png": "[encoded data removed]"
          },
          "metadata": {}
        },
        {
          "output_type": "stream",
          "name": "stdout",
          "text": [
            "Precisión del modelo One-vs-All: 36.49%\n"
          ]
        }
      ]
    },
    {
      "cell_type": "code",
      "source": [
        "# Predicción y evaluación\n",
        "y_pred1 = predecir_one_vs_all(X_test_norm, all_theta)\n",
        "precision = np.mean(y_pred == y_test)\n",
        "print(f\"Precisión en el conjunto de prueba: {precision * 100:.2f}%\")\n",
        "\n",
        "# Mostrar algunos ejemplos de predicciones\n",
        "num_ejemplos = 5\n",
        "print(\"\\nEjemplos de predicciones:\")\n",
        "for i in range(num_ejemplos):\n",
        "    print(f\"Ejemplo {i+1}:\")\n",
        "    print(f\"Predicción: {y_pred1[i]}\")\n",
        "    print(f\"Valor real: {y_test[i]}\")\n",
        "    print()"
      ],
      "metadata": {
        "colab": {
          "base_uri": "https://localhost:8080/"
        },
        "id": "MVxI1P2lxb42",
        "outputId": "75e642df-4780-47f5-9bed-d71b1b9445aa"
      },
      "execution_count": 37,
      "outputs": [
        {
          "output_type": "stream",
          "name": "stdout",
          "text": [
            "Precisión en el conjunto de prueba: 36.49%\n",
            "\n",
            "Ejemplos de predicciones:\n",
            "Ejemplo 1:\n",
            "Predicción: 5\n",
            "Valor real: 3\n",
            "\n",
            "Ejemplo 2:\n",
            "Predicción: 6\n",
            "Valor real: 6\n",
            "\n",
            "Ejemplo 3:\n",
            "Predicción: 0\n",
            "Valor real: 0\n",
            "\n",
            "Ejemplo 4:\n",
            "Predicción: 5\n",
            "Valor real: 5\n",
            "\n",
            "Ejemplo 5:\n",
            "Predicción: 1\n",
            "Valor real: 0\n",
            "\n"
          ]
        }
      ]
    },
    {
      "cell_type": "code",
      "source": [
        "import ipywidgets as widgets\n",
        "from IPython.display import display\n",
        "# Crear campos de entrada interactivos en Colab\n",
        "labels = [f'Característica {i+1}' for i in range(X_train.shape[1])]\n",
        "inputs = [widgets.FloatText(description=label, value=0.0) for label in labels]"
      ],
      "metadata": {
        "id": "eizmBaICgECt"
      },
      "execution_count": 38,
      "outputs": []
    },
    {
      "cell_type": "code",
      "source": [
        "# Función que se ejecuta al hacer clic en el botón de predicción\n",
        "def hacer_prediccion(b):\n",
        "    valores = np.array([entrada.value for entrada in inputs]).reshape(1, -1)\n",
        "\n",
        "    # Normalizar los valores ingresados\n",
        "    valores_norm = (valores - mu) / sigma\n",
        "\n",
        "    # Realizar la predicción usando el modelo One-vs-All\n",
        "    prediccion = predecir_one_vs_all(valores_norm, all_theta)\n",
        "\n",
        "    # Mostrar el resultado\n",
        "    resultado.value = f\"La predicción es: Clase {prediccion[0]}\""
      ],
      "metadata": {
        "id": "X2IPJM6KgG4c"
      },
      "execution_count": 39,
      "outputs": []
    },
    {
      "cell_type": "code",
      "source": [
        "# Crear botón de predicción\n",
        "boton = widgets.Button(description=\"Predecir\")\n",
        "boton.on_click(hacer_prediccion)\n",
        "\n",
        "# Crear un campo de salida para mostrar el resultado de la predicción\n",
        "resultado = widgets.Text(value='', description='Resultado', disabled=True)\n",
        "\n",
        "# Mostrar los campos de entrada y el botón\n",
        "display(*inputs, boton, resultado)"
      ],
      "metadata": {
        "colab": {
          "base_uri": "https://localhost:8080/",
          "height": 683,
          "referenced_widgets": [
            "f5a66d3c25754590828f31bb428cff03",
            "9d04aff5366d42fa963261ee8d75aa97",
            "d7f28c70d1ad4fce8fba770cf8399327",
            "b067906546ab40218d745106fb75d499",
            "01be994bde194920b8e1706ded1af4c5",
            "7221ca00f1684194a846b443a9f8d7d6",
            "1db88ce50fa74e5795813aa9bf16de5e",
            "86243d602caa47ae99d03057335b9f98",
            "abf9aa6016da49ed81a848899dfc81ea",
            "d804092a18d14a52b29f1a25d38dd9fd",
            "bc38a54d77e74b9781bae818002f7370",
            "a78d217228d74440966d90a501d0960b",
            "a234df19a9fe46ebae25a2689e2f19aa",
            "54f00b8667f74516a6424aaf461e08e6",
            "4712a9a492e3484eba7639b73c13f06b",
            "58ef5dfa30e249cea8615e1b52d8a0e3",
            "9b8a4ae74e90487c8431daa792fa538d",
            "b3d4d83c72984a0ab3dd13fb6592a933",
            "51e1231cba924cb7ba45883cf4d01bf5",
            "d177f2cee39645f8889b6ee638b9c72f",
            "85c1ef2df3a942bc8fa099c09ed6cc9f",
            "280f2b7681a74160bb04ff4f175a58f6",
            "5e5f539adf9444628c793f35546b3edb",
            "8d086d08fe3f41e2aa0ad0e56a7a3e92",
            "ab189e2652a64579bdfc0c664dc7104c",
            "4d816a5ffa0b4bb4adb9fe65bf3805d2",
            "7f6e917c8415493fad4ca9772fa348c2",
            "268e31f2ecc643f983326831d6ab1f1f",
            "92c87d607a7f441cb1181c3c455fc39e",
            "891e9360d04c4053946e4d14320169a7",
            "b3e55862405242bd93a21004ac6c637f",
            "bcd379b82e624b9cbb5969cc6f99bdeb",
            "2c6b5bc6b76245c09714aff5b17a2e87",
            "8dc2024c21f44b7a834e0ff9a578cea9",
            "cfd81e8d10da46e5b479a17d056de1bf",
            "d2a9158ee5f8439f9c4a6b3f9b7a898d",
            "53e7ca2692e24aa183dad9ea1d600455",
            "707657e8764a4d1883efe8031a81d96e",
            "9dea3d8617ef48ccb9db1a7107e1507b",
            "3af840e79e4d4f36aec14a1419c5f53d",
            "3c6287862c414008a52ae465ccce92b5",
            "ce28dc90f899492688028b88e5b2d579",
            "26ba580c7b9f4dcfbc5672ed750446f0",
            "b2b36a1627bc4e0990146e6d9b5d22a8",
            "37f1bf4484ba45c584dd539e409f6218",
            "b99a2af42ac2427493200481a19b51f9",
            "44224cf8254240fd9811f922e10c6a7a",
            "26490812990d4f1db9a83b350b174e83",
            "de07096257354cc3b827c602238f7ae1",
            "4db855c3fcf44249af9790d8af029087",
            "d3d87fd0870e4a12afa832b36e893009",
            "06d0f33953fb440b843467a02d2e994a",
            "ddd8f1f29e2d494c87d25606c1f0707f",
            "e30c8665e40c4c76a580349b78e8e8d0",
            "f65c9b2b0084450bb26c12f301d182db",
            "79ecb59378fc41fca659e1895a6ecfcf",
            "7df56515dfc2456491f1377d21819da8",
            "cf2d4c9ad9a448088545c2ba6692469d",
            "1c53ae7dd3c24e4199aa2a5213f0fb6e",
            "1a0a9d9148ed4336b5febaa59b6be9a4",
            "2032ec73a8a24182839d96ad07cd2f9d",
            "7b6f4fdd59304299a53989cba7cc3c14",
            "b4bf8d1e99464888aa660d49bfb97ceb",
            "67ba41343a22421597e9cc007a2c513e",
            "2a64e5d36e044e76a2ffb28884244c6b",
            "29ecf880544e4b709fd386738ddd7b80"
          ]
        },
        "id": "yI6B8vMFgI4s",
        "outputId": "0ecfce3c-f9db-48da-b95d-660e821d6bd7"
      },
      "execution_count": 40,
      "outputs": [
        {
          "output_type": "display_data",
          "data": {
            "text/plain": [
              "FloatText(value=0.0, description='Característica 1')"
            ],
            "application/vnd.jupyter.widget-view+json": {
              "version_major": 2,
              "version_minor": 0,
              "model_id": "f5a66d3c25754590828f31bb428cff03"
            }
          },
          "metadata": {}
        },
        {
          "output_type": "display_data",
          "data": {
            "text/plain": [
              "FloatText(value=0.0, description='Característica 2')"
            ],
            "application/vnd.jupyter.widget-view+json": {
              "version_major": 2,
              "version_minor": 0,
              "model_id": "b067906546ab40218d745106fb75d499"
            }
          },
          "metadata": {}
        },
        {
          "output_type": "display_data",
          "data": {
            "text/plain": [
              "FloatText(value=0.0, description='Característica 3')"
            ],
            "application/vnd.jupyter.widget-view+json": {
              "version_major": 2,
              "version_minor": 0,
              "model_id": "1db88ce50fa74e5795813aa9bf16de5e"
            }
          },
          "metadata": {}
        },
        {
          "output_type": "display_data",
          "data": {
            "text/plain": [
              "FloatText(value=0.0, description='Característica 4')"
            ],
            "application/vnd.jupyter.widget-view+json": {
              "version_major": 2,
              "version_minor": 0,
              "model_id": "d804092a18d14a52b29f1a25d38dd9fd"
            }
          },
          "metadata": {}
        },
        {
          "output_type": "display_data",
          "data": {
            "text/plain": [
              "FloatText(value=0.0, description='Característica 5')"
            ],
            "application/vnd.jupyter.widget-view+json": {
              "version_major": 2,
              "version_minor": 0,
              "model_id": "a234df19a9fe46ebae25a2689e2f19aa"
            }
          },
          "metadata": {}
        },
        {
          "output_type": "display_data",
          "data": {
            "text/plain": [
              "FloatText(value=0.0, description='Característica 6')"
            ],
            "application/vnd.jupyter.widget-view+json": {
              "version_major": 2,
              "version_minor": 0,
              "model_id": "58ef5dfa30e249cea8615e1b52d8a0e3"
            }
          },
          "metadata": {}
        },
        {
          "output_type": "display_data",
          "data": {
            "text/plain": [
              "FloatText(value=0.0, description='Característica 7')"
            ],
            "application/vnd.jupyter.widget-view+json": {
              "version_major": 2,
              "version_minor": 0,
              "model_id": "51e1231cba924cb7ba45883cf4d01bf5"
            }
          },
          "metadata": {}
        },
        {
          "output_type": "display_data",
          "data": {
            "text/plain": [
              "FloatText(value=0.0, description='Característica 8')"
            ],
            "application/vnd.jupyter.widget-view+json": {
              "version_major": 2,
              "version_minor": 0,
              "model_id": "280f2b7681a74160bb04ff4f175a58f6"
            }
          },
          "metadata": {}
        },
        {
          "output_type": "display_data",
          "data": {
            "text/plain": [
              "FloatText(value=0.0, description='Característica 9')"
            ],
            "application/vnd.jupyter.widget-view+json": {
              "version_major": 2,
              "version_minor": 0,
              "model_id": "ab189e2652a64579bdfc0c664dc7104c"
            }
          },
          "metadata": {}
        },
        {
          "output_type": "display_data",
          "data": {
            "text/plain": [
              "FloatText(value=0.0, description='Característica 10')"
            ],
            "application/vnd.jupyter.widget-view+json": {
              "version_major": 2,
              "version_minor": 0,
              "model_id": "268e31f2ecc643f983326831d6ab1f1f"
            }
          },
          "metadata": {}
        },
        {
          "output_type": "display_data",
          "data": {
            "text/plain": [
              "FloatText(value=0.0, description='Característica 11')"
            ],
            "application/vnd.jupyter.widget-view+json": {
              "version_major": 2,
              "version_minor": 0,
              "model_id": "b3e55862405242bd93a21004ac6c637f"
            }
          },
          "metadata": {}
        },
        {
          "output_type": "display_data",
          "data": {
            "text/plain": [
              "FloatText(value=0.0, description='Característica 12')"
            ],
            "application/vnd.jupyter.widget-view+json": {
              "version_major": 2,
              "version_minor": 0,
              "model_id": "8dc2024c21f44b7a834e0ff9a578cea9"
            }
          },
          "metadata": {}
        },
        {
          "output_type": "display_data",
          "data": {
            "text/plain": [
              "FloatText(value=0.0, description='Característica 13')"
            ],
            "application/vnd.jupyter.widget-view+json": {
              "version_major": 2,
              "version_minor": 0,
              "model_id": "53e7ca2692e24aa183dad9ea1d600455"
            }
          },
          "metadata": {}
        },
        {
          "output_type": "display_data",
          "data": {
            "text/plain": [
              "FloatText(value=0.0, description='Característica 14')"
            ],
            "application/vnd.jupyter.widget-view+json": {
              "version_major": 2,
              "version_minor": 0,
              "model_id": "3af840e79e4d4f36aec14a1419c5f53d"
            }
          },
          "metadata": {}
        },
        {
          "output_type": "display_data",
          "data": {
            "text/plain": [
              "FloatText(value=0.0, description='Característica 15')"
            ],
            "application/vnd.jupyter.widget-view+json": {
              "version_major": 2,
              "version_minor": 0,
              "model_id": "26ba580c7b9f4dcfbc5672ed750446f0"
            }
          },
          "metadata": {}
        },
        {
          "output_type": "display_data",
          "data": {
            "text/plain": [
              "FloatText(value=0.0, description='Característica 16')"
            ],
            "application/vnd.jupyter.widget-view+json": {
              "version_major": 2,
              "version_minor": 0,
              "model_id": "b99a2af42ac2427493200481a19b51f9"
            }
          },
          "metadata": {}
        },
        {
          "output_type": "display_data",
          "data": {
            "text/plain": [
              "FloatText(value=0.0, description='Característica 17')"
            ],
            "application/vnd.jupyter.widget-view+json": {
              "version_major": 2,
              "version_minor": 0,
              "model_id": "de07096257354cc3b827c602238f7ae1"
            }
          },
          "metadata": {}
        },
        {
          "output_type": "display_data",
          "data": {
            "text/plain": [
              "FloatText(value=0.0, description='Característica 18')"
            ],
            "application/vnd.jupyter.widget-view+json": {
              "version_major": 2,
              "version_minor": 0,
              "model_id": "06d0f33953fb440b843467a02d2e994a"
            }
          },
          "metadata": {}
        },
        {
          "output_type": "display_data",
          "data": {
            "text/plain": [
              "FloatText(value=0.0, description='Característica 19')"
            ],
            "application/vnd.jupyter.widget-view+json": {
              "version_major": 2,
              "version_minor": 0,
              "model_id": "f65c9b2b0084450bb26c12f301d182db"
            }
          },
          "metadata": {}
        },
        {
          "output_type": "display_data",
          "data": {
            "text/plain": [
              "FloatText(value=0.0, description='Característica 20')"
            ],
            "application/vnd.jupyter.widget-view+json": {
              "version_major": 2,
              "version_minor": 0,
              "model_id": "cf2d4c9ad9a448088545c2ba6692469d"
            }
          },
          "metadata": {}
        },
        {
          "output_type": "display_data",
          "data": {
            "text/plain": [
              "Button(description='Predecir', style=ButtonStyle())"
            ],
            "application/vnd.jupyter.widget-view+json": {
              "version_major": 2,
              "version_minor": 0,
              "model_id": "2032ec73a8a24182839d96ad07cd2f9d"
            }
          },
          "metadata": {}
        },
        {
          "output_type": "display_data",
          "data": {
            "text/plain": [
              "Text(value='', description='Resultado', disabled=True)"
            ],
            "application/vnd.jupyter.widget-view+json": {
              "version_major": 2,
              "version_minor": 0,
              "model_id": "67ba41343a22421597e9cc007a2c513e"
            }
          },
          "metadata": {}
        }
      ]
    }
  ]
}
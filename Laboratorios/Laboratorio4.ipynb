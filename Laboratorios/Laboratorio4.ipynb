{
  "nbformat": 4,
  "nbformat_minor": 0,
  "metadata": {
    "colab": {
      "provenance": []
    },
    "kernelspec": {
      "name": "python3",
      "display_name": "Python 3"
    },
    "language_info": {
      "name": "python"
    }
  },
  "cells": [
    {
      "cell_type": "markdown",
      "source": [
        "<h1>LABORATORIO 4 </h1>\n",
        "<h1>LOAIZA CORONADO RODRIGO JAIRO </h1>\n",
        "<h2>ING DE SISTEMAS</h2>"
      ],
      "metadata": {
        "id": "7aPcDYrAkNGX"
      }
    },
    {
      "cell_type": "code",
      "source": [
        "from google.colab import drive\n",
        "drive.mount('/content/drive')"
      ],
      "metadata": {
        "colab": {
          "base_uri": "https://localhost:8080/"
        },
        "id": "PJLoSr8xngO9",
        "outputId": "984ecd34-adf6-48d3-95f2-0cb05431700a"
      },
      "execution_count": 79,
      "outputs": [
        {
          "output_type": "stream",
          "name": "stdout",
          "text": [
            "Drive already mounted at /content/drive; to attempt to forcibly remount, call drive.mount(\"/content/drive\", force_remount=True).\n"
          ]
        }
      ]
    },
    {
      "cell_type": "code",
      "source": [
        "# Cálculo científico y vectorial para python\n",
        "import numpy as np\n",
        "\n",
        "# Libreria para graficos\n",
        "from matplotlib import pyplot\n",
        "\n",
        "# Modulo de optimizacion en scipy\n",
        "from scipy import optimize\n",
        "import pandas as pd\n",
        "\n",
        "from sklearn.model_selection import train_test_split"
      ],
      "metadata": {
        "id": "OCcQ2qVp1YEQ"
      },
      "execution_count": 80,
      "outputs": []
    },
    {
      "cell_type": "code",
      "source": [
        "# Cargar los datasets desde los archivos CSV\n",
        "file_path_features = '/content/drive/MyDrive/SIS420 Inteligencia Artificial/SegundoSemestre/Dataset/features_v1'\n",
        "file_path_target = '/content/drive/MyDrive/SIS420 Inteligencia Artificial/SegundoSemestre/Dataset/target'\n",
        "data = pd.read_csv(file_path_features, header=0)  # 'header=0' asegura que la primera fila sea tratada como cabeceras\n",
        "\n",
        "\n",
        "# Verificar que las cabeceras se hayan leído correctamente\n",
        "print(data.head())  # Esto mostrará las primeras filas del dataset junto con los nombres de las columnas\n",
        "\n",
        "# Eliminar la primera columna irrelevante\n",
        "data = data.iloc[:, 1:]\n",
        "\n",
        "# Cargar las clases (Y)\n",
        "target_data = pd.read_csv(file_path_target)\n",
        "y = target_data.iloc[:, -1]  # Solo la columna de clases (NObeyesdad)"
      ],
      "metadata": {
        "id": "Plkl7x7H2usZ",
        "colab": {
          "base_uri": "https://localhost:8080/"
        },
        "outputId": "cb566d56-ac5e-42ca-b98e-496724c75a1a"
      },
      "execution_count": 81,
      "outputs": [
        {
          "output_type": "stream",
          "name": "stdout",
          "text": [
            "   Unnamed: 0  Gender  family_history_with_overweight  FAVC  CAEC  SMOKE  SCC  \\\n",
            "0           0       0                               1     0     2      0    0   \n",
            "1           1       0                               1     0     2      1    1   \n",
            "2           2       1                               1     0     2      0    0   \n",
            "3           3       1                               0     0     2      0    0   \n",
            "4           4       1                               0     0     2      0    0   \n",
            "\n",
            "   CALC  MTRANS       Age    Height    Weight  FCVC       NCP  CH2O       FAF  \\\n",
            "0     3       3  0.148936  0.320755  0.186567   0.5  0.666667   0.5  0.000000   \n",
            "1     2       3  0.148936  0.132075  0.126866   1.0  0.666667   1.0  1.000000   \n",
            "2     1       3  0.191489  0.660377  0.283582   0.5  0.666667   0.5  0.666667   \n",
            "3     1       4  0.276596  0.660377  0.358209   1.0  0.666667   0.5  0.666667   \n",
            "4     2       3  0.170213  0.622642  0.379104   0.5  0.000000   0.5  0.000000   \n",
            "\n",
            "   TUE        BMI  \n",
            "0  0.5  24.386526  \n",
            "1  0.0  24.238227  \n",
            "2  0.5  23.765432  \n",
            "3  0.0  26.851852  \n",
            "4  0.0  28.342381  \n"
          ]
        }
      ]
    },
    {
      "cell_type": "code",
      "source": [
        "X = data\n",
        "# Verificar si existen valores nulos\n",
        "print(\"Valores nulos en el dataset:\\n\", data.isnull().sum())\n",
        "# Verifica la estructura de X y y\n",
        "print(f'X shape: {X.shape}')\n",
        "print(f'y shape: {y.shape}')\n",
        "m = y.size"
      ],
      "metadata": {
        "colab": {
          "base_uri": "https://localhost:8080/"
        },
        "id": "pOkKNiKe78fq",
        "outputId": "387ebdcd-5194-4e10-9aed-cb4d933cedf3"
      },
      "execution_count": 82,
      "outputs": [
        {
          "output_type": "stream",
          "name": "stdout",
          "text": [
            "Valores nulos en el dataset:\n",
            " Gender                            0\n",
            "family_history_with_overweight    0\n",
            "FAVC                              0\n",
            "CAEC                              0\n",
            "SMOKE                             0\n",
            "SCC                               0\n",
            "CALC                              0\n",
            "MTRANS                            0\n",
            "Age                               0\n",
            "Height                            0\n",
            "Weight                            0\n",
            "FCVC                              0\n",
            "NCP                               0\n",
            "CH2O                              0\n",
            "FAF                               0\n",
            "TUE                               0\n",
            "BMI                               0\n",
            "dtype: int64\n",
            "X shape: (22869, 17)\n",
            "y shape: (22869,)\n"
          ]
        }
      ]
    },
    {
      "cell_type": "code",
      "source": [
        "# Calcular el conteo de cada clase\n",
        "clases, conteo = np.unique(y, return_counts=True)\n",
        "\n",
        "# Imprimir el conteo de cada clase\n",
        "for clase, count in zip(clases, conteo):\n",
        "    print(f\"Clase {int(clase)}: {count} ejemplos\")"
      ],
      "metadata": {
        "colab": {
          "base_uri": "https://localhost:8080/"
        },
        "id": "CSY1POhe8JfI",
        "outputId": "0cab3e7e-57df-41bf-e360-51b2a9dd5dbf"
      },
      "execution_count": 83,
      "outputs": [
        {
          "output_type": "stream",
          "name": "stdout",
          "text": [
            "Clase 0: 2795 ejemplos\n",
            "Clase 1: 3369 ejemplos\n",
            "Clase 2: 2717 ejemplos\n",
            "Clase 3: 2812 ejemplos\n",
            "Clase 4: 3261 ejemplos\n",
            "Clase 5: 3545 ejemplos\n",
            "Clase 6: 4370 ejemplos\n"
          ]
        }
      ]
    },
    {
      "cell_type": "code",
      "source": [
        "def  featureNormalize(X):\n",
        "    X_norm = X.copy()\n",
        "    mu = np.zeros(X.shape[1])\n",
        "    sigma = np.zeros(X.shape[1])\n",
        "\n",
        "    mu = np.mean(X, axis = 0)\n",
        "    sigma = np.std(X, axis = 0)\n",
        "    X_norm = (X - mu) / sigma\n",
        "\n",
        "    return X_norm, mu, sigma"
      ],
      "metadata": {
        "id": "1RtCwnG98rs6"
      },
      "execution_count": 84,
      "outputs": []
    },
    {
      "cell_type": "code",
      "source": [
        "# llama featureNormalize con los datos cargados\n",
        "X_norm, mu, sigma = featureNormalize(X)"
      ],
      "metadata": {
        "id": "89LbL3hw8weR"
      },
      "execution_count": 85,
      "outputs": []
    },
    {
      "cell_type": "code",
      "source": [
        "def sigmoid(z):\n",
        "    \"\"\"\n",
        "    Calcula la sigmoide de z.\n",
        "    \"\"\"\n",
        "    return 1.0 / (1.0 + np.exp(-z))"
      ],
      "metadata": {
        "id": "EMa3rtUY92Zy"
      },
      "execution_count": 86,
      "outputs": []
    },
    {
      "cell_type": "code",
      "source": [
        "def CostFunction(theta, X, y, lambda_):\n",
        "    m = y.size\n",
        "    if y.dtype == bool:\n",
        "        y = y.astype(int)\n",
        "\n",
        "    J = 0\n",
        "    grad = np.zeros(theta.shape)\n",
        "\n",
        "    h = sigmoid(X.dot(theta.T))\n",
        "\n",
        "    temp = theta\n",
        "    temp[0] = 0\n",
        "\n",
        "    J = (1 / m) * np.sum(-y.dot(np.log(h)) - (1 - y).dot(np.log(1 - h))) + (lambda_ / (2 * m)) * np.sum(np.square(temp))\n",
        "\n",
        "    grad = (1 / m) * (h - y).dot(X)\n",
        "    grad = grad + (lambda_ / m) * temp\n",
        "\n",
        "    return J, grad"
      ],
      "metadata": {
        "id": "Fd1kkXQL99Ki"
      },
      "execution_count": 87,
      "outputs": []
    },
    {
      "cell_type": "code",
      "source": [
        "def oneVsAll(X, y, num_labels, lambda_):\n",
        "    m, n = X.shape\n",
        "    all_theta = np.zeros((num_labels, n))\n",
        "    for c in np.arange(num_labels):\n",
        "        initial_theta = np.zeros(n)\n",
        "        res = optimize.minimize(fun=CostFunction,\n",
        "                                x0=initial_theta,\n",
        "                                args=(X, (y == c).astype(int), lambda_),\n",
        "                                method='CG',\n",
        "                                jac=True,\n",
        "                                options={'maxiter': 50})\n",
        "        all_theta[c] = res.x\n",
        "    return all_theta"
      ],
      "metadata": {
        "id": "78AyQaDS-anL"
      },
      "execution_count": 88,
      "outputs": []
    },
    {
      "cell_type": "code",
      "source": [
        "def predictOneVsAll(all_theta, X):\n",
        "    return np.argmax(sigmoid(X.dot(all_theta.T)), axis=1)\n",
        "\n",
        "# Agregar la columna de unos a X_normalizado\n",
        "X_with_intercept = np.concatenate([np.ones((X_norm.shape[0], 1)), X_norm], axis=1)\n",
        "\n",
        "# Entrenar el modelo\n",
        "num_labels = 7\n",
        "lambda_ = 0.1\n",
        "all_theta = oneVsAll(X_with_intercept, y, num_labels, lambda_)\n",
        "\n",
        "# Realizar predicciones\n",
        "y_pred = predictOneVsAll(all_theta, X_with_intercept)\n",
        "\n",
        "# Calcular la precisión\n",
        "accuracy = np.mean(y_pred == y) * 100\n",
        "print(f'Precisión del modelo One-vs-All: {accuracy:.2f}%')"
      ],
      "metadata": {
        "id": "Vm6okGmA_-cT",
        "colab": {
          "base_uri": "https://localhost:8080/"
        },
        "outputId": "32851b16-9922-40c0-c5a5-021d51933a22"
      },
      "execution_count": 90,
      "outputs": [
        {
          "output_type": "stream",
          "name": "stdout",
          "text": [
            "Precisión del modelo One-vs-All: 76.01%\n"
          ]
        }
      ]
    },
    {
      "cell_type": "code",
      "source": [
        "# Dividir los datos en conjuntos de entrenamiento (80%) y prueba (20%)\n",
        "X_train, X_test, y_train, y_test = train_test_split(X, y, test_size=0.2, random_state=42)\n",
        "\n",
        "# Normalizar las características en el conjunto de entrenamiento\n",
        "X_train_norm, mu, sigma = featureNormalize(X_train)"
      ],
      "metadata": {
        "id": "jukDYrvkO-se"
      },
      "execution_count": 91,
      "outputs": []
    },
    {
      "cell_type": "code",
      "source": [
        "# Normalizar el conjunto de prueba usando los mismos parámetros (mu, sigma) del conjunto de entrenamiento\n",
        "X_test_norm = (X_test - mu) / sigma"
      ],
      "metadata": {
        "id": "6bDbaBWsalvH"
      },
      "execution_count": 92,
      "outputs": []
    },
    {
      "cell_type": "code",
      "source": [
        "# Agregar la columna de unos (término de intercepción) para el conjunto de entrenamiento y prueba\n",
        "X_train_with_intercept = np.concatenate([np.ones((X_train_norm.shape[0], 1)), X_train_norm], axis=1)\n",
        "X_test_with_intercept = np.concatenate([np.ones((X_test_norm.shape[0], 1)), X_test_norm], axis=1)\n"
      ],
      "metadata": {
        "id": "mKZRgjHoauff"
      },
      "execution_count": 93,
      "outputs": []
    },
    {
      "cell_type": "code",
      "source": [
        "# Entrenar el modelo con el conjunto de entrenamiento\n",
        "all_theta = oneVsAll(X_train_with_intercept, y_train, num_labels, lambda_)\n",
        "\n",
        "# Hacer predicciones en el conjunto de prueba\n",
        "y_pred = predictOneVsAll(all_theta, X_test_with_intercept)"
      ],
      "metadata": {
        "id": "vE8abeLQbB1v"
      },
      "execution_count": 94,
      "outputs": []
    },
    {
      "cell_type": "code",
      "source": [
        "# Predicción para el conjunto de entrenamiento\n",
        "y_pred_train = predictOneVsAll(all_theta, X_train_with_intercept)\n",
        "train_accuracy = np.mean(y_pred_train == y_train) * 100\n",
        "print(f'Precisión en el conjunto de entrenamiento: {train_accuracy:.2f}%')\n",
        "\n",
        "# Predicción para el conjunto de prueba\n",
        "y_pred_test = predictOneVsAll(all_theta, X_test_with_intercept)\n",
        "test_accuracy = np.mean(y_pred_test == y_test) * 100\n",
        "print(f'Precisión en el conjunto de prueba: {test_accuracy:.2f}%')\n"
      ],
      "metadata": {
        "colab": {
          "base_uri": "https://localhost:8080/"
        },
        "id": "qDbNYRd5eRxS",
        "outputId": "636d79da-3bb7-4c6f-aa98-24f653c834dc"
      },
      "execution_count": 102,
      "outputs": [
        {
          "output_type": "stream",
          "name": "stdout",
          "text": [
            "Precisión en el conjunto de entrenamiento: 76.11%\n",
            "Precisión en el conjunto de prueba: 76.15%\n"
          ]
        }
      ]
    },
    {
      "cell_type": "code",
      "source": [
        "# Calcular la precisión en el conjunto de prueba\n",
        "accuracy = np.mean(y_pred == y_test) * 100\n",
        "print(f'Precisión en el conjunto de prueba: {accuracy:.2f}%')"
      ],
      "metadata": {
        "colab": {
          "base_uri": "https://localhost:8080/"
        },
        "id": "kHK26nx4bEgv",
        "outputId": "a81f589c-cb91-4911-a197-663b176c5ba7"
      },
      "execution_count": 97,
      "outputs": [
        {
          "output_type": "stream",
          "name": "stdout",
          "text": [
            "Precisión en el conjunto de prueba: 76.15%\n"
          ]
        }
      ]
    },
    {
      "cell_type": "code",
      "source": [
        "# Comparar algunas predicciones con los valores reales (seleccionar los primeros 10 ejemplos)\n",
        "n_muestras = 10\n",
        "print(\"\\nComparación de predicciones y valores reales (primeras 10 muestras):\")\n",
        "for i in range(n_muestras):\n",
        "    print(f\"Predicción: {y_pred[i]}, Valor real: {y_test.iloc[i]}\")\n",
        "\n",
        "# Mostrar las primeras 10 predicciones y valores reales\n",
        "df_comparacion = pd.DataFrame({'Predicción': y_pred[:n_muestras], 'Valor real': y_test.iloc[:n_muestras]})\n",
        "print(df_comparacion)"
      ],
      "metadata": {
        "colab": {
          "base_uri": "https://localhost:8080/"
        },
        "id": "WIvUvhNpdJiB",
        "outputId": "e5bb4244-7512-4afa-8430-07b70359cb2d"
      },
      "execution_count": 98,
      "outputs": [
        {
          "output_type": "stream",
          "name": "stdout",
          "text": [
            "\n",
            "Comparación de predicciones y valores reales (primeras 10 muestras):\n",
            "Predicción: 6, Valor real: 6\n",
            "Predicción: 5, Valor real: 5\n",
            "Predicción: 3, Valor real: 3\n",
            "Predicción: 4, Valor real: 4\n",
            "Predicción: 5, Valor real: 5\n",
            "Predicción: 3, Valor real: 1\n",
            "Predicción: 6, Valor real: 6\n",
            "Predicción: 2, Valor real: 3\n",
            "Predicción: 3, Valor real: 3\n",
            "Predicción: 0, Valor real: 0\n",
            "       Predicción  Valor real\n",
            "9123            6           6\n",
            "18200           5           5\n",
            "11206           3           3\n",
            "16463           4           4\n",
            "9303            5           5\n",
            "16326           3           1\n",
            "3502            6           6\n",
            "19228           2           3\n",
            "1063            3           3\n",
            "7660            0           0\n"
          ]
        }
      ]
    }
  ]
}
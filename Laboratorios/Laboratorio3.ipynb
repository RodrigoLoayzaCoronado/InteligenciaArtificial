{
  "nbformat": 4,
  "nbformat_minor": 0,
  "metadata": {
    "colab": {
      "provenance": []
    },
    "kernelspec": {
      "name": "python3",
      "display_name": "Python 3"
    },
    "language_info": {
      "name": "python"
    }
  },
  "cells": [
    {
      "cell_type": "markdown",
      "source": [
        "<h1> LABORATORIO 2 </h1>\n",
        "<h2> Rodrigo Jairo Loaiza Coronado.   ING DE SISTEMAS </h2>\n",
        "<h2> Bryan Daniel Martinez Cabezas.   CIENCIAS DE LA COMPUTACIÓN</h2>\n",
        "\n"
      ],
      "metadata": {
        "id": "kSGHi9RD3Xvw"
      }
    },
    {
      "cell_type": "code",
      "execution_count": 1,
      "metadata": {
        "id": "9sZyvzUw3Kzr"
      },
      "outputs": [],
      "source": [
        "import os\n",
        "\n",
        "# Computacion vectorial y cientifica para python\n",
        "import numpy as np\n",
        "\n",
        "#importamos pandas para el manejo del dataset, y separarlos dentro de una matriz\n",
        "import pandas as pd\n",
        "\n",
        "#esta tabulate nos sirve para hacer tablas\n",
        "from tabulate import tabulate\n",
        "\n",
        "# Librerias para graficación (trazado de gráficos)\n",
        "from matplotlib import pyplot\n",
        "from mpl_toolkits.mplot3d import Axes3D  # -> Necesario para graficar superficies 3D\n",
        "\n",
        "#Para separa el 20% y 80%\n",
        "from sklearn.model_selection import train_test_split\n",
        "\n",
        "# llama a matplotlib a embeber graficas dentro de los cuadernillos\n",
        "%matplotlib inline"
      ]
    },
    {
      "cell_type": "markdown",
      "source": [],
      "metadata": {
        "id": "PCVKLXOo3UJs"
      }
    },
    {
      "cell_type": "code",
      "source": [
        "#Importamos los datos desde el drive\n",
        "from google.colab import drive\n",
        "drive.mount('/content/drive')"
      ],
      "metadata": {
        "colab": {
          "base_uri": "https://localhost:8080/"
        },
        "id": "VWq-MRej4YGw",
        "outputId": "66f632db-61cf-4614-b7ae-64183ce5ee52"
      },
      "execution_count": 2,
      "outputs": [
        {
          "output_type": "stream",
          "name": "stdout",
          "text": [
            "Mounted at /content/drive\n"
          ]
        }
      ]
    },
    {
      "cell_type": "code",
      "source": [
        "# libreria pandas para leer el dataset.\n",
        "dataset = pd.read_csv('/content/drive/MyDrive/SIS420 Inteligencia Artificial/SegundoSemestre/Dataset/telecom_churn.csv', delimiter=',')\n",
        "\n",
        "#Imprimimos el dataset.\n",
        "dataset"
      ],
      "metadata": {
        "colab": {
          "base_uri": "https://localhost:8080/",
          "height": 424
        },
        "id": "67MDfAkb47iv",
        "outputId": "4817bb80-49de-41e8-c6e1-d3d248ecf834"
      },
      "execution_count": 11,
      "outputs": [
        {
          "output_type": "execute_result",
          "data": {
            "text/plain": [
              "      Churn  AccountWeeks  ContractRenewal  DataPlan  DataUsage  \\\n",
              "0         0           128                1         1       2.70   \n",
              "1         0           107                1         1       3.70   \n",
              "2         0           137                1         0       0.00   \n",
              "3         0            84                0         0       0.00   \n",
              "4         0            75                0         0       0.00   \n",
              "...     ...           ...              ...       ...        ...   \n",
              "3328      0           192                1         1       2.67   \n",
              "3329      0            68                1         0       0.34   \n",
              "3330      0            28                1         0       0.00   \n",
              "3331      0           184                0         0       0.00   \n",
              "3332      0            74                1         1       3.70   \n",
              "\n",
              "      CustServCalls  DayMins  DayCalls  MonthlyCharge  OverageFee  RoamMins  \n",
              "0                 1    265.1       110           89.0        9.87      10.0  \n",
              "1                 1    161.6       123           82.0        9.78      13.7  \n",
              "2                 0    243.4       114           52.0        6.06      12.2  \n",
              "3                 2    299.4        71           57.0        3.10       6.6  \n",
              "4                 3    166.7       113           41.0        7.42      10.1  \n",
              "...             ...      ...       ...            ...         ...       ...  \n",
              "3328              2    156.2        77           71.7       10.78       9.9  \n",
              "3329              3    231.1        57           56.4        7.67       9.6  \n",
              "3330              2    180.8       109           56.0       14.44      14.1  \n",
              "3331              2    213.8       105           50.0        7.98       5.0  \n",
              "3332              0    234.4       113          100.0       13.30      13.7  \n",
              "\n",
              "[3333 rows x 11 columns]"
            ],
            "text/html": [
              "\n",
              "  <div id=\"df-b7f1ea9c-4c8e-46b1-8478-7f29741cc3f2\" class=\"colab-df-container\">\n",
              "    <div>\n",
              "<style scoped>\n",
              "    .dataframe tbody tr th:only-of-type {\n",
              "        vertical-align: middle;\n",
              "    }\n",
              "\n",
              "    .dataframe tbody tr th {\n",
              "        vertical-align: top;\n",
              "    }\n",
              "\n",
              "    .dataframe thead th {\n",
              "        text-align: right;\n",
              "    }\n",
              "</style>\n",
              "<table border=\"1\" class=\"dataframe\">\n",
              "  <thead>\n",
              "    <tr style=\"text-align: right;\">\n",
              "      <th></th>\n",
              "      <th>Churn</th>\n",
              "      <th>AccountWeeks</th>\n",
              "      <th>ContractRenewal</th>\n",
              "      <th>DataPlan</th>\n",
              "      <th>DataUsage</th>\n",
              "      <th>CustServCalls</th>\n",
              "      <th>DayMins</th>\n",
              "      <th>DayCalls</th>\n",
              "      <th>MonthlyCharge</th>\n",
              "      <th>OverageFee</th>\n",
              "      <th>RoamMins</th>\n",
              "    </tr>\n",
              "  </thead>\n",
              "  <tbody>\n",
              "    <tr>\n",
              "      <th>0</th>\n",
              "      <td>0</td>\n",
              "      <td>128</td>\n",
              "      <td>1</td>\n",
              "      <td>1</td>\n",
              "      <td>2.70</td>\n",
              "      <td>1</td>\n",
              "      <td>265.1</td>\n",
              "      <td>110</td>\n",
              "      <td>89.0</td>\n",
              "      <td>9.87</td>\n",
              "      <td>10.0</td>\n",
              "    </tr>\n",
              "    <tr>\n",
              "      <th>1</th>\n",
              "      <td>0</td>\n",
              "      <td>107</td>\n",
              "      <td>1</td>\n",
              "      <td>1</td>\n",
              "      <td>3.70</td>\n",
              "      <td>1</td>\n",
              "      <td>161.6</td>\n",
              "      <td>123</td>\n",
              "      <td>82.0</td>\n",
              "      <td>9.78</td>\n",
              "      <td>13.7</td>\n",
              "    </tr>\n",
              "    <tr>\n",
              "      <th>2</th>\n",
              "      <td>0</td>\n",
              "      <td>137</td>\n",
              "      <td>1</td>\n",
              "      <td>0</td>\n",
              "      <td>0.00</td>\n",
              "      <td>0</td>\n",
              "      <td>243.4</td>\n",
              "      <td>114</td>\n",
              "      <td>52.0</td>\n",
              "      <td>6.06</td>\n",
              "      <td>12.2</td>\n",
              "    </tr>\n",
              "    <tr>\n",
              "      <th>3</th>\n",
              "      <td>0</td>\n",
              "      <td>84</td>\n",
              "      <td>0</td>\n",
              "      <td>0</td>\n",
              "      <td>0.00</td>\n",
              "      <td>2</td>\n",
              "      <td>299.4</td>\n",
              "      <td>71</td>\n",
              "      <td>57.0</td>\n",
              "      <td>3.10</td>\n",
              "      <td>6.6</td>\n",
              "    </tr>\n",
              "    <tr>\n",
              "      <th>4</th>\n",
              "      <td>0</td>\n",
              "      <td>75</td>\n",
              "      <td>0</td>\n",
              "      <td>0</td>\n",
              "      <td>0.00</td>\n",
              "      <td>3</td>\n",
              "      <td>166.7</td>\n",
              "      <td>113</td>\n",
              "      <td>41.0</td>\n",
              "      <td>7.42</td>\n",
              "      <td>10.1</td>\n",
              "    </tr>\n",
              "    <tr>\n",
              "      <th>...</th>\n",
              "      <td>...</td>\n",
              "      <td>...</td>\n",
              "      <td>...</td>\n",
              "      <td>...</td>\n",
              "      <td>...</td>\n",
              "      <td>...</td>\n",
              "      <td>...</td>\n",
              "      <td>...</td>\n",
              "      <td>...</td>\n",
              "      <td>...</td>\n",
              "      <td>...</td>\n",
              "    </tr>\n",
              "    <tr>\n",
              "      <th>3328</th>\n",
              "      <td>0</td>\n",
              "      <td>192</td>\n",
              "      <td>1</td>\n",
              "      <td>1</td>\n",
              "      <td>2.67</td>\n",
              "      <td>2</td>\n",
              "      <td>156.2</td>\n",
              "      <td>77</td>\n",
              "      <td>71.7</td>\n",
              "      <td>10.78</td>\n",
              "      <td>9.9</td>\n",
              "    </tr>\n",
              "    <tr>\n",
              "      <th>3329</th>\n",
              "      <td>0</td>\n",
              "      <td>68</td>\n",
              "      <td>1</td>\n",
              "      <td>0</td>\n",
              "      <td>0.34</td>\n",
              "      <td>3</td>\n",
              "      <td>231.1</td>\n",
              "      <td>57</td>\n",
              "      <td>56.4</td>\n",
              "      <td>7.67</td>\n",
              "      <td>9.6</td>\n",
              "    </tr>\n",
              "    <tr>\n",
              "      <th>3330</th>\n",
              "      <td>0</td>\n",
              "      <td>28</td>\n",
              "      <td>1</td>\n",
              "      <td>0</td>\n",
              "      <td>0.00</td>\n",
              "      <td>2</td>\n",
              "      <td>180.8</td>\n",
              "      <td>109</td>\n",
              "      <td>56.0</td>\n",
              "      <td>14.44</td>\n",
              "      <td>14.1</td>\n",
              "    </tr>\n",
              "    <tr>\n",
              "      <th>3331</th>\n",
              "      <td>0</td>\n",
              "      <td>184</td>\n",
              "      <td>0</td>\n",
              "      <td>0</td>\n",
              "      <td>0.00</td>\n",
              "      <td>2</td>\n",
              "      <td>213.8</td>\n",
              "      <td>105</td>\n",
              "      <td>50.0</td>\n",
              "      <td>7.98</td>\n",
              "      <td>5.0</td>\n",
              "    </tr>\n",
              "    <tr>\n",
              "      <th>3332</th>\n",
              "      <td>0</td>\n",
              "      <td>74</td>\n",
              "      <td>1</td>\n",
              "      <td>1</td>\n",
              "      <td>3.70</td>\n",
              "      <td>0</td>\n",
              "      <td>234.4</td>\n",
              "      <td>113</td>\n",
              "      <td>100.0</td>\n",
              "      <td>13.30</td>\n",
              "      <td>13.7</td>\n",
              "    </tr>\n",
              "  </tbody>\n",
              "</table>\n",
              "<p>3333 rows × 11 columns</p>\n",
              "</div>\n",
              "    <div class=\"colab-df-buttons\">\n",
              "\n",
              "  <div class=\"colab-df-container\">\n",
              "    <button class=\"colab-df-convert\" onclick=\"convertToInteractive('df-b7f1ea9c-4c8e-46b1-8478-7f29741cc3f2')\"\n",
              "            title=\"Convert this dataframe to an interactive table.\"\n",
              "            style=\"display:none;\">\n",
              "\n",
              "  <svg xmlns=\"http://www.w3.org/2000/svg\" height=\"24px\" viewBox=\"0 -960 960 960\">\n",
              "    <path d=\"M120-120v-720h720v720H120Zm60-500h600v-160H180v160Zm220 220h160v-160H400v160Zm0 220h160v-160H400v160ZM180-400h160v-160H180v160Zm440 0h160v-160H620v160ZM180-180h160v-160H180v160Zm440 0h160v-160H620v160Z\"/>\n",
              "  </svg>\n",
              "    </button>\n",
              "\n",
              "  <style>\n",
              "    .colab-df-container {\n",
              "      display:flex;\n",
              "      gap: 12px;\n",
              "    }\n",
              "\n",
              "    .colab-df-convert {\n",
              "      background-color: #E8F0FE;\n",
              "      border: none;\n",
              "      border-radius: 50%;\n",
              "      cursor: pointer;\n",
              "      display: none;\n",
              "      fill: #1967D2;\n",
              "      height: 32px;\n",
              "      padding: 0 0 0 0;\n",
              "      width: 32px;\n",
              "    }\n",
              "\n",
              "    .colab-df-convert:hover {\n",
              "      background-color: #E2EBFA;\n",
              "      box-shadow: 0px 1px 2px rgba(60, 64, 67, 0.3), 0px 1px 3px 1px rgba(60, 64, 67, 0.15);\n",
              "      fill: #174EA6;\n",
              "    }\n",
              "\n",
              "    .colab-df-buttons div {\n",
              "      margin-bottom: 4px;\n",
              "    }\n",
              "\n",
              "    [theme=dark] .colab-df-convert {\n",
              "      background-color: #3B4455;\n",
              "      fill: #D2E3FC;\n",
              "    }\n",
              "\n",
              "    [theme=dark] .colab-df-convert:hover {\n",
              "      background-color: #434B5C;\n",
              "      box-shadow: 0px 1px 3px 1px rgba(0, 0, 0, 0.15);\n",
              "      filter: drop-shadow(0px 1px 2px rgba(0, 0, 0, 0.3));\n",
              "      fill: #FFFFFF;\n",
              "    }\n",
              "  </style>\n",
              "\n",
              "    <script>\n",
              "      const buttonEl =\n",
              "        document.querySelector('#df-b7f1ea9c-4c8e-46b1-8478-7f29741cc3f2 button.colab-df-convert');\n",
              "      buttonEl.style.display =\n",
              "        google.colab.kernel.accessAllowed ? 'block' : 'none';\n",
              "\n",
              "      async function convertToInteractive(key) {\n",
              "        const element = document.querySelector('#df-b7f1ea9c-4c8e-46b1-8478-7f29741cc3f2');\n",
              "        const dataTable =\n",
              "          await google.colab.kernel.invokeFunction('convertToInteractive',\n",
              "                                                    [key], {});\n",
              "        if (!dataTable) return;\n",
              "\n",
              "        const docLinkHtml = 'Like what you see? Visit the ' +\n",
              "          '<a target=\"_blank\" href=https://colab.research.google.com/notebooks/data_table.ipynb>data table notebook</a>'\n",
              "          + ' to learn more about interactive tables.';\n",
              "        element.innerHTML = '';\n",
              "        dataTable['output_type'] = 'display_data';\n",
              "        await google.colab.output.renderOutput(dataTable, element);\n",
              "        const docLink = document.createElement('div');\n",
              "        docLink.innerHTML = docLinkHtml;\n",
              "        element.appendChild(docLink);\n",
              "      }\n",
              "    </script>\n",
              "  </div>\n",
              "\n",
              "\n",
              "<div id=\"df-9acfff29-b563-4cbe-99ef-7a30b77b27e8\">\n",
              "  <button class=\"colab-df-quickchart\" onclick=\"quickchart('df-9acfff29-b563-4cbe-99ef-7a30b77b27e8')\"\n",
              "            title=\"Suggest charts\"\n",
              "            style=\"display:none;\">\n",
              "\n",
              "<svg xmlns=\"http://www.w3.org/2000/svg\" height=\"24px\"viewBox=\"0 0 24 24\"\n",
              "     width=\"24px\">\n",
              "    <g>\n",
              "        <path d=\"M19 3H5c-1.1 0-2 .9-2 2v14c0 1.1.9 2 2 2h14c1.1 0 2-.9 2-2V5c0-1.1-.9-2-2-2zM9 17H7v-7h2v7zm4 0h-2V7h2v10zm4 0h-2v-4h2v4z\"/>\n",
              "    </g>\n",
              "</svg>\n",
              "  </button>\n",
              "\n",
              "<style>\n",
              "  .colab-df-quickchart {\n",
              "      --bg-color: #E8F0FE;\n",
              "      --fill-color: #1967D2;\n",
              "      --hover-bg-color: #E2EBFA;\n",
              "      --hover-fill-color: #174EA6;\n",
              "      --disabled-fill-color: #AAA;\n",
              "      --disabled-bg-color: #DDD;\n",
              "  }\n",
              "\n",
              "  [theme=dark] .colab-df-quickchart {\n",
              "      --bg-color: #3B4455;\n",
              "      --fill-color: #D2E3FC;\n",
              "      --hover-bg-color: #434B5C;\n",
              "      --hover-fill-color: #FFFFFF;\n",
              "      --disabled-bg-color: #3B4455;\n",
              "      --disabled-fill-color: #666;\n",
              "  }\n",
              "\n",
              "  .colab-df-quickchart {\n",
              "    background-color: var(--bg-color);\n",
              "    border: none;\n",
              "    border-radius: 50%;\n",
              "    cursor: pointer;\n",
              "    display: none;\n",
              "    fill: var(--fill-color);\n",
              "    height: 32px;\n",
              "    padding: 0;\n",
              "    width: 32px;\n",
              "  }\n",
              "\n",
              "  .colab-df-quickchart:hover {\n",
              "    background-color: var(--hover-bg-color);\n",
              "    box-shadow: 0 1px 2px rgba(60, 64, 67, 0.3), 0 1px 3px 1px rgba(60, 64, 67, 0.15);\n",
              "    fill: var(--button-hover-fill-color);\n",
              "  }\n",
              "\n",
              "  .colab-df-quickchart-complete:disabled,\n",
              "  .colab-df-quickchart-complete:disabled:hover {\n",
              "    background-color: var(--disabled-bg-color);\n",
              "    fill: var(--disabled-fill-color);\n",
              "    box-shadow: none;\n",
              "  }\n",
              "\n",
              "  .colab-df-spinner {\n",
              "    border: 2px solid var(--fill-color);\n",
              "    border-color: transparent;\n",
              "    border-bottom-color: var(--fill-color);\n",
              "    animation:\n",
              "      spin 1s steps(1) infinite;\n",
              "  }\n",
              "\n",
              "  @keyframes spin {\n",
              "    0% {\n",
              "      border-color: transparent;\n",
              "      border-bottom-color: var(--fill-color);\n",
              "      border-left-color: var(--fill-color);\n",
              "    }\n",
              "    20% {\n",
              "      border-color: transparent;\n",
              "      border-left-color: var(--fill-color);\n",
              "      border-top-color: var(--fill-color);\n",
              "    }\n",
              "    30% {\n",
              "      border-color: transparent;\n",
              "      border-left-color: var(--fill-color);\n",
              "      border-top-color: var(--fill-color);\n",
              "      border-right-color: var(--fill-color);\n",
              "    }\n",
              "    40% {\n",
              "      border-color: transparent;\n",
              "      border-right-color: var(--fill-color);\n",
              "      border-top-color: var(--fill-color);\n",
              "    }\n",
              "    60% {\n",
              "      border-color: transparent;\n",
              "      border-right-color: var(--fill-color);\n",
              "    }\n",
              "    80% {\n",
              "      border-color: transparent;\n",
              "      border-right-color: var(--fill-color);\n",
              "      border-bottom-color: var(--fill-color);\n",
              "    }\n",
              "    90% {\n",
              "      border-color: transparent;\n",
              "      border-bottom-color: var(--fill-color);\n",
              "    }\n",
              "  }\n",
              "</style>\n",
              "\n",
              "  <script>\n",
              "    async function quickchart(key) {\n",
              "      const quickchartButtonEl =\n",
              "        document.querySelector('#' + key + ' button');\n",
              "      quickchartButtonEl.disabled = true;  // To prevent multiple clicks.\n",
              "      quickchartButtonEl.classList.add('colab-df-spinner');\n",
              "      try {\n",
              "        const charts = await google.colab.kernel.invokeFunction(\n",
              "            'suggestCharts', [key], {});\n",
              "      } catch (error) {\n",
              "        console.error('Error during call to suggestCharts:', error);\n",
              "      }\n",
              "      quickchartButtonEl.classList.remove('colab-df-spinner');\n",
              "      quickchartButtonEl.classList.add('colab-df-quickchart-complete');\n",
              "    }\n",
              "    (() => {\n",
              "      let quickchartButtonEl =\n",
              "        document.querySelector('#df-9acfff29-b563-4cbe-99ef-7a30b77b27e8 button');\n",
              "      quickchartButtonEl.style.display =\n",
              "        google.colab.kernel.accessAllowed ? 'block' : 'none';\n",
              "    })();\n",
              "  </script>\n",
              "</div>\n",
              "\n",
              "  <div id=\"id_34323c50-2aca-4737-a895-9f1629c3837d\">\n",
              "    <style>\n",
              "      .colab-df-generate {\n",
              "        background-color: #E8F0FE;\n",
              "        border: none;\n",
              "        border-radius: 50%;\n",
              "        cursor: pointer;\n",
              "        display: none;\n",
              "        fill: #1967D2;\n",
              "        height: 32px;\n",
              "        padding: 0 0 0 0;\n",
              "        width: 32px;\n",
              "      }\n",
              "\n",
              "      .colab-df-generate:hover {\n",
              "        background-color: #E2EBFA;\n",
              "        box-shadow: 0px 1px 2px rgba(60, 64, 67, 0.3), 0px 1px 3px 1px rgba(60, 64, 67, 0.15);\n",
              "        fill: #174EA6;\n",
              "      }\n",
              "\n",
              "      [theme=dark] .colab-df-generate {\n",
              "        background-color: #3B4455;\n",
              "        fill: #D2E3FC;\n",
              "      }\n",
              "\n",
              "      [theme=dark] .colab-df-generate:hover {\n",
              "        background-color: #434B5C;\n",
              "        box-shadow: 0px 1px 3px 1px rgba(0, 0, 0, 0.15);\n",
              "        filter: drop-shadow(0px 1px 2px rgba(0, 0, 0, 0.3));\n",
              "        fill: #FFFFFF;\n",
              "      }\n",
              "    </style>\n",
              "    <button class=\"colab-df-generate\" onclick=\"generateWithVariable('dataset')\"\n",
              "            title=\"Generate code using this dataframe.\"\n",
              "            style=\"display:none;\">\n",
              "\n",
              "  <svg xmlns=\"http://www.w3.org/2000/svg\" height=\"24px\"viewBox=\"0 0 24 24\"\n",
              "       width=\"24px\">\n",
              "    <path d=\"M7,19H8.4L18.45,9,17,7.55,7,17.6ZM5,21V16.75L18.45,3.32a2,2,0,0,1,2.83,0l1.4,1.43a1.91,1.91,0,0,1,.58,1.4,1.91,1.91,0,0,1-.58,1.4L9.25,21ZM18.45,9,17,7.55Zm-12,3A5.31,5.31,0,0,0,4.9,8.1,5.31,5.31,0,0,0,1,6.5,5.31,5.31,0,0,0,4.9,4.9,5.31,5.31,0,0,0,6.5,1,5.31,5.31,0,0,0,8.1,4.9,5.31,5.31,0,0,0,12,6.5,5.46,5.46,0,0,0,6.5,12Z\"/>\n",
              "  </svg>\n",
              "    </button>\n",
              "    <script>\n",
              "      (() => {\n",
              "      const buttonEl =\n",
              "        document.querySelector('#id_34323c50-2aca-4737-a895-9f1629c3837d button.colab-df-generate');\n",
              "      buttonEl.style.display =\n",
              "        google.colab.kernel.accessAllowed ? 'block' : 'none';\n",
              "\n",
              "      buttonEl.onclick = () => {\n",
              "        google.colab.notebook.generateWithVariable('dataset');\n",
              "      }\n",
              "      })();\n",
              "    </script>\n",
              "  </div>\n",
              "\n",
              "    </div>\n",
              "  </div>\n"
            ],
            "application/vnd.google.colaboratory.intrinsic+json": {
              "type": "dataframe",
              "variable_name": "dataset",
              "summary": "{\n  \"name\": \"dataset\",\n  \"rows\": 3333,\n  \"fields\": [\n    {\n      \"column\": \"Churn\",\n      \"properties\": {\n        \"dtype\": \"number\",\n        \"std\": 0,\n        \"min\": 0,\n        \"max\": 1,\n        \"num_unique_values\": 2,\n        \"samples\": [\n          1,\n          0\n        ],\n        \"semantic_type\": \"\",\n        \"description\": \"\"\n      }\n    },\n    {\n      \"column\": \"AccountWeeks\",\n      \"properties\": {\n        \"dtype\": \"number\",\n        \"std\": 39,\n        \"min\": 1,\n        \"max\": 243,\n        \"num_unique_values\": 212,\n        \"samples\": [\n          172,\n          189\n        ],\n        \"semantic_type\": \"\",\n        \"description\": \"\"\n      }\n    },\n    {\n      \"column\": \"ContractRenewal\",\n      \"properties\": {\n        \"dtype\": \"number\",\n        \"std\": 0,\n        \"min\": 0,\n        \"max\": 1,\n        \"num_unique_values\": 2,\n        \"samples\": [\n          0,\n          1\n        ],\n        \"semantic_type\": \"\",\n        \"description\": \"\"\n      }\n    },\n    {\n      \"column\": \"DataPlan\",\n      \"properties\": {\n        \"dtype\": \"number\",\n        \"std\": 0,\n        \"min\": 0,\n        \"max\": 1,\n        \"num_unique_values\": 2,\n        \"samples\": [\n          0,\n          1\n        ],\n        \"semantic_type\": \"\",\n        \"description\": \"\"\n      }\n    },\n    {\n      \"column\": \"DataUsage\",\n      \"properties\": {\n        \"dtype\": \"number\",\n        \"std\": 1.2726680386915497,\n        \"min\": 0.0,\n        \"max\": 5.4,\n        \"num_unique_values\": 174,\n        \"samples\": [\n          1.54,\n          3.65\n        ],\n        \"semantic_type\": \"\",\n        \"description\": \"\"\n      }\n    },\n    {\n      \"column\": \"CustServCalls\",\n      \"properties\": {\n        \"dtype\": \"number\",\n        \"std\": 1,\n        \"min\": 0,\n        \"max\": 9,\n        \"num_unique_values\": 10,\n        \"samples\": [\n          6,\n          0\n        ],\n        \"semantic_type\": \"\",\n        \"description\": \"\"\n      }\n    },\n    {\n      \"column\": \"DayMins\",\n      \"properties\": {\n        \"dtype\": \"number\",\n        \"std\": 54.46738920237137,\n        \"min\": 0.0,\n        \"max\": 350.8,\n        \"num_unique_values\": 1667,\n        \"samples\": [\n          87.6,\n          115.7\n        ],\n        \"semantic_type\": \"\",\n        \"description\": \"\"\n      }\n    },\n    {\n      \"column\": \"DayCalls\",\n      \"properties\": {\n        \"dtype\": \"number\",\n        \"std\": 20,\n        \"min\": 0,\n        \"max\": 165,\n        \"num_unique_values\": 119,\n        \"samples\": [\n          125,\n          59\n        ],\n        \"semantic_type\": \"\",\n        \"description\": \"\"\n      }\n    },\n    {\n      \"column\": \"MonthlyCharge\",\n      \"properties\": {\n        \"dtype\": \"number\",\n        \"std\": 16.42603169297468,\n        \"min\": 14.0,\n        \"max\": 111.3,\n        \"num_unique_values\": 627,\n        \"samples\": [\n          44.1,\n          40.3\n        ],\n        \"semantic_type\": \"\",\n        \"description\": \"\"\n      }\n    },\n    {\n      \"column\": \"OverageFee\",\n      \"properties\": {\n        \"dtype\": \"number\",\n        \"std\": 2.5357119078448953,\n        \"min\": 0.0,\n        \"max\": 18.19,\n        \"num_unique_values\": 1024,\n        \"samples\": [\n          12.51,\n          13.29\n        ],\n        \"semantic_type\": \"\",\n        \"description\": \"\"\n      }\n    },\n    {\n      \"column\": \"RoamMins\",\n      \"properties\": {\n        \"dtype\": \"number\",\n        \"std\": 2.791839548408416,\n        \"min\": 0.0,\n        \"max\": 20.0,\n        \"num_unique_values\": 162,\n        \"samples\": [\n          16.6,\n          14.8\n        ],\n        \"semantic_type\": \"\",\n        \"description\": \"\"\n      }\n    }\n  ]\n}"
            }
          },
          "metadata": {},
          "execution_count": 11
        }
      ]
    },
    {
      "cell_type": "code",
      "source": [
        "# usamos la libreria train_test_split que nos ayudara a separar el 80% y 20% de los datos.\n",
        "train_dataset, test_dataset = train_test_split(dataset, test_size=0.2)\n",
        "\n",
        "#Separamos en X_test los datos, pero dropeando (Y) 'target_class'\n",
        "X_test = test_dataset.drop(['Churn'], axis=1).values\n",
        "\n",
        "#Separamos en y_test los datos, pero solo cargando la columna de 'target_class', ya que esa sera nuestra y\n",
        "y_test = test_dataset['Churn'].values\n",
        "\n",
        "# tomamos train_dataset, seleccionamos las columnas para X_train y la columna 'target_class' para y_train\n",
        "X_train = train_dataset.drop(['Churn'], axis=1).values\n",
        "y_train = train_dataset['Churn'].values\n",
        "m_train = len(y_train)\n"
      ],
      "metadata": {
        "id": "f88ki3Bc7mRh"
      },
      "execution_count": 12,
      "outputs": []
    },
    {
      "cell_type": "markdown",
      "source": [
        "# NORMALIZACION"
      ],
      "metadata": {
        "id": "PH4NGRZhKWl8"
      }
    },
    {
      "cell_type": "code",
      "source": [
        "def  featureNormalize(X):\n",
        "    X_norm = X.copy()\n",
        "\n",
        "    #creamos un array de ceros con una longitud igual al número de columnas en el array X. La variable mu y sigma se inicializa como este array de ceros.\n",
        "    mu = np.zeros(X.shape[1])\n",
        "    sigma = np.zeros(X.shape[1])\n",
        "\n",
        "    #Creamos el promedio de cada columna de X\n",
        "    mu = np.mean(X, axis = 0)\n",
        "    sigma = np.std(X, axis = 0)\n",
        "\n",
        "    sigma[sigma == 0] = 1\n",
        "\n",
        "    #normalizamos los datos con la siguiente formula\n",
        "    X_norm = (X - mu) / sigma\n",
        "\n",
        "    return X_norm, mu, sigma\n"
      ],
      "metadata": {
        "id": "DPRYT17GKYMh"
      },
      "execution_count": 13,
      "outputs": []
    },
    {
      "cell_type": "markdown",
      "source": [
        "Añadiendo 1 a la columna 0 para para completar los theta\n"
      ],
      "metadata": {
        "id": "T6cFqU5RMGUg"
      }
    },
    {
      "cell_type": "code",
      "source": [
        "# Normalizar las características de entrenamiento\n",
        "X_norm, mu, sigma = featureNormalize(X_train)"
      ],
      "metadata": {
        "id": "80C6amDihVJ5"
      },
      "execution_count": 16,
      "outputs": []
    },
    {
      "cell_type": "code",
      "source": [
        "# Agregar columna de unos para la intersección\n",
        "X_ready = np.concatenate([np.ones((m_train, 1)), X_norm], axis=1)\n",
        "\n",
        "print(X_ready)"
      ],
      "metadata": {
        "colab": {
          "base_uri": "https://localhost:8080/"
        },
        "id": "yvDREuerMNuF",
        "outputId": "5e9d1770-3896-4ad7-ef0c-485789e2edae"
      },
      "execution_count": 17,
      "outputs": [
        {
          "output_type": "stream",
          "name": "stdout",
          "text": [
            "[[ 1.         -1.23657149  0.33776137 ...  1.484446    0.90274669\n",
            "   1.16897685]\n",
            " [ 1.         -0.07942878  0.33776137 ... -0.93739139 -0.8899998\n",
            "  -0.04683848]\n",
            " [ 1.         -0.15489461  0.33776137 ...  1.21535296  0.93828572\n",
            "   0.59682846]\n",
            " ...\n",
            " [ 1.         -0.78377652  0.33776137 ... -0.87011813 -0.35296561\n",
            "   0.09619862]\n",
            " [ 1.         -2.11700617  0.33776137 ... -0.62548809  0.25119785\n",
            "  -0.5832276 ]\n",
            " [ 1.         -1.41265843  0.33776137 ...  1.25816321  1.04095402\n",
            "  -0.90506107]]\n"
          ]
        }
      ]
    },
    {
      "cell_type": "markdown",
      "source": [
        "# **FUNCION SIGMOIDE**"
      ],
      "metadata": {
        "id": "fBjjwW5SH9lp"
      }
    },
    {
      "cell_type": "code",
      "source": [
        "def sigmoid(z):\n",
        "    # Calcula la sigmoide de una entrada z\n",
        "    # convierte la intrada a un arreglo numpy\n",
        "    z = np.array(z)\n",
        "\n",
        "    g = np.zeros(z.shape)\n",
        "\n",
        "    g = 1 / (1 + np.exp(-z))\n",
        "\n",
        "    return g"
      ],
      "metadata": {
        "id": "8p7sImIQ-B6e"
      },
      "execution_count": 18,
      "outputs": []
    },
    {
      "cell_type": "code",
      "source": [
        "print(sigmoid(0))"
      ],
      "metadata": {
        "colab": {
          "base_uri": "https://localhost:8080/"
        },
        "id": "CcCVENxE-2-1",
        "outputId": "a721ceba-ff50-4879-eb96-97c0cd674f78"
      },
      "execution_count": 19,
      "outputs": [
        {
          "output_type": "stream",
          "name": "stdout",
          "text": [
            "0.5\n"
          ]
        }
      ]
    },
    {
      "cell_type": "code",
      "source": [
        "z = [0, 0.5, 1]\n",
        "print(sigmoid(z))"
      ],
      "metadata": {
        "colab": {
          "base_uri": "https://localhost:8080/"
        },
        "id": "Z-OP4eIEtNpe",
        "outputId": "ceacd3f7-6dad-4f33-e70f-6dd8a8f1eb68"
      },
      "execution_count": 20,
      "outputs": [
        {
          "output_type": "stream",
          "name": "stdout",
          "text": [
            "[0.5        0.62245933 0.73105858]\n"
          ]
        }
      ]
    },
    {
      "cell_type": "markdown",
      "source": [
        "# DESCENSO POR EL **GRADIENTE**"
      ],
      "metadata": {
        "id": "q9BtP37xIM5d"
      }
    },
    {
      "cell_type": "markdown",
      "source": [
        "# CALCULO DEL **COSTO**"
      ],
      "metadata": {
        "id": "sBBmm6iVIb4O"
      }
    },
    {
      "cell_type": "code",
      "source": [
        "def calcularCosto(theta, X, y):\n",
        "    # Inicializar algunos valores utiles\n",
        "    m = y.size  # numero de ejemplos de entrenamiento\n",
        "\n",
        "    J = 0\n",
        "\n",
        "    #hacemos el uso de la funcion sigmoid\n",
        "    h = sigmoid(X.dot(theta.T))\n",
        "    J = (1 / m) * np.sum(-y.dot(np.log(h)) - (1 - y).dot(np.log(1 - h)))\n",
        "\n",
        "    return J"
      ],
      "metadata": {
        "id": "koqZHAK9IiN3"
      },
      "execution_count": 21,
      "outputs": []
    },
    {
      "cell_type": "code",
      "source": [
        "def descensoGradiente(theta, X, y, alpha, num_iters):\n",
        "    # Inicializa algunos valores\n",
        "    m = y.shape[0] # numero de ejemplos de entrenamiento\n",
        "\n",
        "    # realiza una copia de theta, el cual será acutalizada por el descenso por el gradiente\n",
        "    theta = theta.copy()\n",
        "    J_history = []\n",
        "\n",
        "    for i in range(num_iters):\n",
        "        h = sigmoid(X.dot(theta.T))\n",
        "        theta = theta - (alpha / m) * (h - y).dot(X)\n",
        "\n",
        "        J_history.append(calcularCosto(theta, X, y))\n",
        "    return theta, J_history"
      ],
      "metadata": {
        "id": "mMpmoLRbIo7r"
      },
      "execution_count": 22,
      "outputs": []
    },
    {
      "cell_type": "code",
      "source": [
        "#creamos un theta con 11 columnas de ceros\n",
        "theta = np.zeros(len(X_ready[0]))\n",
        "\n",
        "#numero de iteraciones sera 5000 y un alpha 0.009\n",
        "num_ite = 10000\n",
        "alpha = 0.003\n",
        "\n",
        "theta, J_historico = descensoGradiente(theta, X_ready, y_train, alpha, num_ite)\n",
        "\n",
        "print(\"########################################################################################################\")\n",
        "print(\"Los valores de theta calculados son:\")\n",
        "i = 0\n",
        "for tht in theta:\n",
        "    i += 1\n",
        "    print(f\"theta {i}: {tht}\")\n",
        "\n",
        "\n",
        "print(f\"########################################################################################################\")\n",
        "#mostramos el ultimo costo, este seria el mejor costo\n",
        "print(f\"con un costo de: { J_historico[-1]} \")\n"
      ],
      "metadata": {
        "colab": {
          "base_uri": "https://localhost:8080/"
        },
        "id": "3S-Ye0rLIyK5",
        "outputId": "58b71fb6-f144-4c20-c259-d14febccfc22"
      },
      "execution_count": 23,
      "outputs": [
        {
          "output_type": "stream",
          "name": "stdout",
          "text": [
            "########################################################################################################\n",
            "Los valores de theta calculados son:\n",
            "theta 1: -2.0408891775469136\n",
            "theta 2: -0.000722918862398198\n",
            "theta 3: -0.5217575539396042\n",
            "theta 4: -0.23997455495562672\n",
            "theta 5: -0.17238482515441197\n",
            "theta 6: 0.5916037519659632\n",
            "theta 7: 0.4441801339875496\n",
            "theta 8: 0.03959677453562269\n",
            "theta 9: 0.17714242126138985\n",
            "theta 10: 0.2397392306708586\n",
            "theta 11: 0.22013230002146514\n",
            "########################################################################################################\n",
            "con un costo de: 0.3289048799349165 \n"
          ]
        }
      ]
    },
    {
      "cell_type": "code",
      "source": [
        "pyplot.plot(np.arange(len(J_historico)), J_historico, lw=2)\n",
        "pyplot.title(\"Grafica de la convergencia del costo\")\n",
        "pyplot.xlabel('Numero de iteraciones')\n",
        "pyplot.ylabel('Costo J')"
      ],
      "metadata": {
        "colab": {
          "base_uri": "https://localhost:8080/",
          "height": 489
        },
        "id": "CTo5K44OVXX4",
        "outputId": "12016e62-822e-4a7a-b0c7-4dddd38b6d8e"
      },
      "execution_count": 24,
      "outputs": [
        {
          "output_type": "execute_result",
          "data": {
            "text/plain": [
              "Text(0, 0.5, 'Costo J')"
            ]
          },
          "metadata": {},
          "execution_count": 24
        },
        {
          "output_type": "display_data",
          "data": {
            "text/plain": [
              "<Figure size 640x480 with 1 Axes>"
            ],
            "image/png": "[encoded data removed]"
          },
          "metadata": {}
        }
      ]
    },
    {
      "cell_type": "code",
      "source": [
        "X_array = [1,128,1,1,2.7,1,265.1,110,89,9.87,10]\n",
        "X_array_copy = X_array.copy()\n",
        "\n",
        "# Se normalizan las características para la prueba utilizando mu y sigma calculados anteriormente, excluyendo el primer valor\n",
        "X_array[1:] = (X_array[1:] - mu) / sigma\n",
        "\n",
        "# Se calcula el resultado utilizando la función sigmoid y el producto punto entre X_array y theta\n",
        "resultados = sigmoid(np.dot(X_array, theta))\n",
        "\n",
        "# Se imprime el resultado\n",
        "print(f\"Un cliente de telecomunicaciones con las caracteristicas: {X_array_copy}\")\n",
        "print(f\"Tiene una probabilidad de abandono de la empresa {resultados * 100}%\")\n",
        "print(f\"Con valores de theta: {theta}\")\n"
      ],
      "metadata": {
        "colab": {
          "base_uri": "https://localhost:8080/"
        },
        "id": "7ffH-VRxW9_L",
        "outputId": "2f11f906-14ee-48d5-8138-ae3bd8e605a1"
      },
      "execution_count": 25,
      "outputs": [
        {
          "output_type": "stream",
          "name": "stdout",
          "text": [
            "Un cliente de telecomunicaciones con las caracteristicas: [1, 128, 1, 1, 2.7, 1, 265.1, 110, 89, 9.87, 10]\n",
            "Tiene una probabilidad de abandono de la empresa 11.034598418702085%\n",
            "Con valores de theta: [-2.04088918e+00 -7.22918862e-04 -5.21757554e-01 -2.39974555e-01\n",
            " -1.72384825e-01  5.91603752e-01  4.44180134e-01  3.95967745e-02\n",
            "  1.77142421e-01  2.39739231e-01  2.20132300e-01]\n"
          ]
        }
      ]
    },
    {
      "cell_type": "code",
      "source": [
        "X_array1 = [1,119,1,1,1,5,159.1,200,2,5.6,16]\n",
        "X_array_copy1 = X_array1.copy()\n",
        "\n",
        "# Se normalizan las características para la prueba utilizando mu y sigma calculados anteriormente, excluyendo el primer valor\n",
        "X_array1[1:] = (X_array1[1:] - mu) / sigma\n",
        "\n",
        "# Se calcula el resultado utilizando la función sigmoid y el producto punto entre X_array y theta\n",
        "resultados = sigmoid(np.dot(X_array1, theta))\n",
        "\n",
        "# Se imprime el resultado\n",
        "print(f\"Un cliente de telecomunicaciones con las caracteristicas: {X_array_copy1}\")\n",
        "print(f\"Tiene una probabilidad de abandono de la empresa {resultados * 100}%\")\n",
        "print(f\"Con valores de theta: {theta}\")"
      ],
      "metadata": {
        "colab": {
          "base_uri": "https://localhost:8080/"
        },
        "id": "e64CVHJbx1Hm",
        "outputId": "987f0a7d-7951-4d33-c51e-5594746f1042"
      },
      "execution_count": 26,
      "outputs": [
        {
          "output_type": "stream",
          "name": "stdout",
          "text": [
            "Un cliente de telecomunicaciones con las caracteristicas: [1, 119, 1, 1, 1, 5, 159.1, 200, 2, 5.6, 16]\n",
            "Tiene una probabilidad de abandono de la empresa 16.267458820486745%\n",
            "Con valores de theta: [-2.04088918e+00 -7.22918862e-04 -5.21757554e-01 -2.39974555e-01\n",
            " -1.72384825e-01  5.91603752e-01  4.44180134e-01  3.95967745e-02\n",
            "  1.77142421e-01  2.39739231e-01  2.20132300e-01]\n"
          ]
        }
      ]
    },
    {
      "cell_type": "code",
      "source": [
        "nombres_columnas = ['AccountWeeks','ContractRenewal','DataUsage','CustServCalls','DayMins','DayCalls','MonthlyCharge','OverageFee','RoamMins','int_n_r','tran_n','tran_n_r','rev_sum','rev_sum_r','major_spend_r','int_cat_n_avg','int_itm_n_avg','ses_mo_avg','ses_mo_sd','ses_ho_avg','ses_ho_sd','ses_wknd_r','ses_len_avg','time_to_int','time_to_tran','target_class','target_class 1/si 0/no'\n",
        "]\n",
        "\n",
        "import numpy as np\n",
        "\n",
        "matriz_datos = np.array([\n",
        "    [62, 1, 0, 0, 4, 321.1, 105, 78, 13.28, 11.5],\n",
        "    [117, 1, 0, 0.39, 5, 118.4, 126, 45.9, 12.47, 13.6],\n",
        "    [159, 1, 0, 0, 1, 169.8, 114, 46, 9.89, 11.6],\n",
        "    [78, 1, 0, 0.23, 2, 193.4, 99, 45.3, 5.85, 9.3],\n",
        "    [96, 1, 0, 0.36, 1, 106.6, 128, 46.6, 14.24, 14.9],\n",
        "    [79, 1, 0, 0, 2, 134.7, 98, 40, 9.49, 11.8],\n",
        "    [192, 1, 1, 2.67, 2, 156.2, 77, 71.7, 10.78, 9.9],\n",
        "    [68, 1, 0, 0.34, 3, 231.1, 57, 56.4, 7.67, 9.6],\n",
        "    [28, 1, 0, 0, 2, 180.8, 109, 56, 14.44, 14.1],\n",
        "    [184, 0, 0, 0, 2, 213.8, 105, 50, 7.98, 5],\n",
        "    [74, 1, 1, 3.7, 0, 234.4, 113, 100, 13.3, 13.7]\n",
        "])\n",
        "\n",
        "para_tabla = matriz_datos.copy()\n",
        "#creamos un vector parta almacenar cada Y predicha\n",
        "y_pre = []\n",
        "\n",
        "matriz_datos = (matriz_datos- mu) / sigma\n",
        "matriz_datos = np.concatenate([np.ones((len(matriz_datos), 1)), matriz_datos], axis=1)\n",
        "\n",
        "# Calculamos la Y predicha de los 11 ejemplos de prediccion\n",
        "# Calculamos la Y predicha de cada fila de la matriz\n",
        "for j in matriz_datos:\n",
        "    y_pre.append(sigmoid(np.dot(j, theta)))\n",
        "\n",
        "# Convertimos la lista a un array unidimensional\n",
        "\n",
        "y_pre = np.array(y_pre)\n",
        "\n",
        "# usamos umbral para definir si el cliente se queda o se va\n",
        "y_pre_umbral = (y_pre >= 0.5).astype(int)\n",
        "\n",
        "para_tabla = np.column_stack((para_tabla, y_pre))\n",
        "para_tabla = np.column_stack((para_tabla, y_pre_umbral))\n",
        "# Convertir la matriz en una lista de listas\n",
        "datos_para_tabla = para_tabla.tolist()\n",
        "\n",
        "# Imprimir la tabla\n",
        "print(tabulate(datos_para_tabla, headers=nombres_columnas, tablefmt='grid'))\n"
      ],
      "metadata": {
        "colab": {
          "base_uri": "https://localhost:8080/"
        },
        "id": "PhjKzy9u39em",
        "outputId": "4cc864f3-4aaa-4dd8-a4b6-961881c60efa"
      },
      "execution_count": 27,
      "outputs": [
        {
          "output_type": "stream",
          "name": "stdout",
          "text": [
            "+----------------+-------------------+-------------+-----------------+-----------+------------+-----------------+--------------+------------+-----------+-----------+------------+\n",
            "|   AccountWeeks |   ContractRenewal |   DataUsage |   CustServCalls |   DayMins |   DayCalls |   MonthlyCharge |   OverageFee |   RoamMins |   int_n_r |    tran_n |   tran_n_r |\n",
            "+================+===================+=============+=================+===========+============+=================+==============+============+===========+===========+============+\n",
            "|             62 |                 1 |           0 |            0    |         4 |      321.1 |             105 |         78   |      13.28 |      11.5 | 0.717177  |          1 |\n",
            "+----------------+-------------------+-------------+-----------------+-----------+------------+-----------------+--------------+------------+-----------+-----------+------------+\n",
            "|            117 |                 1 |           0 |            0.39 |         5 |      118.4 |             126 |         45.9 |      12.47 |      13.6 | 0.36304   |          0 |\n",
            "+----------------+-------------------+-------------+-----------------+-----------+------------+-----------------+--------------+------------+-----------+-----------+------------+\n",
            "|            159 |                 1 |           0 |            0    |         1 |      169.8 |             114 |         46   |       9.89 |      11.6 | 0.0914073 |          0 |\n",
            "+----------------+-------------------+-------------+-----------------+-----------+------------+-----------------+--------------+------------+-----------+-----------+------------+\n",
            "|             78 |                 1 |           0 |            0.23 |         2 |      193.4 |              99 |         45.3 |       5.85 |       9.3 | 0.0922181 |          0 |\n",
            "+----------------+-------------------+-------------+-----------------+-----------+------------+-----------------+--------------+------------+-----------+-----------+------------+\n",
            "|             96 |                 1 |           0 |            0.36 |         1 |      106.6 |             128 |         46.6 |      14.24 |      14.9 | 0.103546  |          0 |\n",
            "+----------------+-------------------+-------------+-----------------+-----------+------------+-----------------+--------------+------------+-----------+-----------+------------+\n",
            "|             79 |                 1 |           0 |            0    |         2 |      134.7 |              98 |         40   |       9.49 |      11.8 | 0.0947921 |          0 |\n",
            "+----------------+-------------------+-------------+-----------------+-----------+------------+-----------------+--------------+------------+-----------+-----------+------------+\n",
            "|            192 |                 1 |           1 |            2.67 |         2 |      156.2 |              77 |         71.7 |      10.78 |       9.9 | 0.0624721 |          0 |\n",
            "+----------------+-------------------+-------------+-----------------+-----------+------------+-----------------+--------------+------------+-----------+-----------+------------+\n",
            "|             68 |                 1 |           0 |            0.34 |         3 |      231.1 |              57 |         56.4 |       7.67 |       9.6 | 0.212078  |          0 |\n",
            "+----------------+-------------------+-------------+-----------------+-----------+------------+-----------------+--------------+------------+-----------+-----------+------------+\n",
            "|             28 |                 1 |           0 |            0    |         2 |      180.8 |             109 |         56   |      14.44 |      14.1 | 0.262796  |          0 |\n",
            "+----------------+-------------------+-------------+-----------------+-----------+------------+-----------------+--------------+------------+-----------+-----------+------------+\n",
            "|            184 |                 0 |           0 |            0    |         2 |      213.8 |             105 |         50   |       7.98 |       5   | 0.391097  |          0 |\n",
            "+----------------+-------------------+-------------+-----------------+-----------+------------+-----------------+--------------+------------+-----------+-----------+------------+\n",
            "|             74 |                 1 |           1 |            3.7  |         0 |      234.4 |             113 |        100   |      13.3  |      13.7 | 0.101562  |          0 |\n",
            "+----------------+-------------------+-------------+-----------------+-----------+------------+-----------------+--------------+------------+-----------+-----------+------------+\n"
          ]
        }
      ]
    },
    {
      "cell_type": "code",
      "source": [
        "# Normalizar el conjunto de prueba\n",
        "X_norm_test = (X_test - mu) / sigma\n",
        "m_test = len(X_test)\n"
      ],
      "metadata": {
        "id": "zBCdUr5xpYwb"
      },
      "execution_count": 29,
      "outputs": []
    },
    {
      "cell_type": "code",
      "source": [
        "# Agregar columna de unos al conjunto de prueba normalizado\n",
        "X_test_ready = np.concatenate([np.ones((m_test, 1)), X_norm_test], axis=1)\n",
        "# imprimir todos las X_norm de datos solo 10\n",
        "print('{:>8s}{:>8s}{:>10s}{:>10s}{:>8s}{:>8s}{:>8s}{:>8s}{:>6s}{:>10s}{:>10s}'.format(\n",
        "    'X[:,0]', 'X[:, 1]', 'X[:, 2]', 'X[:, 3]', 'X[:, 4]', 'X[:, 5]', 'X[:, 6]', 'X[:, 7]', 'X[:, 8]', 'X[:, 9]', 'X[:, 10]'\n",
        "))\n",
        "print('-' * 110)\n",
        "\n",
        "for i in range(10):\n",
        "    print('{:8.3f}{:8.3f}{:10.3f}{:10.3f}{:8.3f}{:8.3f}{:8.3f}{:8.3f}{:8.3f}{:10.3f}{:8.3f}'.format(\n",
        "    X_test_ready[i, 0], X_test_ready[i, 1], X_test_ready[i, 2], X_test_ready[i, 3], X_test_ready[i, 4], X_test_ready[i, 5], X_test_ready[i, 6],\n",
        "    X_test_ready[i, 7], X_test_ready[i, 8], X_test_ready[i, 9], X_test_ready[i, 10]\n",
        "    ))"
      ],
      "metadata": {
        "colab": {
          "base_uri": "https://localhost:8080/"
        },
        "id": "_C_OzAQorGob",
        "outputId": "98174cf6-d6de-4ef1-8b67-e31d4d260377"
      },
      "execution_count": 30,
      "outputs": [
        {
          "output_type": "stream",
          "name": "stdout",
          "text": [
            "  X[:,0] X[:, 1]   X[:, 2]   X[:, 3] X[:, 4] X[:, 5] X[:, 6] X[:, 7]X[:, 8]   X[:, 9]  X[:, 10]\n",
            "--------------------------------------------------------------------------------------------------------------\n",
            "   1.000  -1.111     0.338     1.627   1.731   0.313   0.254   0.243   1.637     0.595   0.311\n",
            "   1.000  -0.306     0.338     1.627   1.218  -0.441   0.559   0.644   1.484     0.954  -0.547\n",
            "   1.000   0.147     0.338     1.627   1.557  -0.441  -1.545  -0.860   0.218    -0.432   0.025\n",
            "   1.000  -0.130     0.338    -0.615  -0.636   0.313  -1.510  -0.008  -0.809     2.087  -0.941\n",
            "   1.000  -0.205     0.338     1.627   2.031   0.313  -0.795   0.644   1.014    -0.432   0.811\n",
            "   1.000  -1.262     0.338    -0.615  -0.636  -0.441   0.335  -2.013  -0.197     0.385  -0.476\n",
            "   1.000   1.354     0.338     1.627   2.220   0.313   1.189   0.594   2.017    -1.352   1.133\n",
            "   1.000   2.310     0.338     1.627   1.984  -0.441  -1.032   0.093   0.977     0.030   0.740\n",
            "   1.000  -0.910     0.338    -0.615  -0.376  -1.196   0.291   0.494  -0.240    -0.400  -0.476\n",
            "   1.000   0.776     0.338    -0.615  -0.463  -0.441  -1.784   0.494  -1.225     0.607  -0.941\n"
          ]
        }
      ]
    },
    {
      "cell_type": "code",
      "source": [
        "# Normaliza el conjunto de prueba usando la media y desviación estándar del conjunto de entrenamiento\n",
        "X_norm_test, _, _ = featureNormalize(X_test)\n",
        "\n",
        "# Agrega una columna de unos al conjunto de prueba normalizado\n",
        "X_test_ready = np.concatenate([np.ones((len(X_norm_test), 1)), X_norm_test], axis=1)\n",
        "\n",
        "# Realiza predicciones en el conjunto de prueba\n",
        "y_pred_test = sigmoid(np.dot(X_test_ready, theta))\n",
        "# Convierte las predicciones a valores binarios (0 o 1) usando un umbral de 0.5\n",
        "y_pred_test_bin = (y_pred_test >= 0.5).astype(int)\n",
        "\n",
        "# Calcula la precisión en el conjunto de prueba\n",
        "precision_test = np.mean(y_pred_test_bin == y_test) * 100\n",
        "\n",
        "print(f\"La precisión en el conjunto de prueba es: {precision_test:.2f}%\")"
      ],
      "metadata": {
        "colab": {
          "base_uri": "https://localhost:8080/"
        },
        "id": "dz4st6TYgH_5",
        "outputId": "981ab599-8dc7-4ed5-8f81-2303dbef007f"
      },
      "execution_count": 31,
      "outputs": [
        {
          "output_type": "stream",
          "name": "stdout",
          "text": [
            "La precisión en el conjunto de prueba es: 85.91%\n"
          ]
        }
      ]
    },
    {
      "cell_type": "markdown",
      "source": [
        "Calculo de Y predicha\n"
      ],
      "metadata": {
        "id": "zryPFnwssUCb"
      }
    },
    {
      "cell_type": "code",
      "source": [
        "y_predicha = []\n",
        "\n",
        "# Calculamos la Y predicha de cada fila de la matriz\n",
        "for dato in X_test_ready:\n",
        "    y_predicha.append(sigmoid(np.dot(dato, theta)))\n",
        "\n",
        "# Convertimos la lista a un array unidimensional\n",
        "y_predicha = np.array(y_predicha)\n",
        "\n",
        "# Usando el umbral donde todo aquello que sea >= 0.5 sera 1, y si es menor sera 0\n",
        "y_umbral = (y_predicha >= 0.5).astype(int)\n",
        "\n",
        "# Imprimir todos los datos de X y las predicciones\n",
        "print('{:>8s}{:>8s}{:>10s}{:>10s}{:>8s}{:>8s}{:>8s}{:>8s}{:>8s}{:>10s}{:>10s}{:>10s}'.format(\n",
        "    'X[:,0]', 'X[:, 1]', 'X[:, 2]', 'X[:, 3]', 'X[:, 4]', 'X[:, 5]', 'X[:, 6]', 'X[:, 7]', 'X[:, 8]', 'X[:, 9]', 'y_predicha', '(y) usando el umbral'\n",
        "))\n",
        "print('-' * 150)\n",
        "\n",
        "# Mostrando algunos datos\n",
        "for i in range(10):\n",
        "    print('{:8.3f}{:8.3f}{:10.3f}{:10.3f}{:8.3f}{:8.3f}{:8.3f}{:8.3f}{:8.3f}{:10.3f}{:10.3f}{:10d}'.format(\n",
        "        X_test_ready[i, 0], X_test_ready[i, 1], X_test_ready[i, 2], X_test_ready[i, 3], X_test_ready[i, 4], X_test_ready[i, 5], X_test_ready[i, 6],\n",
        "        X_test_ready[i, 7], X_test_ready[i, 8], X_test_ready[i, 9], y_predicha[i], y_umbral[i]\n",
        "    ))\n",
        "\n"
      ],
      "metadata": {
        "colab": {
          "base_uri": "https://localhost:8080/"
        },
        "id": "X0XMd3QLsX4j",
        "outputId": "8ff7839e-72db-436e-816e-b3c9634ae0a9"
      },
      "execution_count": 32,
      "outputs": [
        {
          "output_type": "stream",
          "name": "stdout",
          "text": [
            "  X[:,0] X[:, 1]   X[:, 2]   X[:, 3] X[:, 4] X[:, 5] X[:, 6] X[:, 7] X[:, 8]   X[:, 9]y_predicha(y) usando el umbral\n",
            "------------------------------------------------------------------------------------------------------------------------------------------------------\n",
            "   1.000  -1.091     0.285     1.579   1.658   0.415   0.237   0.167   1.579     0.636     0.119         0\n",
            "   1.000  -0.292     0.285     1.579   1.155  -0.373   0.531   0.557   1.430     0.993     0.086         0\n",
            "   1.000   0.157     0.285     1.579   1.488  -0.373  -1.488  -0.906   0.191    -0.386     0.022         0\n",
            "   1.000  -0.117     0.285    -0.633  -0.663   0.415  -1.454  -0.077  -0.815     2.121     0.102         0\n",
            "   1.000  -0.192     0.285     1.579   1.952   0.415  -0.768   0.557   0.969    -0.386     0.062         0\n",
            "   1.000  -1.240     0.285    -0.633  -0.663  -0.373   0.316  -2.028  -0.216     0.427     0.106         0\n",
            "   1.000   1.355     0.285     1.579   2.138   0.415   1.135   0.509   1.950    -1.301     0.132         0\n",
            "   1.000   2.304     0.285     1.579   1.906  -0.373  -0.996   0.021   0.933     0.074     0.039         0\n",
            "   1.000  -0.891     0.285    -0.633  -0.408  -1.161   0.273   0.411  -0.258    -0.354     0.060         0\n",
            "   1.000   0.781     0.285    -0.633  -0.493  -0.373  -1.717   0.411  -1.222     0.648     0.039         0\n"
          ]
        }
      ]
    },
    {
      "cell_type": "code",
      "source": [
        "print('Precisión de entrenamiento: {:.2f} %'.format(np.mean(y_umbral == y_test) * 100))"
      ],
      "metadata": {
        "colab": {
          "base_uri": "https://localhost:8080/"
        },
        "id": "ZPiUogOmt_e7",
        "outputId": "306e4817-d68a-4389-af93-4daedec2cd06"
      },
      "execution_count": null,
      "outputs": [
        {
          "output_type": "stream",
          "name": "stdout",
          "text": [
            "Precisión de entrenamiento: 87.26 %\n"
          ]
        }
      ]
    },
    {
      "cell_type": "code",
      "source": [
        "# Calcular la Y predicha para el conjunto de entrenamiento\n",
        "y_predicha_train = []\n",
        "for dato in X_ready:\n",
        "    y_predicha_train.append(sigmoid(np.dot(dato, theta)))\n",
        "\n",
        "# Convertir la lista de predicciones a un array unidimensional\n",
        "y_predicha_train = np.array(y_predicha_train)\n",
        "\n",
        "# Aplicar umbral para convertir las predicciones en valores binarios\n",
        "y_umbral_train = (y_predicha_train >= 0.5).astype(int)\n",
        "\n",
        "# Calcular la precisión en el conjunto de entrenamiento\n",
        "precision_train = np.mean(y_umbral_train == y_train) * 100\n",
        "\n",
        "# Imprimir las precisiones de los conjuntos de prueba y entrenamiento\n",
        "print(f\"La precisión en el conjunto de prueba es: {precision_test:.2f}%\")\n",
        "print(f\"La precisión en el conjunto de entrenamiento es: {precision_train:.2f}%\")"
      ],
      "metadata": {
        "colab": {
          "base_uri": "https://localhost:8080/"
        },
        "id": "xXU7Pmt_i7Va",
        "outputId": "f928dbd9-d196-4047-c3f8-01a2439bc91d"
      },
      "execution_count": 33,
      "outputs": [
        {
          "output_type": "stream",
          "name": "stdout",
          "text": [
            "La precisión en el conjunto de prueba es: 85.91%\n",
            "La precisión en el conjunto de entrenamiento es: 86.08%\n"
          ]
        }
      ]
    }
  ]
}